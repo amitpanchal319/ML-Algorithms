{
 "cells": [
  {
   "cell_type": "code",
   "execution_count": 1,
   "id": "62011ad3",
   "metadata": {},
   "outputs": [],
   "source": [
    "import pandas as pd \n",
    "import matplotlib.pyplot as plt\n",
    "import numpy as np \n",
    "import seaborn as sns \n",
    "import warnings \n",
    "warnings.filterwarnings('ignore')\n"
   ]
  },
  {
   "cell_type": "code",
   "execution_count": 2,
   "id": "fd94938e",
   "metadata": {},
   "outputs": [],
   "source": [
    "x = np.linspace(-6.0, 6.0, 100)\n",
    "y = np.sqrt(10**2, x**2)\n",
    "y = np.hstack([y,-y])\n",
    "x = np.hstack([x, -x])"
   ]
  },
  {
   "cell_type": "code",
   "execution_count": 3,
   "id": "cc82ab66",
   "metadata": {},
   "outputs": [],
   "source": [
    "x1 = np.linspace(-6.0, 6.0, 100)\n",
    "y1 = np.sqrt(4**2 - x1**2)\n",
    "y1 = np.hstack([y1,-y1])\n",
    "x1 = np.hstack([x1, -x1])"
   ]
  },
  {
   "cell_type": "code",
   "execution_count": 4,
   "id": "73764d19",
   "metadata": {},
   "outputs": [
    {
     "data": {
      "text/plain": [
       "<matplotlib.collections.PathCollection at 0x2c72d941310>"
      ]
     },
     "execution_count": 4,
     "metadata": {},
     "output_type": "execute_result"
    },
    {
     "data": {
      "image/png": "[encoded data removed]",
      "text/plain": [
       "<Figure size 640x480 with 1 Axes>"
      ]
     },
     "metadata": {},
     "output_type": "display_data"
    }
   ],
   "source": [
    "plt.scatter(y,x)\n",
    "plt.scatter(y1,x1)"
   ]
  },
  {
   "cell_type": "code",
   "execution_count": 10,
   "id": "59fea182",
   "metadata": {},
   "outputs": [
    {
     "data": {
      "text/html": [
       "<div>\n",
       "<style scoped>\n",
       "    .dataframe tbody tr th:only-of-type {\n",
       "        vertical-align: middle;\n",
       "    }\n",
       "\n",
       "    .dataframe tbody tr th {\n",
       "        vertical-align: top;\n",
       "    }\n",
       "\n",
       "    .dataframe thead th {\n",
       "        text-align: right;\n",
       "    }\n",
       "</style>\n",
       "<table border=\"1\" class=\"dataframe\">\n",
       "  <thead>\n",
       "    <tr style=\"text-align: right;\">\n",
       "      <th></th>\n",
       "      <th>X1</th>\n",
       "      <th>X2</th>\n",
       "      <th>Y</th>\n",
       "    </tr>\n",
       "  </thead>\n",
       "  <tbody>\n",
       "    <tr>\n",
       "      <th>0</th>\n",
       "      <td>10.0</td>\n",
       "      <td>-6.000000</td>\n",
       "      <td>0</td>\n",
       "    </tr>\n",
       "    <tr>\n",
       "      <th>1</th>\n",
       "      <td>10.0</td>\n",
       "      <td>-5.878788</td>\n",
       "      <td>0</td>\n",
       "    </tr>\n",
       "    <tr>\n",
       "      <th>2</th>\n",
       "      <td>10.0</td>\n",
       "      <td>-5.757576</td>\n",
       "      <td>0</td>\n",
       "    </tr>\n",
       "    <tr>\n",
       "      <th>3</th>\n",
       "      <td>10.0</td>\n",
       "      <td>-5.636364</td>\n",
       "      <td>0</td>\n",
       "    </tr>\n",
       "    <tr>\n",
       "      <th>4</th>\n",
       "      <td>10.0</td>\n",
       "      <td>-5.515152</td>\n",
       "      <td>0</td>\n",
       "    </tr>\n",
       "  </tbody>\n",
       "</table>\n",
       "</div>"
      ],
      "text/plain": [
       "     X1        X2  Y\n",
       "0  10.0 -6.000000  0\n",
       "1  10.0 -5.878788  0\n",
       "2  10.0 -5.757576  0\n",
       "3  10.0 -5.636364  0\n",
       "4  10.0 -5.515152  0"
      ]
     },
     "execution_count": 10,
     "metadata": {},
     "output_type": "execute_result"
    }
   ],
   "source": [
    "df1 = pd.DataFrame(np.vstack([y,x]).T, columns=['X1', \"X2\"])\n",
    "df1['Y'] = 0\n",
    "df2 = pd.DataFrame(np.vstack([y1,x1]).T, columns=['X1', \"X2\"])\n",
    "df2['Y']=1\n",
    "df = pd.concat([df1, df2], ignore_index=True)\n",
    "df.head(5)"
   ]
  },
  {
   "cell_type": "code",
   "execution_count": 11,
   "id": "6ca4a84b",
   "metadata": {},
   "outputs": [],
   "source": [
    "df1 = df.copy()"
   ]
  },
  {
   "cell_type": "code",
   "execution_count": 56,
   "id": "3b50d4be",
   "metadata": {},
   "outputs": [],
   "source": [
    "df1 = df1.dropna()"
   ]
  },
  {
   "cell_type": "code",
   "execution_count": null,
   "id": "07d6b4f1",
   "metadata": {},
   "outputs": [],
   "source": []
  },
  {
   "cell_type": "code",
   "execution_count": 57,
   "id": "384cb0d0",
   "metadata": {},
   "outputs": [
    {
     "data": {
      "text/html": [
       "<div>\n",
       "<style scoped>\n",
       "    .dataframe tbody tr th:only-of-type {\n",
       "        vertical-align: middle;\n",
       "    }\n",
       "\n",
       "    .dataframe tbody tr th {\n",
       "        vertical-align: top;\n",
       "    }\n",
       "\n",
       "    .dataframe thead th {\n",
       "        text-align: right;\n",
       "    }\n",
       "</style>\n",
       "<table border=\"1\" class=\"dataframe\">\n",
       "  <thead>\n",
       "    <tr style=\"text-align: right;\">\n",
       "      <th></th>\n",
       "      <th>X1</th>\n",
       "      <th>X2</th>\n",
       "      <th>Y</th>\n",
       "      <th>x1square</th>\n",
       "      <th>x2square</th>\n",
       "      <th>x1x2</th>\n",
       "    </tr>\n",
       "  </thead>\n",
       "  <tbody>\n",
       "    <tr>\n",
       "      <th>0</th>\n",
       "      <td>10.0</td>\n",
       "      <td>-6.000000</td>\n",
       "      <td>0</td>\n",
       "      <td>100.0</td>\n",
       "      <td>36.000000</td>\n",
       "      <td>-60.000000</td>\n",
       "    </tr>\n",
       "    <tr>\n",
       "      <th>1</th>\n",
       "      <td>10.0</td>\n",
       "      <td>-5.878788</td>\n",
       "      <td>0</td>\n",
       "      <td>100.0</td>\n",
       "      <td>34.560147</td>\n",
       "      <td>-58.787879</td>\n",
       "    </tr>\n",
       "    <tr>\n",
       "      <th>2</th>\n",
       "      <td>10.0</td>\n",
       "      <td>-5.757576</td>\n",
       "      <td>0</td>\n",
       "      <td>100.0</td>\n",
       "      <td>33.149679</td>\n",
       "      <td>-57.575758</td>\n",
       "    </tr>\n",
       "    <tr>\n",
       "      <th>3</th>\n",
       "      <td>10.0</td>\n",
       "      <td>-5.636364</td>\n",
       "      <td>0</td>\n",
       "      <td>100.0</td>\n",
       "      <td>31.768595</td>\n",
       "      <td>-56.363636</td>\n",
       "    </tr>\n",
       "    <tr>\n",
       "      <th>4</th>\n",
       "      <td>10.0</td>\n",
       "      <td>-5.515152</td>\n",
       "      <td>0</td>\n",
       "      <td>100.0</td>\n",
       "      <td>30.416896</td>\n",
       "      <td>-55.151515</td>\n",
       "    </tr>\n",
       "  </tbody>\n",
       "</table>\n",
       "</div>"
      ],
      "text/plain": [
       "     X1        X2  Y  x1square   x2square       x1x2\n",
       "0  10.0 -6.000000  0     100.0  36.000000 -60.000000\n",
       "1  10.0 -5.878788  0     100.0  34.560147 -58.787879\n",
       "2  10.0 -5.757576  0     100.0  33.149679 -57.575758\n",
       "3  10.0 -5.636364  0     100.0  31.768595 -56.363636\n",
       "4  10.0 -5.515152  0     100.0  30.416896 -55.151515"
      ]
     },
     "execution_count": 57,
     "metadata": {},
     "output_type": "execute_result"
    }
   ],
   "source": [
    "df1['x1square']=df['X1']**2\n",
    "df1['x2square']=df['X2']**2\n",
    "df1['x1x2'] = df1['X1']*df1['X2']\n",
    "df1.head()"
   ]
  },
  {
   "cell_type": "code",
   "execution_count": 58,
   "id": "f7b7c214",
   "metadata": {},
   "outputs": [],
   "source": [
    "x =df1[['x1square', 'x2square', 'x1x2']]\n",
    "y = df1['Y']"
   ]
  },
  {
   "cell_type": "code",
   "execution_count": 59,
   "id": "e7cd4ac9",
   "metadata": {},
   "outputs": [],
   "source": [
    "from sklearn.model_selection import train_test_split\n",
    "X_train, X_test, y_train, y_test = train_test_split(x, y, test_size=0.30, random_state=1)"
   ]
  },
  {
   "cell_type": "code",
   "execution_count": 60,
   "id": "8cbe9789",
   "metadata": {},
   "outputs": [
    {
     "data": {
      "text/html": [
       "<div>\n",
       "<style scoped>\n",
       "    .dataframe tbody tr th:only-of-type {\n",
       "        vertical-align: middle;\n",
       "    }\n",
       "\n",
       "    .dataframe tbody tr th {\n",
       "        vertical-align: top;\n",
       "    }\n",
       "\n",
       "    .dataframe thead th {\n",
       "        text-align: right;\n",
       "    }\n",
       "</style>\n",
       "<table border=\"1\" class=\"dataframe\">\n",
       "  <thead>\n",
       "    <tr style=\"text-align: right;\">\n",
       "      <th></th>\n",
       "      <th>x1square</th>\n",
       "      <th>x2square</th>\n",
       "      <th>x1x2</th>\n",
       "    </tr>\n",
       "  </thead>\n",
       "  <tbody>\n",
       "    <tr>\n",
       "      <th>365</th>\n",
       "      <td>12.470156</td>\n",
       "      <td>3.529844</td>\n",
       "      <td>6.634584</td>\n",
       "    </tr>\n",
       "    <tr>\n",
       "      <th>17</th>\n",
       "      <td>100.000000</td>\n",
       "      <td>15.518825</td>\n",
       "      <td>-39.393939</td>\n",
       "    </tr>\n",
       "    <tr>\n",
       "      <th>267</th>\n",
       "      <td>11.500459</td>\n",
       "      <td>4.499541</td>\n",
       "      <td>7.193524</td>\n",
       "    </tr>\n",
       "    <tr>\n",
       "      <th>235</th>\n",
       "      <td>12.910927</td>\n",
       "      <td>3.089073</td>\n",
       "      <td>-6.315282</td>\n",
       "    </tr>\n",
       "    <tr>\n",
       "      <th>88</th>\n",
       "      <td>100.000000</td>\n",
       "      <td>21.777778</td>\n",
       "      <td>46.666667</td>\n",
       "    </tr>\n",
       "  </tbody>\n",
       "</table>\n",
       "</div>"
      ],
      "text/plain": [
       "       x1square   x2square       x1x2\n",
       "365   12.470156   3.529844   6.634584\n",
       "17   100.000000  15.518825 -39.393939\n",
       "267   11.500459   4.499541   7.193524\n",
       "235   12.910927   3.089073  -6.315282\n",
       "88   100.000000  21.777778  46.666667"
      ]
     },
     "execution_count": 60,
     "metadata": {},
     "output_type": "execute_result"
    }
   ],
   "source": [
    "X_train.head()"
   ]
  },
  {
   "cell_type": "code",
   "execution_count": 61,
   "id": "a821f8e8",
   "metadata": {},
   "outputs": [
    {
     "name": "stdout",
     "output_type": "stream",
     "text": [
      "Requirement already satisfied: plotly in c:\\users\\sqyuser\\anaconda3\\lib\\site-packages (5.9.0)\n",
      "Requirement already satisfied: tenacity>=6.2.0 in c:\\users\\sqyuser\\anaconda3\\lib\\site-packages (from plotly) (8.2.2)\n"
     ]
    }
   ],
   "source": [
    "!pip install plotly"
   ]
  },
  {
   "cell_type": "code",
   "execution_count": 62,
   "id": "c88865b3",
   "metadata": {},
   "outputs": [],
   "source": [
    "import plotly.express as px"
   ]
  },
  {
   "cell_type": "code",
   "execution_count": 63,
   "id": "57e340d5",
   "metadata": {},
   "outputs": [
    {
     "data": {
      "application/vnd.plotly.v1+json": {
       "config": {
        "plotlyServerURL": "https://plot.ly"
       },
       "data": [
        {
         "hovertemplate": "x1square=%{x}<br>x2square=%{y}<br>x1x2=%{z}<br>Y=%{marker.color}<extra></extra>",
         "legendgroup": "",
         "marker": {
          "color": [
           0,
           0,
           0,
           0,
           0,
           0,
           0,
           0,
           0,
           0,
           0,
           0,
           0,
           0,
           0,
           0,
           0,
           0,
           0,
           0,
           0,
           0,
           0,
           0,
           0,
           0,
           0,
           0,
           0,
           0,
           0,
           0,
           0,
           0,
           0,
           0,
           0,
           0,
           0,
           0,
           0,
           0,
           0,
           0,
           0,
           0,
           0,
           0,
           0,
           0,
           0,
           0,
           0,
           0,
           0,
           0,
           0,
           0,
           0,
           0,
           0,
           0,
           0,
           0,
           0,
           0,
           0,
           0,
           0,
           0,
           0,
           0,
           0,
           0,
           0,
           0,
           0,
           0,
           0,
           0,
           0,
           0,
           0,
           0,
           0,
           0,
           0,
           0,
           0,
           0,
           0,
           0,
           0,
           0,
           0,
           0,
           0,
           0,
           0,
           0,
           0,
           0,
           0,
           0,
           0,
           0,
           0,
           0,
           0,
           0,
           0,
           0,
           0,
           0,
           0,
           0,
           0,
           0,
           0,
           0,
           0,
           0,
           0,
           0,
           0,
           0,
           0,
           0,
           0,
           0,
           0,
           0,
           0,
           0,
           0,
           0,
           0,
           0,
           0,
           0,
           0,
           0,
           0,
           0,
           0,
           0,
           0,
           0,
           0,
           0,
           0,
           0,
           0,
           0,
           0,
           0,
           0,
           0,
           0,
           0,
           0,
           0,
           0,
           0,
           0,
           0,
           0,
           0,
           0,
           0,
           0,
           0,
           0,
           0,
           0,
           0,
           0,
           0,
           0,
           0,
           0,
           0,
           0,
           0,
           0,
           0,
           0,
           0,
           0,
           0,
           0,
           0,
           0,
           0,
           0,
           0,
           0,
           0,
           0,
           0,
           1,
           1,
           1,
           1,
           1,
           1,
           1,
           1,
           1,
           1,
           1,
           1,
           1,
           1,
           1,
           1,
           1,
           1,
           1,
           1,
           1,
           1,
           1,
           1,
           1,
           1,
           1,
           1,
           1,
           1,
           1,
           1,
           1,
           1,
           1,
           1,
           1,
           1,
           1,
           1,
           1,
           1,
           1,
           1,
           1,
           1,
           1,
           1,
           1,
           1,
           1,
           1,
           1,
           1,
           1,
           1,
           1,
           1,
           1,
           1,
           1,
           1,
           1,
           1,
           1,
           1,
           1,
           1,
           1,
           1,
           1,
           1,
           1,
           1,
           1,
           1,
           1,
           1,
           1,
           1,
           1,
           1,
           1,
           1,
           1,
           1,
           1,
           1,
           1,
           1,
           1,
           1,
           1,
           1,
           1,
           1,
           1,
           1,
           1,
           1,
           1,
           1,
           1,
           1,
           1,
           1,
           1,
           1,
           1,
           1,
           1,
           1,
           1,
           1,
           1,
           1,
           1,
           1,
           1,
           1,
           1,
           1,
           1,
           1,
           1,
           1,
           1,
           1,
           1,
           1,
           1,
           1
          ],
          "coloraxis": "coloraxis",
          "symbol": "circle"
         },
         "mode": "markers",
         "name": "",
         "scene": "scene",
         "showlegend": false,
         "type": "scatter3d",
         "x": [
          100,
          100,
          100,
          100,
          100,
          100,
          100,
          100,
          100,
          100,
          100,
          100,
          100,
          100,
          100,
          100,
          100,
          100,
          100,
          100,
          100,
          100,
          100,
          100,
          100,
          100,
          100,
          100,
          100,
          100,
          100,
          100,
          100,
          100,
          100,
          100,
          100,
          100,
          100,
          100,
          100,
          100,
          100,
          100,
          100,
          100,
          100,
          100,
          100,
          100,
          100,
          100,
          100,
          100,
          100,
          100,
          100,
          100,
          100,
          100,
          100,
          100,
          100,
          100,
          100,
          100,
          100,
          100,
          100,
          100,
          100,
          100,
          100,
          100,
          100,
          100,
          100,
          100,
          100,
          100,
          100,
          100,
          100,
          100,
          100,
          100,
          100,
          100,
          100,
          100,
          100,
          100,
          100,
          100,
          100,
          100,
          100,
          100,
          100,
          100,
          100,
          100,
          100,
          100,
          100,
          100,
          100,
          100,
          100,
          100,
          100,
          100,
          100,
          100,
          100,
          100,
          100,
          100,
          100,
          100,
          100,
          100,
          100,
          100,
          100,
          100,
          100,
          100,
          100,
          100,
          100,
          100,
          100,
          100,
          100,
          100,
          100,
          100,
          100,
          100,
          100,
          100,
          100,
          100,
          100,
          100,
          100,
          100,
          100,
          100,
          100,
          100,
          100,
          100,
          100,
          100,
          100,
          100,
          100,
          100,
          100,
          100,
          100,
          100,
          100,
          100,
          100,
          100,
          100,
          100,
          100,
          100,
          100,
          100,
          100,
          100,
          100,
          100,
          100,
          100,
          100,
          100,
          100,
          100,
          100,
          100,
          100,
          100,
          100,
          100,
          100,
          100,
          100,
          100,
          100,
          100,
          100,
          100,
          100,
          100,
          0.4811753902662996,
          1.421487603305783,
          2.3324150596877886,
          3.2139577594123057,
          4.066115702479338,
          4.88888888888889,
          5.682277318640956,
          6.446280991735539,
          7.180899908172636,
          7.8861340679522485,
          8.561983471074381,
          9.208448117539028,
          9.82552800734619,
          10.413223140495868,
          10.971533516988064,
          11.500459136822773,
          11.999999999999998,
          12.470156106519743,
          12.910927456382,
          13.322314049586776,
          13.704315886134069,
          14.056932966023876,
          14.3801652892562,
          14.674012855831037,
          14.938475665748392,
          15.173553719008265,
          15.37924701561065,
          15.555555555555555,
          15.702479338842974,
          15.820018365472913,
          15.908172635445363,
          15.966942148760328,
          15.996326905417817,
          15.996326905417817,
          15.966942148760328,
          15.908172635445363,
          15.82001836547291,
          15.702479338842974,
          15.555555555555555,
          15.37924701561065,
          15.173553719008265,
          14.938475665748392,
          14.674012855831037,
          14.380165289256196,
          14.056932966023874,
          13.704315886134069,
          13.322314049586776,
          12.910927456382,
          12.470156106519743,
          11.999999999999998,
          11.500459136822773,
          10.971533516988064,
          10.413223140495868,
          9.825528007346193,
          9.20844811753903,
          8.561983471074383,
          7.886134067952243,
          7.180899908172631,
          6.446280991735532,
          5.682277318640952,
          4.888888888888886,
          4.066115702479334,
          3.2139577594123026,
          2.332415059687784,
          1.421487603305783,
          0.4811753902662996,
          0.4811753902662996,
          1.421487603305783,
          2.3324150596877886,
          3.2139577594123057,
          4.066115702479338,
          4.88888888888889,
          5.682277318640956,
          6.446280991735539,
          7.180899908172636,
          7.8861340679522485,
          8.561983471074381,
          9.208448117539028,
          9.82552800734619,
          10.413223140495868,
          10.971533516988064,
          11.500459136822773,
          11.999999999999998,
          12.470156106519743,
          12.910927456382,
          13.322314049586776,
          13.704315886134069,
          14.056932966023876,
          14.3801652892562,
          14.674012855831037,
          14.938475665748392,
          15.173553719008265,
          15.37924701561065,
          15.555555555555555,
          15.702479338842974,
          15.820018365472913,
          15.908172635445363,
          15.966942148760328,
          15.996326905417817,
          15.996326905417817,
          15.966942148760328,
          15.908172635445363,
          15.82001836547291,
          15.702479338842974,
          15.555555555555555,
          15.37924701561065,
          15.173553719008265,
          14.938475665748392,
          14.674012855831037,
          14.380165289256196,
          14.056932966023874,
          13.704315886134069,
          13.322314049586776,
          12.910927456382,
          12.470156106519743,
          11.999999999999998,
          11.500459136822773,
          10.971533516988064,
          10.413223140495868,
          9.825528007346193,
          9.20844811753903,
          8.561983471074383,
          7.886134067952243,
          7.180899908172631,
          6.446280991735532,
          5.682277318640952,
          4.888888888888886,
          4.066115702479334,
          3.2139577594123026,
          2.332415059687784,
          1.421487603305783,
          0.4811753902662996
         ],
         "y": [
          36,
          34.560146923783286,
          33.149678604224064,
          31.768595041322317,
          30.41689623507806,
          29.094582185491273,
          27.801652892561982,
          26.538108356290174,
          25.30394857667585,
          24.09917355371901,
          22.923783287419653,
          21.77777777777777,
          20.661157024793383,
          19.57392102846648,
          18.516069788797058,
          17.48760330578512,
          16.48852157943067,
          15.5188246097337,
          14.578512396694217,
          13.667584940312212,
          12.786042240587694,
          11.933884297520661,
          11.111111111111109,
          10.317722681359044,
          9.553719008264462,
          8.819100091827364,
          8.113865932047752,
          7.438016528925619,
          6.791551882460973,
          6.174471992653811,
          5.5867768595041305,
          5.028466483011937,
          4.499540863177226,
          4,
          3.5298438934802574,
          3.089072543617999,
          2.677685950413224,
          2.2956841138659305,
          1.943067033976124,
          1.6198347107438011,
          1.3259871441689621,
          1.061524334251607,
          0.8264462809917357,
          0.6207529843893483,
          0.44444444444444364,
          0.29752066115702425,
          0.17998163452708876,
          0.09182736455463712,
          0.03305785123966936,
          0.0036730945821854847,
          0.0036730945821854847,
          0.03305785123966936,
          0.09182736455463712,
          0.1799816345270895,
          0.29752066115702525,
          0.44444444444444486,
          0.6207529843893483,
          0.8264462809917357,
          1.061524334251607,
          1.3259871441689621,
          1.6198347107438034,
          1.9430670339761265,
          2.295684113865933,
          2.677685950413224,
          3.089072543617999,
          3.5298438934802574,
          4,
          4.499540863177226,
          5.028466483011937,
          5.5867768595041305,
          6.1744719926538085,
          6.79155188246097,
          7.438016528925616,
          8.113865932047757,
          8.81910009182737,
          9.553719008264467,
          10.317722681359049,
          11.111111111111114,
          11.933884297520665,
          12.786042240587697,
          13.667584940312215,
          14.578512396694217,
          15.5188246097337,
          16.48852157943067,
          17.48760330578512,
          18.516069788797058,
          19.57392102846648,
          20.661157024793383,
          21.77777777777779,
          22.92378328741966,
          24.09917355371902,
          25.303948576675857,
          26.53810835629018,
          27.80165289256199,
          29.094582185491284,
          30.41689623507806,
          31.768595041322317,
          33.149678604224064,
          34.560146923783286,
          36,
          36,
          34.560146923783286,
          33.149678604224064,
          31.768595041322317,
          30.41689623507806,
          29.094582185491273,
          27.801652892561982,
          26.538108356290174,
          25.30394857667585,
          24.09917355371901,
          22.923783287419653,
          21.77777777777777,
          20.661157024793383,
          19.57392102846648,
          18.516069788797058,
          17.48760330578512,
          16.48852157943067,
          15.5188246097337,
          14.578512396694217,
          13.667584940312212,
          12.786042240587694,
          11.933884297520661,
          11.111111111111109,
          10.317722681359044,
          9.553719008264462,
          8.819100091827364,
          8.113865932047752,
          7.438016528925619,
          6.791551882460973,
          6.174471992653811,
          5.5867768595041305,
          5.028466483011937,
          4.499540863177226,
          4,
          3.5298438934802574,
          3.089072543617999,
          2.677685950413224,
          2.2956841138659305,
          1.943067033976124,
          1.6198347107438011,
          1.3259871441689621,
          1.061524334251607,
          0.8264462809917357,
          0.6207529843893483,
          0.44444444444444364,
          0.29752066115702425,
          0.17998163452708876,
          0.09182736455463712,
          0.03305785123966936,
          0.0036730945821854847,
          0.0036730945821854847,
          0.03305785123966936,
          0.09182736455463712,
          0.1799816345270895,
          0.29752066115702525,
          0.44444444444444486,
          0.6207529843893483,
          0.8264462809917357,
          1.061524334251607,
          1.3259871441689621,
          1.6198347107438034,
          1.9430670339761265,
          2.295684113865933,
          2.677685950413224,
          3.089072543617999,
          3.5298438934802574,
          4,
          4.499540863177226,
          5.028466483011937,
          5.5867768595041305,
          6.1744719926538085,
          6.79155188246097,
          7.438016528925616,
          8.113865932047757,
          8.81910009182737,
          9.553719008264467,
          10.317722681359049,
          11.111111111111114,
          11.933884297520665,
          12.786042240587697,
          13.667584940312215,
          14.578512396694217,
          15.5188246097337,
          16.48852157943067,
          17.48760330578512,
          18.516069788797058,
          19.57392102846648,
          20.661157024793383,
          21.77777777777779,
          22.92378328741966,
          24.09917355371902,
          25.303948576675857,
          26.53810835629018,
          27.80165289256199,
          29.094582185491284,
          30.41689623507806,
          31.768595041322317,
          33.149678604224064,
          34.560146923783286,
          36,
          15.5188246097337,
          14.578512396694217,
          13.667584940312212,
          12.786042240587694,
          11.933884297520661,
          11.111111111111109,
          10.317722681359044,
          9.553719008264462,
          8.819100091827364,
          8.113865932047752,
          7.438016528925619,
          6.791551882460973,
          6.174471992653811,
          5.5867768595041305,
          5.028466483011937,
          4.499540863177226,
          4,
          3.5298438934802574,
          3.089072543617999,
          2.677685950413224,
          2.2956841138659305,
          1.943067033976124,
          1.6198347107438011,
          1.3259871441689621,
          1.061524334251607,
          0.8264462809917357,
          0.6207529843893483,
          0.44444444444444364,
          0.29752066115702425,
          0.17998163452708876,
          0.09182736455463712,
          0.03305785123966936,
          0.0036730945821854847,
          0.0036730945821854847,
          0.03305785123966936,
          0.09182736455463712,
          0.1799816345270895,
          0.29752066115702525,
          0.44444444444444486,
          0.6207529843893483,
          0.8264462809917357,
          1.061524334251607,
          1.3259871441689621,
          1.6198347107438034,
          1.9430670339761265,
          2.295684113865933,
          2.677685950413224,
          3.089072543617999,
          3.5298438934802574,
          4,
          4.499540863177226,
          5.028466483011937,
          5.5867768595041305,
          6.1744719926538085,
          6.79155188246097,
          7.438016528925616,
          8.113865932047757,
          8.81910009182737,
          9.553719008264467,
          10.317722681359049,
          11.111111111111114,
          11.933884297520665,
          12.786042240587697,
          13.667584940312215,
          14.578512396694217,
          15.5188246097337,
          15.5188246097337,
          14.578512396694217,
          13.667584940312212,
          12.786042240587694,
          11.933884297520661,
          11.111111111111109,
          10.317722681359044,
          9.553719008264462,
          8.819100091827364,
          8.113865932047752,
          7.438016528925619,
          6.791551882460973,
          6.174471992653811,
          5.5867768595041305,
          5.028466483011937,
          4.499540863177226,
          4,
          3.5298438934802574,
          3.089072543617999,
          2.677685950413224,
          2.2956841138659305,
          1.943067033976124,
          1.6198347107438011,
          1.3259871441689621,
          1.061524334251607,
          0.8264462809917357,
          0.6207529843893483,
          0.44444444444444364,
          0.29752066115702425,
          0.17998163452708876,
          0.09182736455463712,
          0.03305785123966936,
          0.0036730945821854847,
          0.0036730945821854847,
          0.03305785123966936,
          0.09182736455463712,
          0.1799816345270895,
          0.29752066115702525,
          0.44444444444444486,
          0.6207529843893483,
          0.8264462809917357,
          1.061524334251607,
          1.3259871441689621,
          1.6198347107438034,
          1.9430670339761265,
          2.295684113865933,
          2.677685950413224,
          3.089072543617999,
          3.5298438934802574,
          4,
          4.499540863177226,
          5.028466483011937,
          5.5867768595041305,
          6.1744719926538085,
          6.79155188246097,
          7.438016528925616,
          8.113865932047757,
          8.81910009182737,
          9.553719008264467,
          10.317722681359049,
          11.111111111111114,
          11.933884297520665,
          12.786042240587697,
          13.667584940312215,
          14.578512396694217,
          15.5188246097337
         ],
         "z": [
          -60,
          -58.78787878787879,
          -57.57575757575758,
          -56.36363636363637,
          -55.151515151515156,
          -53.93939393939394,
          -52.72727272727273,
          -51.515151515151516,
          -50.303030303030305,
          -49.09090909090909,
          -47.87878787878788,
          -46.66666666666666,
          -45.45454545454545,
          -44.242424242424235,
          -43.03030303030303,
          -41.81818181818181,
          -40.60606060606061,
          -39.39393939393939,
          -38.18181818181819,
          -36.96969696969697,
          -35.75757575757576,
          -34.54545454545455,
          -33.33333333333333,
          -32.12121212121212,
          -30.909090909090907,
          -29.696969696969695,
          -28.484848484848484,
          -27.27272727272727,
          -26.06060606060606,
          -24.848484848484848,
          -23.636363636363633,
          -22.424242424242422,
          -21.21212121212121,
          -20,
          -18.78787878787879,
          -17.575757575757578,
          -16.363636363636367,
          -15.151515151515147,
          -13.939393939393936,
          -12.727272727272725,
          -11.515151515151514,
          -10.303030303030303,
          -9.090909090909092,
          -7.878787878787881,
          -6.666666666666661,
          -5.45454545454545,
          -4.242424242424239,
          -3.0303030303030276,
          -1.8181818181818166,
          -0.6060606060606055,
          0.6060606060606055,
          1.8181818181818166,
          3.0303030303030276,
          4.2424242424242475,
          5.454545454545459,
          6.66666666666667,
          7.878787878787881,
          9.090909090909092,
          10.303030303030303,
          11.515151515151514,
          12.727272727272734,
          13.939393939393945,
          15.151515151515156,
          16.363636363636367,
          17.575757575757578,
          18.78787878787879,
          20,
          21.21212121212121,
          22.424242424242422,
          23.636363636363633,
          24.848484848484844,
          26.060606060606055,
          27.272727272727266,
          28.484848484848495,
          29.696969696969706,
          30.909090909090917,
          32.121212121212125,
          33.33333333333334,
          34.54545454545455,
          35.757575757575765,
          36.96969696969697,
          38.18181818181819,
          39.39393939393939,
          40.60606060606061,
          41.81818181818181,
          43.03030303030303,
          44.242424242424235,
          45.45454545454545,
          46.66666666666668,
          47.87878787878789,
          49.0909090909091,
          50.30303030303031,
          51.51515151515152,
          52.727272727272734,
          53.939393939393945,
          55.151515151515156,
          56.36363636363637,
          57.57575757575758,
          58.78787878787879,
          60,
          -60,
          -58.78787878787879,
          -57.57575757575758,
          -56.36363636363637,
          -55.151515151515156,
          -53.93939393939394,
          -52.72727272727273,
          -51.515151515151516,
          -50.303030303030305,
          -49.09090909090909,
          -47.87878787878788,
          -46.66666666666666,
          -45.45454545454545,
          -44.242424242424235,
          -43.03030303030303,
          -41.81818181818181,
          -40.60606060606061,
          -39.39393939393939,
          -38.18181818181819,
          -36.96969696969697,
          -35.75757575757576,
          -34.54545454545455,
          -33.33333333333333,
          -32.12121212121212,
          -30.909090909090907,
          -29.696969696969695,
          -28.484848484848484,
          -27.27272727272727,
          -26.06060606060606,
          -24.848484848484848,
          -23.636363636363633,
          -22.424242424242422,
          -21.21212121212121,
          -20,
          -18.78787878787879,
          -17.575757575757578,
          -16.363636363636367,
          -15.151515151515147,
          -13.939393939393936,
          -12.727272727272725,
          -11.515151515151514,
          -10.303030303030303,
          -9.090909090909092,
          -7.878787878787881,
          -6.666666666666661,
          -5.45454545454545,
          -4.242424242424239,
          -3.0303030303030276,
          -1.8181818181818166,
          -0.6060606060606055,
          0.6060606060606055,
          1.8181818181818166,
          3.0303030303030276,
          4.2424242424242475,
          5.454545454545459,
          6.66666666666667,
          7.878787878787881,
          9.090909090909092,
          10.303030303030303,
          11.515151515151514,
          12.727272727272734,
          13.939393939393945,
          15.151515151515156,
          16.363636363636367,
          17.575757575757578,
          18.78787878787879,
          20,
          21.21212121212121,
          22.424242424242422,
          23.636363636363633,
          24.848484848484844,
          26.060606060606055,
          27.272727272727266,
          28.484848484848495,
          29.696969696969706,
          30.909090909090917,
          32.121212121212125,
          33.33333333333334,
          34.54545454545455,
          35.757575757575765,
          36.96969696969697,
          38.18181818181819,
          39.39393939393939,
          40.60606060606061,
          41.81818181818181,
          43.03030303030303,
          44.242424242424235,
          45.45454545454545,
          46.66666666666668,
          47.87878787878789,
          49.0909090909091,
          50.30303030303031,
          51.51515151515152,
          52.727272727272734,
          53.939393939393945,
          55.151515151515156,
          56.36363636363637,
          57.57575757575758,
          58.78787878787879,
          60,
          -2.7326317878673057,
          -4.552271372242708,
          -5.646103164514994,
          -6.410444576728694,
          -6.965956813943104,
          -7.370277311900889,
          -7.65690287076399,
          -7.847672090713124,
          -7.957956712597047,
          -7.999189618300024,
          -7.980236498891445,
          -7.9082016379968705,
          -7.7889310880501865,
          -7.62734253027719,
          -7.427650271614607,
          -7.193523881341742,
          -6.928203230275509,
          -6.6345839646012665,
          -6.31528237833855,
          -5.972685590048351,
          -5.608991020780697,
          -5.226237943788362,
          -4.82633306784461,
          -4.411071570514588,
          -3.982154622288968,
          -3.541204179442736,
          -3.089775636288384,
          -2.629368792488716,
          -2.161437492664795,
          -1.6873982232023292,
          -1.2086378977978243,
          -0.7265210239945749,
          -0.24239641435293155,
          0.24239641435293155,
          0.7265210239945749,
          1.2086378977978243,
          1.6873982232023326,
          2.1614374926647986,
          2.6293687924887195,
          3.089775636288384,
          3.541204179442736,
          3.982154622288968,
          4.411071570514588,
          4.826333067844613,
          5.226237943788365,
          5.6089910207807,
          5.972685590048351,
          6.31528237833855,
          6.6345839646012665,
          6.928203230275509,
          7.193523881341742,
          7.427650271614607,
          7.62734253027719,
          7.788931088050186,
          7.9082016379968705,
          7.980236498891445,
          7.999189618300024,
          7.957956712597047,
          7.8476720907131226,
          7.6569028707639895,
          7.370277311900888,
          6.9659568139431025,
          6.4104445767286915,
          5.646103164514989,
          4.552271372242708,
          2.7326317878673057,
          -2.7326317878673057,
          -4.552271372242708,
          -5.646103164514994,
          -6.410444576728694,
          -6.965956813943104,
          -7.370277311900889,
          -7.65690287076399,
          -7.847672090713124,
          -7.957956712597047,
          -7.999189618300024,
          -7.980236498891445,
          -7.9082016379968705,
          -7.7889310880501865,
          -7.62734253027719,
          -7.427650271614607,
          -7.193523881341742,
          -6.928203230275509,
          -6.6345839646012665,
          -6.31528237833855,
          -5.972685590048351,
          -5.608991020780697,
          -5.226237943788362,
          -4.82633306784461,
          -4.411071570514588,
          -3.982154622288968,
          -3.541204179442736,
          -3.089775636288384,
          -2.629368792488716,
          -2.161437492664795,
          -1.6873982232023292,
          -1.2086378977978243,
          -0.7265210239945749,
          -0.24239641435293155,
          0.24239641435293155,
          0.7265210239945749,
          1.2086378977978243,
          1.6873982232023326,
          2.1614374926647986,
          2.6293687924887195,
          3.089775636288384,
          3.541204179442736,
          3.982154622288968,
          4.411071570514588,
          4.826333067844613,
          5.226237943788365,
          5.6089910207807,
          5.972685590048351,
          6.31528237833855,
          6.6345839646012665,
          6.928203230275509,
          7.193523881341742,
          7.427650271614607,
          7.62734253027719,
          7.788931088050186,
          7.9082016379968705,
          7.980236498891445,
          7.999189618300024,
          7.957956712597047,
          7.8476720907131226,
          7.6569028707639895,
          7.370277311900888,
          6.9659568139431025,
          6.4104445767286915,
          5.646103164514989,
          4.552271372242708,
          2.7326317878673057
         ]
        }
       ],
       "layout": {
        "coloraxis": {
         "colorbar": {
          "title": {
           "text": "Y"
          }
         },
         "colorscale": [
          [
           0,
           "#0d0887"
          ],
          [
           0.1111111111111111,
           "#46039f"
          ],
          [
           0.2222222222222222,
           "#7201a8"
          ],
          [
           0.3333333333333333,
           "#9c179e"
          ],
          [
           0.4444444444444444,
           "#bd3786"
          ],
          [
           0.5555555555555556,
           "#d8576b"
          ],
          [
           0.6666666666666666,
           "#ed7953"
          ],
          [
           0.7777777777777778,
           "#fb9f3a"
          ],
          [
           0.8888888888888888,
           "#fdca26"
          ],
          [
           1,
           "#f0f921"
          ]
         ]
        },
        "legend": {
         "tracegroupgap": 0
        },
        "margin": {
         "t": 60
        },
        "scene": {
         "domain": {
          "x": [
           0,
           1
          ],
          "y": [
           0,
           1
          ]
         },
         "xaxis": {
          "title": {
           "text": "x1square"
          }
         },
         "yaxis": {
          "title": {
           "text": "x2square"
          }
         },
         "zaxis": {
          "title": {
           "text": "x1x2"
          }
         }
        },
        "template": {
         "data": {
          "bar": [
           {
            "error_x": {
             "color": "#2a3f5f"
            },
            "error_y": {
             "color": "#2a3f5f"
            },
            "marker": {
             "line": {
              "color": "#E5ECF6",
              "width": 0.5
             },
             "pattern": {
              "fillmode": "overlay",
              "size": 10,
              "solidity": 0.2
             }
            },
            "type": "bar"
           }
          ],
          "barpolar": [
           {
            "marker": {
             "line": {
              "color": "#E5ECF6",
              "width": 0.5
             },
             "pattern": {
              "fillmode": "overlay",
              "size": 10,
              "solidity": 0.2
             }
            },
            "type": "barpolar"
           }
          ],
          "carpet": [
           {
            "aaxis": {
             "endlinecolor": "#2a3f5f",
             "gridcolor": "white",
             "linecolor": "white",
             "minorgridcolor": "white",
             "startlinecolor": "#2a3f5f"
            },
            "baxis": {
             "endlinecolor": "#2a3f5f",
             "gridcolor": "white",
             "linecolor": "white",
             "minorgridcolor": "white",
             "startlinecolor": "#2a3f5f"
            },
            "type": "carpet"
           }
          ],
          "choropleth": [
           {
            "colorbar": {
             "outlinewidth": 0,
             "ticks": ""
            },
            "type": "choropleth"
           }
          ],
          "contour": [
           {
            "colorbar": {
             "outlinewidth": 0,
             "ticks": ""
            },
            "colorscale": [
             [
              0,
              "#0d0887"
             ],
             [
              0.1111111111111111,
              "#46039f"
             ],
             [
              0.2222222222222222,
              "#7201a8"
             ],
             [
              0.3333333333333333,
              "#9c179e"
             ],
             [
              0.4444444444444444,
              "#bd3786"
             ],
             [
              0.5555555555555556,
              "#d8576b"
             ],
             [
              0.6666666666666666,
              "#ed7953"
             ],
             [
              0.7777777777777778,
              "#fb9f3a"
             ],
             [
              0.8888888888888888,
              "#fdca26"
             ],
             [
              1,
              "#f0f921"
             ]
            ],
            "type": "contour"
           }
          ],
          "contourcarpet": [
           {
            "colorbar": {
             "outlinewidth": 0,
             "ticks": ""
            },
            "type": "contourcarpet"
           }
          ],
          "heatmap": [
           {
            "colorbar": {
             "outlinewidth": 0,
             "ticks": ""
            },
            "colorscale": [
             [
              0,
              "#0d0887"
             ],
             [
              0.1111111111111111,
              "#46039f"
             ],
             [
              0.2222222222222222,
              "#7201a8"
             ],
             [
              0.3333333333333333,
              "#9c179e"
             ],
             [
              0.4444444444444444,
              "#bd3786"
             ],
             [
              0.5555555555555556,
              "#d8576b"
             ],
             [
              0.6666666666666666,
              "#ed7953"
             ],
             [
              0.7777777777777778,
              "#fb9f3a"
             ],
             [
              0.8888888888888888,
              "#fdca26"
             ],
             [
              1,
              "#f0f921"
             ]
            ],
            "type": "heatmap"
           }
          ],
          "heatmapgl": [
           {
            "colorbar": {
             "outlinewidth": 0,
             "ticks": ""
            },
            "colorscale": [
             [
              0,
              "#0d0887"
             ],
             [
              0.1111111111111111,
              "#46039f"
             ],
             [
              0.2222222222222222,
              "#7201a8"
             ],
             [
              0.3333333333333333,
              "#9c179e"
             ],
             [
              0.4444444444444444,
              "#bd3786"
             ],
             [
              0.5555555555555556,
              "#d8576b"
             ],
             [
              0.6666666666666666,
              "#ed7953"
             ],
             [
              0.7777777777777778,
              "#fb9f3a"
             ],
             [
              0.8888888888888888,
              "#fdca26"
             ],
             [
              1,
              "#f0f921"
             ]
            ],
            "type": "heatmapgl"
           }
          ],
          "histogram": [
           {
            "marker": {
             "pattern": {
              "fillmode": "overlay",
              "size": 10,
              "solidity": 0.2
             }
            },
            "type": "histogram"
           }
          ],
          "histogram2d": [
           {
            "colorbar": {
             "outlinewidth": 0,
             "ticks": ""
            },
            "colorscale": [
             [
              0,
              "#0d0887"
             ],
             [
              0.1111111111111111,
              "#46039f"
             ],
             [
              0.2222222222222222,
              "#7201a8"
             ],
             [
              0.3333333333333333,
              "#9c179e"
             ],
             [
              0.4444444444444444,
              "#bd3786"
             ],
             [
              0.5555555555555556,
              "#d8576b"
             ],
             [
              0.6666666666666666,
              "#ed7953"
             ],
             [
              0.7777777777777778,
              "#fb9f3a"
             ],
             [
              0.8888888888888888,
              "#fdca26"
             ],
             [
              1,
              "#f0f921"
             ]
            ],
            "type": "histogram2d"
           }
          ],
          "histogram2dcontour": [
           {
            "colorbar": {
             "outlinewidth": 0,
             "ticks": ""
            },
            "colorscale": [
             [
              0,
              "#0d0887"
             ],
             [
              0.1111111111111111,
              "#46039f"
             ],
             [
              0.2222222222222222,
              "#7201a8"
             ],
             [
              0.3333333333333333,
              "#9c179e"
             ],
             [
              0.4444444444444444,
              "#bd3786"
             ],
             [
              0.5555555555555556,
              "#d8576b"
             ],
             [
              0.6666666666666666,
              "#ed7953"
             ],
             [
              0.7777777777777778,
              "#fb9f3a"
             ],
             [
              0.8888888888888888,
              "#fdca26"
             ],
             [
              1,
              "#f0f921"
             ]
            ],
            "type": "histogram2dcontour"
           }
          ],
          "mesh3d": [
           {
            "colorbar": {
             "outlinewidth": 0,
             "ticks": ""
            },
            "type": "mesh3d"
           }
          ],
          "parcoords": [
           {
            "line": {
             "colorbar": {
              "outlinewidth": 0,
              "ticks": ""
             }
            },
            "type": "parcoords"
           }
          ],
          "pie": [
           {
            "automargin": true,
            "type": "pie"
           }
          ],
          "scatter": [
           {
            "fillpattern": {
             "fillmode": "overlay",
             "size": 10,
             "solidity": 0.2
            },
            "type": "scatter"
           }
          ],
          "scatter3d": [
           {
            "line": {
             "colorbar": {
              "outlinewidth": 0,
              "ticks": ""
             }
            },
            "marker": {
             "colorbar": {
              "outlinewidth": 0,
              "ticks": ""
             }
            },
            "type": "scatter3d"
           }
          ],
          "scattercarpet": [
           {
            "marker": {
             "colorbar": {
              "outlinewidth": 0,
              "ticks": ""
             }
            },
            "type": "scattercarpet"
           }
          ],
          "scattergeo": [
           {
            "marker": {
             "colorbar": {
              "outlinewidth": 0,
              "ticks": ""
             }
            },
            "type": "scattergeo"
           }
          ],
          "scattergl": [
           {
            "marker": {
             "colorbar": {
              "outlinewidth": 0,
              "ticks": ""
             }
            },
            "type": "scattergl"
           }
          ],
          "scattermapbox": [
           {
            "marker": {
             "colorbar": {
              "outlinewidth": 0,
              "ticks": ""
             }
            },
            "type": "scattermapbox"
           }
          ],
          "scatterpolar": [
           {
            "marker": {
             "colorbar": {
              "outlinewidth": 0,
              "ticks": ""
             }
            },
            "type": "scatterpolar"
           }
          ],
          "scatterpolargl": [
           {
            "marker": {
             "colorbar": {
              "outlinewidth": 0,
              "ticks": ""
             }
            },
            "type": "scatterpolargl"
           }
          ],
          "scatterternary": [
           {
            "marker": {
             "colorbar": {
              "outlinewidth": 0,
              "ticks": ""
             }
            },
            "type": "scatterternary"
           }
          ],
          "surface": [
           {
            "colorbar": {
             "outlinewidth": 0,
             "ticks": ""
            },
            "colorscale": [
             [
              0,
              "#0d0887"
             ],
             [
              0.1111111111111111,
              "#46039f"
             ],
             [
              0.2222222222222222,
              "#7201a8"
             ],
             [
              0.3333333333333333,
              "#9c179e"
             ],
             [
              0.4444444444444444,
              "#bd3786"
             ],
             [
              0.5555555555555556,
              "#d8576b"
             ],
             [
              0.6666666666666666,
              "#ed7953"
             ],
             [
              0.7777777777777778,
              "#fb9f3a"
             ],
             [
              0.8888888888888888,
              "#fdca26"
             ],
             [
              1,
              "#f0f921"
             ]
            ],
            "type": "surface"
           }
          ],
          "table": [
           {
            "cells": {
             "fill": {
              "color": "#EBF0F8"
             },
             "line": {
              "color": "white"
             }
            },
            "header": {
             "fill": {
              "color": "#C8D4E3"
             },
             "line": {
              "color": "white"
             }
            },
            "type": "table"
           }
          ]
         },
         "layout": {
          "annotationdefaults": {
           "arrowcolor": "#2a3f5f",
           "arrowhead": 0,
           "arrowwidth": 1
          },
          "autotypenumbers": "strict",
          "coloraxis": {
           "colorbar": {
            "outlinewidth": 0,
            "ticks": ""
           }
          },
          "colorscale": {
           "diverging": [
            [
             0,
             "#8e0152"
            ],
            [
             0.1,
             "#c51b7d"
            ],
            [
             0.2,
             "#de77ae"
            ],
            [
             0.3,
             "#f1b6da"
            ],
            [
             0.4,
             "#fde0ef"
            ],
            [
             0.5,
             "#f7f7f7"
            ],
            [
             0.6,
             "#e6f5d0"
            ],
            [
             0.7,
             "#b8e186"
            ],
            [
             0.8,
             "#7fbc41"
            ],
            [
             0.9,
             "#4d9221"
            ],
            [
             1,
             "#276419"
            ]
           ],
           "sequential": [
            [
             0,
             "#0d0887"
            ],
            [
             0.1111111111111111,
             "#46039f"
            ],
            [
             0.2222222222222222,
             "#7201a8"
            ],
            [
             0.3333333333333333,
             "#9c179e"
            ],
            [
             0.4444444444444444,
             "#bd3786"
            ],
            [
             0.5555555555555556,
             "#d8576b"
            ],
            [
             0.6666666666666666,
             "#ed7953"
            ],
            [
             0.7777777777777778,
             "#fb9f3a"
            ],
            [
             0.8888888888888888,
             "#fdca26"
            ],
            [
             1,
             "#f0f921"
            ]
           ],
           "sequentialminus": [
            [
             0,
             "#0d0887"
            ],
            [
             0.1111111111111111,
             "#46039f"
            ],
            [
             0.2222222222222222,
             "#7201a8"
            ],
            [
             0.3333333333333333,
             "#9c179e"
            ],
            [
             0.4444444444444444,
             "#bd3786"
            ],
            [
             0.5555555555555556,
             "#d8576b"
            ],
            [
             0.6666666666666666,
             "#ed7953"
            ],
            [
             0.7777777777777778,
             "#fb9f3a"
            ],
            [
             0.8888888888888888,
             "#fdca26"
            ],
            [
             1,
             "#f0f921"
            ]
           ]
          },
          "colorway": [
           "#636efa",
           "#EF553B",
           "#00cc96",
           "#ab63fa",
           "#FFA15A",
           "#19d3f3",
           "#FF6692",
           "#B6E880",
           "#FF97FF",
           "#FECB52"
          ],
          "font": {
           "color": "#2a3f5f"
          },
          "geo": {
           "bgcolor": "white",
           "lakecolor": "white",
           "landcolor": "#E5ECF6",
           "showlakes": true,
           "showland": true,
           "subunitcolor": "white"
          },
          "hoverlabel": {
           "align": "left"
          },
          "hovermode": "closest",
          "mapbox": {
           "style": "light"
          },
          "paper_bgcolor": "white",
          "plot_bgcolor": "#E5ECF6",
          "polar": {
           "angularaxis": {
            "gridcolor": "white",
            "linecolor": "white",
            "ticks": ""
           },
           "bgcolor": "#E5ECF6",
           "radialaxis": {
            "gridcolor": "white",
            "linecolor": "white",
            "ticks": ""
           }
          },
          "scene": {
           "xaxis": {
            "backgroundcolor": "#E5ECF6",
            "gridcolor": "white",
            "gridwidth": 2,
            "linecolor": "white",
            "showbackground": true,
            "ticks": "",
            "zerolinecolor": "white"
           },
           "yaxis": {
            "backgroundcolor": "#E5ECF6",
            "gridcolor": "white",
            "gridwidth": 2,
            "linecolor": "white",
            "showbackground": true,
            "ticks": "",
            "zerolinecolor": "white"
           },
           "zaxis": {
            "backgroundcolor": "#E5ECF6",
            "gridcolor": "white",
            "gridwidth": 2,
            "linecolor": "white",
            "showbackground": true,
            "ticks": "",
            "zerolinecolor": "white"
           }
          },
          "shapedefaults": {
           "line": {
            "color": "#2a3f5f"
           }
          },
          "ternary": {
           "aaxis": {
            "gridcolor": "white",
            "linecolor": "white",
            "ticks": ""
           },
           "baxis": {
            "gridcolor": "white",
            "linecolor": "white",
            "ticks": ""
           },
           "bgcolor": "#E5ECF6",
           "caxis": {
            "gridcolor": "white",
            "linecolor": "white",
            "ticks": ""
           }
          },
          "title": {
           "x": 0.05
          },
          "xaxis": {
           "automargin": true,
           "gridcolor": "white",
           "linecolor": "white",
           "ticks": "",
           "title": {
            "standoff": 15
           },
           "zerolinecolor": "white",
           "zerolinewidth": 2
          },
          "yaxis": {
           "automargin": true,
           "gridcolor": "white",
           "linecolor": "white",
           "ticks": "",
           "title": {
            "standoff": 15
           },
           "zerolinecolor": "white",
           "zerolinewidth": 2
          }
         }
        }
       }
      },
      "text/html": [
       "<div>                            <div id=\"df955d52-d541-493a-ba90-308e5365e77f\" class=\"plotly-graph-div\" style=\"height:525px; width:100%;\"></div>            <script type=\"text/javascript\">                require([\"plotly\"], function(Plotly) {                    window.PLOTLYENV=window.PLOTLYENV || {};                                    if (document.getElementById(\"df955d52-d541-493a-ba90-308e5365e77f\")) {                    Plotly.newPlot(                        \"df955d52-d541-493a-ba90-308e5365e77f\",                        [{\"hovertemplate\":\"x1square=%{x}<br>x2square=%{y}<br>x1x2=%{z}<br>Y=%{marker.color}<extra></extra>\",\"legendgroup\":\"\",\"marker\":{\"color\":[0,0,0,0,0,0,0,0,0,0,0,0,0,0,0,0,0,0,0,0,0,0,0,0,0,0,0,0,0,0,0,0,0,0,0,0,0,0,0,0,0,0,0,0,0,0,0,0,0,0,0,0,0,0,0,0,0,0,0,0,0,0,0,0,0,0,0,0,0,0,0,0,0,0,0,0,0,0,0,0,0,0,0,0,0,0,0,0,0,0,0,0,0,0,0,0,0,0,0,0,0,0,0,0,0,0,0,0,0,0,0,0,0,0,0,0,0,0,0,0,0,0,0,0,0,0,0,0,0,0,0,0,0,0,0,0,0,0,0,0,0,0,0,0,0,0,0,0,0,0,0,0,0,0,0,0,0,0,0,0,0,0,0,0,0,0,0,0,0,0,0,0,0,0,0,0,0,0,0,0,0,0,0,0,0,0,0,0,0,0,0,0,0,0,0,0,0,0,0,0,1,1,1,1,1,1,1,1,1,1,1,1,1,1,1,1,1,1,1,1,1,1,1,1,1,1,1,1,1,1,1,1,1,1,1,1,1,1,1,1,1,1,1,1,1,1,1,1,1,1,1,1,1,1,1,1,1,1,1,1,1,1,1,1,1,1,1,1,1,1,1,1,1,1,1,1,1,1,1,1,1,1,1,1,1,1,1,1,1,1,1,1,1,1,1,1,1,1,1,1,1,1,1,1,1,1,1,1,1,1,1,1,1,1,1,1,1,1,1,1,1,1,1,1,1,1,1,1,1,1,1,1],\"coloraxis\":\"coloraxis\",\"symbol\":\"circle\"},\"mode\":\"markers\",\"name\":\"\",\"scene\":\"scene\",\"showlegend\":false,\"x\":[100.0,100.0,100.0,100.0,100.0,100.0,100.0,100.0,100.0,100.0,100.0,100.0,100.0,100.0,100.0,100.0,100.0,100.0,100.0,100.0,100.0,100.0,100.0,100.0,100.0,100.0,100.0,100.0,100.0,100.0,100.0,100.0,100.0,100.0,100.0,100.0,100.0,100.0,100.0,100.0,100.0,100.0,100.0,100.0,100.0,100.0,100.0,100.0,100.0,100.0,100.0,100.0,100.0,100.0,100.0,100.0,100.0,100.0,100.0,100.0,100.0,100.0,100.0,100.0,100.0,100.0,100.0,100.0,100.0,100.0,100.0,100.0,100.0,100.0,100.0,100.0,100.0,100.0,100.0,100.0,100.0,100.0,100.0,100.0,100.0,100.0,100.0,100.0,100.0,100.0,100.0,100.0,100.0,100.0,100.0,100.0,100.0,100.0,100.0,100.0,100.0,100.0,100.0,100.0,100.0,100.0,100.0,100.0,100.0,100.0,100.0,100.0,100.0,100.0,100.0,100.0,100.0,100.0,100.0,100.0,100.0,100.0,100.0,100.0,100.0,100.0,100.0,100.0,100.0,100.0,100.0,100.0,100.0,100.0,100.0,100.0,100.0,100.0,100.0,100.0,100.0,100.0,100.0,100.0,100.0,100.0,100.0,100.0,100.0,100.0,100.0,100.0,100.0,100.0,100.0,100.0,100.0,100.0,100.0,100.0,100.0,100.0,100.0,100.0,100.0,100.0,100.0,100.0,100.0,100.0,100.0,100.0,100.0,100.0,100.0,100.0,100.0,100.0,100.0,100.0,100.0,100.0,100.0,100.0,100.0,100.0,100.0,100.0,100.0,100.0,100.0,100.0,100.0,100.0,100.0,100.0,100.0,100.0,100.0,100.0,0.4811753902662996,1.421487603305783,2.3324150596877886,3.2139577594123057,4.066115702479338,4.88888888888889,5.682277318640956,6.446280991735539,7.180899908172636,7.8861340679522485,8.561983471074381,9.208448117539028,9.82552800734619,10.413223140495868,10.971533516988064,11.500459136822773,11.999999999999998,12.470156106519743,12.910927456382,13.322314049586776,13.704315886134069,14.056932966023876,14.3801652892562,14.674012855831037,14.938475665748392,15.173553719008265,15.37924701561065,15.555555555555555,15.702479338842974,15.820018365472913,15.908172635445363,15.966942148760328,15.996326905417817,15.996326905417817,15.966942148760328,15.908172635445363,15.82001836547291,15.702479338842974,15.555555555555555,15.37924701561065,15.173553719008265,14.938475665748392,14.674012855831037,14.380165289256196,14.056932966023874,13.704315886134069,13.322314049586776,12.910927456382,12.470156106519743,11.999999999999998,11.500459136822773,10.971533516988064,10.413223140495868,9.825528007346193,9.20844811753903,8.561983471074383,7.886134067952243,7.180899908172631,6.446280991735532,5.682277318640952,4.888888888888886,4.066115702479334,3.2139577594123026,2.332415059687784,1.421487603305783,0.4811753902662996,0.4811753902662996,1.421487603305783,2.3324150596877886,3.2139577594123057,4.066115702479338,4.88888888888889,5.682277318640956,6.446280991735539,7.180899908172636,7.8861340679522485,8.561983471074381,9.208448117539028,9.82552800734619,10.413223140495868,10.971533516988064,11.500459136822773,11.999999999999998,12.470156106519743,12.910927456382,13.322314049586776,13.704315886134069,14.056932966023876,14.3801652892562,14.674012855831037,14.938475665748392,15.173553719008265,15.37924701561065,15.555555555555555,15.702479338842974,15.820018365472913,15.908172635445363,15.966942148760328,15.996326905417817,15.996326905417817,15.966942148760328,15.908172635445363,15.82001836547291,15.702479338842974,15.555555555555555,15.37924701561065,15.173553719008265,14.938475665748392,14.674012855831037,14.380165289256196,14.056932966023874,13.704315886134069,13.322314049586776,12.910927456382,12.470156106519743,11.999999999999998,11.500459136822773,10.971533516988064,10.413223140495868,9.825528007346193,9.20844811753903,8.561983471074383,7.886134067952243,7.180899908172631,6.446280991735532,5.682277318640952,4.888888888888886,4.066115702479334,3.2139577594123026,2.332415059687784,1.421487603305783,0.4811753902662996],\"y\":[36.0,34.560146923783286,33.149678604224064,31.768595041322317,30.41689623507806,29.094582185491273,27.801652892561982,26.538108356290174,25.30394857667585,24.09917355371901,22.923783287419653,21.77777777777777,20.661157024793383,19.57392102846648,18.516069788797058,17.48760330578512,16.48852157943067,15.5188246097337,14.578512396694217,13.667584940312212,12.786042240587694,11.933884297520661,11.111111111111109,10.317722681359044,9.553719008264462,8.819100091827364,8.113865932047752,7.438016528925619,6.791551882460973,6.174471992653811,5.5867768595041305,5.028466483011937,4.499540863177226,4.0,3.5298438934802574,3.089072543617999,2.677685950413224,2.2956841138659305,1.943067033976124,1.6198347107438011,1.3259871441689621,1.061524334251607,0.8264462809917357,0.6207529843893483,0.44444444444444364,0.29752066115702425,0.17998163452708876,0.09182736455463712,0.03305785123966936,0.0036730945821854847,0.0036730945821854847,0.03305785123966936,0.09182736455463712,0.1799816345270895,0.29752066115702525,0.44444444444444486,0.6207529843893483,0.8264462809917357,1.061524334251607,1.3259871441689621,1.6198347107438034,1.9430670339761265,2.295684113865933,2.677685950413224,3.089072543617999,3.5298438934802574,4.0,4.499540863177226,5.028466483011937,5.5867768595041305,6.1744719926538085,6.79155188246097,7.438016528925616,8.113865932047757,8.81910009182737,9.553719008264467,10.317722681359049,11.111111111111114,11.933884297520665,12.786042240587697,13.667584940312215,14.578512396694217,15.5188246097337,16.48852157943067,17.48760330578512,18.516069788797058,19.57392102846648,20.661157024793383,21.77777777777779,22.92378328741966,24.09917355371902,25.303948576675857,26.53810835629018,27.80165289256199,29.094582185491284,30.41689623507806,31.768595041322317,33.149678604224064,34.560146923783286,36.0,36.0,34.560146923783286,33.149678604224064,31.768595041322317,30.41689623507806,29.094582185491273,27.801652892561982,26.538108356290174,25.30394857667585,24.09917355371901,22.923783287419653,21.77777777777777,20.661157024793383,19.57392102846648,18.516069788797058,17.48760330578512,16.48852157943067,15.5188246097337,14.578512396694217,13.667584940312212,12.786042240587694,11.933884297520661,11.111111111111109,10.317722681359044,9.553719008264462,8.819100091827364,8.113865932047752,7.438016528925619,6.791551882460973,6.174471992653811,5.5867768595041305,5.028466483011937,4.499540863177226,4.0,3.5298438934802574,3.089072543617999,2.677685950413224,2.2956841138659305,1.943067033976124,1.6198347107438011,1.3259871441689621,1.061524334251607,0.8264462809917357,0.6207529843893483,0.44444444444444364,0.29752066115702425,0.17998163452708876,0.09182736455463712,0.03305785123966936,0.0036730945821854847,0.0036730945821854847,0.03305785123966936,0.09182736455463712,0.1799816345270895,0.29752066115702525,0.44444444444444486,0.6207529843893483,0.8264462809917357,1.061524334251607,1.3259871441689621,1.6198347107438034,1.9430670339761265,2.295684113865933,2.677685950413224,3.089072543617999,3.5298438934802574,4.0,4.499540863177226,5.028466483011937,5.5867768595041305,6.1744719926538085,6.79155188246097,7.438016528925616,8.113865932047757,8.81910009182737,9.553719008264467,10.317722681359049,11.111111111111114,11.933884297520665,12.786042240587697,13.667584940312215,14.578512396694217,15.5188246097337,16.48852157943067,17.48760330578512,18.516069788797058,19.57392102846648,20.661157024793383,21.77777777777779,22.92378328741966,24.09917355371902,25.303948576675857,26.53810835629018,27.80165289256199,29.094582185491284,30.41689623507806,31.768595041322317,33.149678604224064,34.560146923783286,36.0,15.5188246097337,14.578512396694217,13.667584940312212,12.786042240587694,11.933884297520661,11.111111111111109,10.317722681359044,9.553719008264462,8.819100091827364,8.113865932047752,7.438016528925619,6.791551882460973,6.174471992653811,5.5867768595041305,5.028466483011937,4.499540863177226,4.0,3.5298438934802574,3.089072543617999,2.677685950413224,2.2956841138659305,1.943067033976124,1.6198347107438011,1.3259871441689621,1.061524334251607,0.8264462809917357,0.6207529843893483,0.44444444444444364,0.29752066115702425,0.17998163452708876,0.09182736455463712,0.03305785123966936,0.0036730945821854847,0.0036730945821854847,0.03305785123966936,0.09182736455463712,0.1799816345270895,0.29752066115702525,0.44444444444444486,0.6207529843893483,0.8264462809917357,1.061524334251607,1.3259871441689621,1.6198347107438034,1.9430670339761265,2.295684113865933,2.677685950413224,3.089072543617999,3.5298438934802574,4.0,4.499540863177226,5.028466483011937,5.5867768595041305,6.1744719926538085,6.79155188246097,7.438016528925616,8.113865932047757,8.81910009182737,9.553719008264467,10.317722681359049,11.111111111111114,11.933884297520665,12.786042240587697,13.667584940312215,14.578512396694217,15.5188246097337,15.5188246097337,14.578512396694217,13.667584940312212,12.786042240587694,11.933884297520661,11.111111111111109,10.317722681359044,9.553719008264462,8.819100091827364,8.113865932047752,7.438016528925619,6.791551882460973,6.174471992653811,5.5867768595041305,5.028466483011937,4.499540863177226,4.0,3.5298438934802574,3.089072543617999,2.677685950413224,2.2956841138659305,1.943067033976124,1.6198347107438011,1.3259871441689621,1.061524334251607,0.8264462809917357,0.6207529843893483,0.44444444444444364,0.29752066115702425,0.17998163452708876,0.09182736455463712,0.03305785123966936,0.0036730945821854847,0.0036730945821854847,0.03305785123966936,0.09182736455463712,0.1799816345270895,0.29752066115702525,0.44444444444444486,0.6207529843893483,0.8264462809917357,1.061524334251607,1.3259871441689621,1.6198347107438034,1.9430670339761265,2.295684113865933,2.677685950413224,3.089072543617999,3.5298438934802574,4.0,4.499540863177226,5.028466483011937,5.5867768595041305,6.1744719926538085,6.79155188246097,7.438016528925616,8.113865932047757,8.81910009182737,9.553719008264467,10.317722681359049,11.111111111111114,11.933884297520665,12.786042240587697,13.667584940312215,14.578512396694217,15.5188246097337],\"z\":[-60.0,-58.78787878787879,-57.57575757575758,-56.36363636363637,-55.151515151515156,-53.93939393939394,-52.72727272727273,-51.515151515151516,-50.303030303030305,-49.09090909090909,-47.87878787878788,-46.66666666666666,-45.45454545454545,-44.242424242424235,-43.03030303030303,-41.81818181818181,-40.60606060606061,-39.39393939393939,-38.18181818181819,-36.96969696969697,-35.75757575757576,-34.54545454545455,-33.33333333333333,-32.12121212121212,-30.909090909090907,-29.696969696969695,-28.484848484848484,-27.27272727272727,-26.06060606060606,-24.848484848484848,-23.636363636363633,-22.424242424242422,-21.21212121212121,-20.0,-18.78787878787879,-17.575757575757578,-16.363636363636367,-15.151515151515147,-13.939393939393936,-12.727272727272725,-11.515151515151514,-10.303030303030303,-9.090909090909092,-7.878787878787881,-6.666666666666661,-5.45454545454545,-4.242424242424239,-3.0303030303030276,-1.8181818181818166,-0.6060606060606055,0.6060606060606055,1.8181818181818166,3.0303030303030276,4.2424242424242475,5.454545454545459,6.66666666666667,7.878787878787881,9.090909090909092,10.303030303030303,11.515151515151514,12.727272727272734,13.939393939393945,15.151515151515156,16.363636363636367,17.575757575757578,18.78787878787879,20.0,21.21212121212121,22.424242424242422,23.636363636363633,24.848484848484844,26.060606060606055,27.272727272727266,28.484848484848495,29.696969696969706,30.909090909090917,32.121212121212125,33.33333333333334,34.54545454545455,35.757575757575765,36.96969696969697,38.18181818181819,39.39393939393939,40.60606060606061,41.81818181818181,43.03030303030303,44.242424242424235,45.45454545454545,46.66666666666668,47.87878787878789,49.0909090909091,50.30303030303031,51.51515151515152,52.727272727272734,53.939393939393945,55.151515151515156,56.36363636363637,57.57575757575758,58.78787878787879,60.0,-60.0,-58.78787878787879,-57.57575757575758,-56.36363636363637,-55.151515151515156,-53.93939393939394,-52.72727272727273,-51.515151515151516,-50.303030303030305,-49.09090909090909,-47.87878787878788,-46.66666666666666,-45.45454545454545,-44.242424242424235,-43.03030303030303,-41.81818181818181,-40.60606060606061,-39.39393939393939,-38.18181818181819,-36.96969696969697,-35.75757575757576,-34.54545454545455,-33.33333333333333,-32.12121212121212,-30.909090909090907,-29.696969696969695,-28.484848484848484,-27.27272727272727,-26.06060606060606,-24.848484848484848,-23.636363636363633,-22.424242424242422,-21.21212121212121,-20.0,-18.78787878787879,-17.575757575757578,-16.363636363636367,-15.151515151515147,-13.939393939393936,-12.727272727272725,-11.515151515151514,-10.303030303030303,-9.090909090909092,-7.878787878787881,-6.666666666666661,-5.45454545454545,-4.242424242424239,-3.0303030303030276,-1.8181818181818166,-0.6060606060606055,0.6060606060606055,1.8181818181818166,3.0303030303030276,4.2424242424242475,5.454545454545459,6.66666666666667,7.878787878787881,9.090909090909092,10.303030303030303,11.515151515151514,12.727272727272734,13.939393939393945,15.151515151515156,16.363636363636367,17.575757575757578,18.78787878787879,20.0,21.21212121212121,22.424242424242422,23.636363636363633,24.848484848484844,26.060606060606055,27.272727272727266,28.484848484848495,29.696969696969706,30.909090909090917,32.121212121212125,33.33333333333334,34.54545454545455,35.757575757575765,36.96969696969697,38.18181818181819,39.39393939393939,40.60606060606061,41.81818181818181,43.03030303030303,44.242424242424235,45.45454545454545,46.66666666666668,47.87878787878789,49.0909090909091,50.30303030303031,51.51515151515152,52.727272727272734,53.939393939393945,55.151515151515156,56.36363636363637,57.57575757575758,58.78787878787879,60.0,-2.7326317878673057,-4.552271372242708,-5.646103164514994,-6.410444576728694,-6.965956813943104,-7.370277311900889,-7.65690287076399,-7.847672090713124,-7.957956712597047,-7.999189618300024,-7.980236498891445,-7.9082016379968705,-7.7889310880501865,-7.62734253027719,-7.427650271614607,-7.193523881341742,-6.928203230275509,-6.6345839646012665,-6.31528237833855,-5.972685590048351,-5.608991020780697,-5.226237943788362,-4.82633306784461,-4.411071570514588,-3.982154622288968,-3.541204179442736,-3.089775636288384,-2.629368792488716,-2.161437492664795,-1.6873982232023292,-1.2086378977978243,-0.7265210239945749,-0.24239641435293155,0.24239641435293155,0.7265210239945749,1.2086378977978243,1.6873982232023326,2.1614374926647986,2.6293687924887195,3.089775636288384,3.541204179442736,3.982154622288968,4.411071570514588,4.826333067844613,5.226237943788365,5.6089910207807,5.972685590048351,6.31528237833855,6.6345839646012665,6.928203230275509,7.193523881341742,7.427650271614607,7.62734253027719,7.788931088050186,7.9082016379968705,7.980236498891445,7.999189618300024,7.957956712597047,7.8476720907131226,7.6569028707639895,7.370277311900888,6.9659568139431025,6.4104445767286915,5.646103164514989,4.552271372242708,2.7326317878673057,-2.7326317878673057,-4.552271372242708,-5.646103164514994,-6.410444576728694,-6.965956813943104,-7.370277311900889,-7.65690287076399,-7.847672090713124,-7.957956712597047,-7.999189618300024,-7.980236498891445,-7.9082016379968705,-7.7889310880501865,-7.62734253027719,-7.427650271614607,-7.193523881341742,-6.928203230275509,-6.6345839646012665,-6.31528237833855,-5.972685590048351,-5.608991020780697,-5.226237943788362,-4.82633306784461,-4.411071570514588,-3.982154622288968,-3.541204179442736,-3.089775636288384,-2.629368792488716,-2.161437492664795,-1.6873982232023292,-1.2086378977978243,-0.7265210239945749,-0.24239641435293155,0.24239641435293155,0.7265210239945749,1.2086378977978243,1.6873982232023326,2.1614374926647986,2.6293687924887195,3.089775636288384,3.541204179442736,3.982154622288968,4.411071570514588,4.826333067844613,5.226237943788365,5.6089910207807,5.972685590048351,6.31528237833855,6.6345839646012665,6.928203230275509,7.193523881341742,7.427650271614607,7.62734253027719,7.788931088050186,7.9082016379968705,7.980236498891445,7.999189618300024,7.957956712597047,7.8476720907131226,7.6569028707639895,7.370277311900888,6.9659568139431025,6.4104445767286915,5.646103164514989,4.552271372242708,2.7326317878673057],\"type\":\"scatter3d\"}],                        {\"template\":{\"data\":{\"histogram2dcontour\":[{\"type\":\"histogram2dcontour\",\"colorbar\":{\"outlinewidth\":0,\"ticks\":\"\"},\"colorscale\":[[0.0,\"#0d0887\"],[0.1111111111111111,\"#46039f\"],[0.2222222222222222,\"#7201a8\"],[0.3333333333333333,\"#9c179e\"],[0.4444444444444444,\"#bd3786\"],[0.5555555555555556,\"#d8576b\"],[0.6666666666666666,\"#ed7953\"],[0.7777777777777778,\"#fb9f3a\"],[0.8888888888888888,\"#fdca26\"],[1.0,\"#f0f921\"]]}],\"choropleth\":[{\"type\":\"choropleth\",\"colorbar\":{\"outlinewidth\":0,\"ticks\":\"\"}}],\"histogram2d\":[{\"type\":\"histogram2d\",\"colorbar\":{\"outlinewidth\":0,\"ticks\":\"\"},\"colorscale\":[[0.0,\"#0d0887\"],[0.1111111111111111,\"#46039f\"],[0.2222222222222222,\"#7201a8\"],[0.3333333333333333,\"#9c179e\"],[0.4444444444444444,\"#bd3786\"],[0.5555555555555556,\"#d8576b\"],[0.6666666666666666,\"#ed7953\"],[0.7777777777777778,\"#fb9f3a\"],[0.8888888888888888,\"#fdca26\"],[1.0,\"#f0f921\"]]}],\"heatmap\":[{\"type\":\"heatmap\",\"colorbar\":{\"outlinewidth\":0,\"ticks\":\"\"},\"colorscale\":[[0.0,\"#0d0887\"],[0.1111111111111111,\"#46039f\"],[0.2222222222222222,\"#7201a8\"],[0.3333333333333333,\"#9c179e\"],[0.4444444444444444,\"#bd3786\"],[0.5555555555555556,\"#d8576b\"],[0.6666666666666666,\"#ed7953\"],[0.7777777777777778,\"#fb9f3a\"],[0.8888888888888888,\"#fdca26\"],[1.0,\"#f0f921\"]]}],\"heatmapgl\":[{\"type\":\"heatmapgl\",\"colorbar\":{\"outlinewidth\":0,\"ticks\":\"\"},\"colorscale\":[[0.0,\"#0d0887\"],[0.1111111111111111,\"#46039f\"],[0.2222222222222222,\"#7201a8\"],[0.3333333333333333,\"#9c179e\"],[0.4444444444444444,\"#bd3786\"],[0.5555555555555556,\"#d8576b\"],[0.6666666666666666,\"#ed7953\"],[0.7777777777777778,\"#fb9f3a\"],[0.8888888888888888,\"#fdca26\"],[1.0,\"#f0f921\"]]}],\"contourcarpet\":[{\"type\":\"contourcarpet\",\"colorbar\":{\"outlinewidth\":0,\"ticks\":\"\"}}],\"contour\":[{\"type\":\"contour\",\"colorbar\":{\"outlinewidth\":0,\"ticks\":\"\"},\"colorscale\":[[0.0,\"#0d0887\"],[0.1111111111111111,\"#46039f\"],[0.2222222222222222,\"#7201a8\"],[0.3333333333333333,\"#9c179e\"],[0.4444444444444444,\"#bd3786\"],[0.5555555555555556,\"#d8576b\"],[0.6666666666666666,\"#ed7953\"],[0.7777777777777778,\"#fb9f3a\"],[0.8888888888888888,\"#fdca26\"],[1.0,\"#f0f921\"]]}],\"surface\":[{\"type\":\"surface\",\"colorbar\":{\"outlinewidth\":0,\"ticks\":\"\"},\"colorscale\":[[0.0,\"#0d0887\"],[0.1111111111111111,\"#46039f\"],[0.2222222222222222,\"#7201a8\"],[0.3333333333333333,\"#9c179e\"],[0.4444444444444444,\"#bd3786\"],[0.5555555555555556,\"#d8576b\"],[0.6666666666666666,\"#ed7953\"],[0.7777777777777778,\"#fb9f3a\"],[0.8888888888888888,\"#fdca26\"],[1.0,\"#f0f921\"]]}],\"mesh3d\":[{\"type\":\"mesh3d\",\"colorbar\":{\"outlinewidth\":0,\"ticks\":\"\"}}],\"scatter\":[{\"fillpattern\":{\"fillmode\":\"overlay\",\"size\":10,\"solidity\":0.2},\"type\":\"scatter\"}],\"parcoords\":[{\"type\":\"parcoords\",\"line\":{\"colorbar\":{\"outlinewidth\":0,\"ticks\":\"\"}}}],\"scatterpolargl\":[{\"type\":\"scatterpolargl\",\"marker\":{\"colorbar\":{\"outlinewidth\":0,\"ticks\":\"\"}}}],\"bar\":[{\"error_x\":{\"color\":\"#2a3f5f\"},\"error_y\":{\"color\":\"#2a3f5f\"},\"marker\":{\"line\":{\"color\":\"#E5ECF6\",\"width\":0.5},\"pattern\":{\"fillmode\":\"overlay\",\"size\":10,\"solidity\":0.2}},\"type\":\"bar\"}],\"scattergeo\":[{\"type\":\"scattergeo\",\"marker\":{\"colorbar\":{\"outlinewidth\":0,\"ticks\":\"\"}}}],\"scatterpolar\":[{\"type\":\"scatterpolar\",\"marker\":{\"colorbar\":{\"outlinewidth\":0,\"ticks\":\"\"}}}],\"histogram\":[{\"marker\":{\"pattern\":{\"fillmode\":\"overlay\",\"size\":10,\"solidity\":0.2}},\"type\":\"histogram\"}],\"scattergl\":[{\"type\":\"scattergl\",\"marker\":{\"colorbar\":{\"outlinewidth\":0,\"ticks\":\"\"}}}],\"scatter3d\":[{\"type\":\"scatter3d\",\"line\":{\"colorbar\":{\"outlinewidth\":0,\"ticks\":\"\"}},\"marker\":{\"colorbar\":{\"outlinewidth\":0,\"ticks\":\"\"}}}],\"scattermapbox\":[{\"type\":\"scattermapbox\",\"marker\":{\"colorbar\":{\"outlinewidth\":0,\"ticks\":\"\"}}}],\"scatterternary\":[{\"type\":\"scatterternary\",\"marker\":{\"colorbar\":{\"outlinewidth\":0,\"ticks\":\"\"}}}],\"scattercarpet\":[{\"type\":\"scattercarpet\",\"marker\":{\"colorbar\":{\"outlinewidth\":0,\"ticks\":\"\"}}}],\"carpet\":[{\"aaxis\":{\"endlinecolor\":\"#2a3f5f\",\"gridcolor\":\"white\",\"linecolor\":\"white\",\"minorgridcolor\":\"white\",\"startlinecolor\":\"#2a3f5f\"},\"baxis\":{\"endlinecolor\":\"#2a3f5f\",\"gridcolor\":\"white\",\"linecolor\":\"white\",\"minorgridcolor\":\"white\",\"startlinecolor\":\"#2a3f5f\"},\"type\":\"carpet\"}],\"table\":[{\"cells\":{\"fill\":{\"color\":\"#EBF0F8\"},\"line\":{\"color\":\"white\"}},\"header\":{\"fill\":{\"color\":\"#C8D4E3\"},\"line\":{\"color\":\"white\"}},\"type\":\"table\"}],\"barpolar\":[{\"marker\":{\"line\":{\"color\":\"#E5ECF6\",\"width\":0.5},\"pattern\":{\"fillmode\":\"overlay\",\"size\":10,\"solidity\":0.2}},\"type\":\"barpolar\"}],\"pie\":[{\"automargin\":true,\"type\":\"pie\"}]},\"layout\":{\"autotypenumbers\":\"strict\",\"colorway\":[\"#636efa\",\"#EF553B\",\"#00cc96\",\"#ab63fa\",\"#FFA15A\",\"#19d3f3\",\"#FF6692\",\"#B6E880\",\"#FF97FF\",\"#FECB52\"],\"font\":{\"color\":\"#2a3f5f\"},\"hovermode\":\"closest\",\"hoverlabel\":{\"align\":\"left\"},\"paper_bgcolor\":\"white\",\"plot_bgcolor\":\"#E5ECF6\",\"polar\":{\"bgcolor\":\"#E5ECF6\",\"angularaxis\":{\"gridcolor\":\"white\",\"linecolor\":\"white\",\"ticks\":\"\"},\"radialaxis\":{\"gridcolor\":\"white\",\"linecolor\":\"white\",\"ticks\":\"\"}},\"ternary\":{\"bgcolor\":\"#E5ECF6\",\"aaxis\":{\"gridcolor\":\"white\",\"linecolor\":\"white\",\"ticks\":\"\"},\"baxis\":{\"gridcolor\":\"white\",\"linecolor\":\"white\",\"ticks\":\"\"},\"caxis\":{\"gridcolor\":\"white\",\"linecolor\":\"white\",\"ticks\":\"\"}},\"coloraxis\":{\"colorbar\":{\"outlinewidth\":0,\"ticks\":\"\"}},\"colorscale\":{\"sequential\":[[0.0,\"#0d0887\"],[0.1111111111111111,\"#46039f\"],[0.2222222222222222,\"#7201a8\"],[0.3333333333333333,\"#9c179e\"],[0.4444444444444444,\"#bd3786\"],[0.5555555555555556,\"#d8576b\"],[0.6666666666666666,\"#ed7953\"],[0.7777777777777778,\"#fb9f3a\"],[0.8888888888888888,\"#fdca26\"],[1.0,\"#f0f921\"]],\"sequentialminus\":[[0.0,\"#0d0887\"],[0.1111111111111111,\"#46039f\"],[0.2222222222222222,\"#7201a8\"],[0.3333333333333333,\"#9c179e\"],[0.4444444444444444,\"#bd3786\"],[0.5555555555555556,\"#d8576b\"],[0.6666666666666666,\"#ed7953\"],[0.7777777777777778,\"#fb9f3a\"],[0.8888888888888888,\"#fdca26\"],[1.0,\"#f0f921\"]],\"diverging\":[[0,\"#8e0152\"],[0.1,\"#c51b7d\"],[0.2,\"#de77ae\"],[0.3,\"#f1b6da\"],[0.4,\"#fde0ef\"],[0.5,\"#f7f7f7\"],[0.6,\"#e6f5d0\"],[0.7,\"#b8e186\"],[0.8,\"#7fbc41\"],[0.9,\"#4d9221\"],[1,\"#276419\"]]},\"xaxis\":{\"gridcolor\":\"white\",\"linecolor\":\"white\",\"ticks\":\"\",\"title\":{\"standoff\":15},\"zerolinecolor\":\"white\",\"automargin\":true,\"zerolinewidth\":2},\"yaxis\":{\"gridcolor\":\"white\",\"linecolor\":\"white\",\"ticks\":\"\",\"title\":{\"standoff\":15},\"zerolinecolor\":\"white\",\"automargin\":true,\"zerolinewidth\":2},\"scene\":{\"xaxis\":{\"backgroundcolor\":\"#E5ECF6\",\"gridcolor\":\"white\",\"linecolor\":\"white\",\"showbackground\":true,\"ticks\":\"\",\"zerolinecolor\":\"white\",\"gridwidth\":2},\"yaxis\":{\"backgroundcolor\":\"#E5ECF6\",\"gridcolor\":\"white\",\"linecolor\":\"white\",\"showbackground\":true,\"ticks\":\"\",\"zerolinecolor\":\"white\",\"gridwidth\":2},\"zaxis\":{\"backgroundcolor\":\"#E5ECF6\",\"gridcolor\":\"white\",\"linecolor\":\"white\",\"showbackground\":true,\"ticks\":\"\",\"zerolinecolor\":\"white\",\"gridwidth\":2}},\"shapedefaults\":{\"line\":{\"color\":\"#2a3f5f\"}},\"annotationdefaults\":{\"arrowcolor\":\"#2a3f5f\",\"arrowhead\":0,\"arrowwidth\":1},\"geo\":{\"bgcolor\":\"white\",\"landcolor\":\"#E5ECF6\",\"subunitcolor\":\"white\",\"showland\":true,\"showlakes\":true,\"lakecolor\":\"white\"},\"title\":{\"x\":0.05},\"mapbox\":{\"style\":\"light\"}}},\"scene\":{\"domain\":{\"x\":[0.0,1.0],\"y\":[0.0,1.0]},\"xaxis\":{\"title\":{\"text\":\"x1square\"}},\"yaxis\":{\"title\":{\"text\":\"x2square\"}},\"zaxis\":{\"title\":{\"text\":\"x1x2\"}}},\"coloraxis\":{\"colorbar\":{\"title\":{\"text\":\"Y\"}},\"colorscale\":[[0.0,\"#0d0887\"],[0.1111111111111111,\"#46039f\"],[0.2222222222222222,\"#7201a8\"],[0.3333333333333333,\"#9c179e\"],[0.4444444444444444,\"#bd3786\"],[0.5555555555555556,\"#d8576b\"],[0.6666666666666666,\"#ed7953\"],[0.7777777777777778,\"#fb9f3a\"],[0.8888888888888888,\"#fdca26\"],[1.0,\"#f0f921\"]]},\"legend\":{\"tracegroupgap\":0},\"margin\":{\"t\":60}},                        {\"responsive\": true}                    ).then(function(){\n",
       "                            \n",
       "var gd = document.getElementById('df955d52-d541-493a-ba90-308e5365e77f');\n",
       "var x = new MutationObserver(function (mutations, observer) {{\n",
       "        var display = window.getComputedStyle(gd).display;\n",
       "        if (!display || display === 'none') {{\n",
       "            console.log([gd, 'removed!']);\n",
       "            Plotly.purge(gd);\n",
       "            observer.disconnect();\n",
       "        }}\n",
       "}});\n",
       "\n",
       "// Listen for the removal of the full notebook cells\n",
       "var notebookContainer = gd.closest('#notebook-container');\n",
       "if (notebookContainer) {{\n",
       "    x.observe(notebookContainer, {childList: true});\n",
       "}}\n",
       "\n",
       "// Listen for the clearing of the current output cell\n",
       "var outputEl = gd.closest('.output');\n",
       "if (outputEl) {{\n",
       "    x.observe(outputEl, {childList: true});\n",
       "}}\n",
       "\n",
       "                        })                };                });            </script>        </div>"
      ]
     },
     "metadata": {},
     "output_type": "display_data"
    }
   ],
   "source": [
    "fig = px.scatter_3d(df1, x='x1square', y ='x2square', z = 'x1x2', color = 'Y')\n",
    "fig.show()\n",
    "plt.show()"
   ]
  },
  {
   "cell_type": "code",
   "execution_count": 64,
   "id": "ce7db2dd",
   "metadata": {},
   "outputs": [
    {
     "data": {
      "text/plain": [
       "1.0"
      ]
     },
     "execution_count": 64,
     "metadata": {},
     "output_type": "execute_result"
    }
   ],
   "source": [
    "from sklearn.svm import SVC\n",
    "from sklearn.metrics import accuracy_score\n",
    "cls = SVC(kernel = 'linear') # why linear>> bcz we hv created polynomial\n",
    "cls.fit(X_train, y_train)\n",
    "y_pred = cls.predict(X_test)\n",
    "accuracy_score(y_test, y_pred)"
   ]
  },
  {
   "cell_type": "code",
   "execution_count": 66,
   "id": "1fd9f5a8",
   "metadata": {},
   "outputs": [],
   "source": [
    "df= df.dropna()"
   ]
  },
  {
   "cell_type": "code",
   "execution_count": 69,
   "id": "f135bcf9",
   "metadata": {},
   "outputs": [
    {
     "data": {
      "text/html": [
       "<div>\n",
       "<style scoped>\n",
       "    .dataframe tbody tr th:only-of-type {\n",
       "        vertical-align: middle;\n",
       "    }\n",
       "\n",
       "    .dataframe tbody tr th {\n",
       "        vertical-align: top;\n",
       "    }\n",
       "\n",
       "    .dataframe thead th {\n",
       "        text-align: right;\n",
       "    }\n",
       "</style>\n",
       "<table border=\"1\" class=\"dataframe\">\n",
       "  <thead>\n",
       "    <tr style=\"text-align: right;\">\n",
       "      <th></th>\n",
       "      <th>X1</th>\n",
       "      <th>X2</th>\n",
       "      <th>Y</th>\n",
       "    </tr>\n",
       "  </thead>\n",
       "  <tbody>\n",
       "    <tr>\n",
       "      <th>0</th>\n",
       "      <td>10.0</td>\n",
       "      <td>-6.000000</td>\n",
       "      <td>0</td>\n",
       "    </tr>\n",
       "    <tr>\n",
       "      <th>1</th>\n",
       "      <td>10.0</td>\n",
       "      <td>-5.878788</td>\n",
       "      <td>0</td>\n",
       "    </tr>\n",
       "    <tr>\n",
       "      <th>2</th>\n",
       "      <td>10.0</td>\n",
       "      <td>-5.757576</td>\n",
       "      <td>0</td>\n",
       "    </tr>\n",
       "    <tr>\n",
       "      <th>3</th>\n",
       "      <td>10.0</td>\n",
       "      <td>-5.636364</td>\n",
       "      <td>0</td>\n",
       "    </tr>\n",
       "    <tr>\n",
       "      <th>4</th>\n",
       "      <td>10.0</td>\n",
       "      <td>-5.515152</td>\n",
       "      <td>0</td>\n",
       "    </tr>\n",
       "  </tbody>\n",
       "</table>\n",
       "</div>"
      ],
      "text/plain": [
       "     X1        X2  Y\n",
       "0  10.0 -6.000000  0\n",
       "1  10.0 -5.878788  0\n",
       "2  10.0 -5.757576  0\n",
       "3  10.0 -5.636364  0\n",
       "4  10.0 -5.515152  0"
      ]
     },
     "execution_count": 69,
     "metadata": {},
     "output_type": "execute_result"
    }
   ],
   "source": [
    "df.head()"
   ]
  },
  {
   "cell_type": "code",
   "execution_count": 73,
   "id": "20e72777",
   "metadata": {},
   "outputs": [],
   "source": [
    "X = df[['X1', 'X2']]\n",
    "y = df['Y']\n",
    "\n",
    "from sklearn.model_selection import train_test_split\n",
    "X_train, X_test, y_train, y_test = train_test_split(X,y,test_size=0.30, random_state =1)"
   ]
  },
  {
   "cell_type": "code",
   "execution_count": 74,
   "id": "3fe42743",
   "metadata": {},
   "outputs": [
    {
     "data": {
      "text/html": [
       "<div>\n",
       "<style scoped>\n",
       "    .dataframe tbody tr th:only-of-type {\n",
       "        vertical-align: middle;\n",
       "    }\n",
       "\n",
       "    .dataframe tbody tr th {\n",
       "        vertical-align: top;\n",
       "    }\n",
       "\n",
       "    .dataframe thead th {\n",
       "        text-align: right;\n",
       "    }\n",
       "</style>\n",
       "<table border=\"1\" class=\"dataframe\">\n",
       "  <thead>\n",
       "    <tr style=\"text-align: right;\">\n",
       "      <th></th>\n",
       "      <th>X1</th>\n",
       "      <th>X2</th>\n",
       "    </tr>\n",
       "  </thead>\n",
       "  <tbody>\n",
       "    <tr>\n",
       "      <th>365</th>\n",
       "      <td>-3.531311</td>\n",
       "      <td>-1.878788</td>\n",
       "    </tr>\n",
       "    <tr>\n",
       "      <th>17</th>\n",
       "      <td>10.000000</td>\n",
       "      <td>-3.939394</td>\n",
       "    </tr>\n",
       "    <tr>\n",
       "      <th>267</th>\n",
       "      <td>3.391233</td>\n",
       "      <td>2.121212</td>\n",
       "    </tr>\n",
       "    <tr>\n",
       "      <th>235</th>\n",
       "      <td>3.593178</td>\n",
       "      <td>-1.757576</td>\n",
       "    </tr>\n",
       "    <tr>\n",
       "      <th>88</th>\n",
       "      <td>10.000000</td>\n",
       "      <td>4.666667</td>\n",
       "    </tr>\n",
       "    <tr>\n",
       "      <th>...</th>\n",
       "      <td>...</td>\n",
       "      <td>...</td>\n",
       "    </tr>\n",
       "    <tr>\n",
       "      <th>220</th>\n",
       "      <td>1.792751</td>\n",
       "      <td>-3.575758</td>\n",
       "    </tr>\n",
       "    <tr>\n",
       "      <th>272</th>\n",
       "      <td>2.926087</td>\n",
       "      <td>2.727273</td>\n",
       "    </tr>\n",
       "    <tr>\n",
       "      <th>72</th>\n",
       "      <td>10.000000</td>\n",
       "      <td>2.727273</td>\n",
       "    </tr>\n",
       "    <tr>\n",
       "      <th>252</th>\n",
       "      <td>3.988505</td>\n",
       "      <td>0.303030</td>\n",
       "    </tr>\n",
       "    <tr>\n",
       "      <th>37</th>\n",
       "      <td>10.000000</td>\n",
       "      <td>-1.515152</td>\n",
       "    </tr>\n",
       "  </tbody>\n",
       "</table>\n",
       "<p>232 rows × 2 columns</p>\n",
       "</div>"
      ],
      "text/plain": [
       "            X1        X2\n",
       "365  -3.531311 -1.878788\n",
       "17   10.000000 -3.939394\n",
       "267   3.391233  2.121212\n",
       "235   3.593178 -1.757576\n",
       "88   10.000000  4.666667\n",
       "..         ...       ...\n",
       "220   1.792751 -3.575758\n",
       "272   2.926087  2.727273\n",
       "72   10.000000  2.727273\n",
       "252   3.988505  0.303030\n",
       "37   10.000000 -1.515152\n",
       "\n",
       "[232 rows x 2 columns]"
      ]
     },
     "execution_count": 74,
     "metadata": {},
     "output_type": "execute_result"
    }
   ],
   "source": [
    "X_train"
   ]
  },
  {
   "cell_type": "code",
   "execution_count": 75,
   "id": "d71578aa",
   "metadata": {},
   "outputs": [
    {
     "data": {
      "text/html": [
       "<div>\n",
       "<style scoped>\n",
       "    .dataframe tbody tr th:only-of-type {\n",
       "        vertical-align: middle;\n",
       "    }\n",
       "\n",
       "    .dataframe tbody tr th {\n",
       "        vertical-align: top;\n",
       "    }\n",
       "\n",
       "    .dataframe thead th {\n",
       "        text-align: right;\n",
       "    }\n",
       "</style>\n",
       "<table border=\"1\" class=\"dataframe\">\n",
       "  <thead>\n",
       "    <tr style=\"text-align: right;\">\n",
       "      <th></th>\n",
       "      <th>X1</th>\n",
       "      <th>X2</th>\n",
       "    </tr>\n",
       "  </thead>\n",
       "  <tbody>\n",
       "    <tr>\n",
       "      <th>59</th>\n",
       "      <td>10.000000</td>\n",
       "      <td>1.151515</td>\n",
       "    </tr>\n",
       "    <tr>\n",
       "      <th>319</th>\n",
       "      <td>-1.527225</td>\n",
       "      <td>3.696970</td>\n",
       "    </tr>\n",
       "    <tr>\n",
       "      <th>180</th>\n",
       "      <td>-10.000000</td>\n",
       "      <td>-3.696970</td>\n",
       "    </tr>\n",
       "    <tr>\n",
       "      <th>192</th>\n",
       "      <td>-10.000000</td>\n",
       "      <td>-5.151515</td>\n",
       "    </tr>\n",
       "    <tr>\n",
       "      <th>335</th>\n",
       "      <td>-3.593178</td>\n",
       "      <td>1.757576</td>\n",
       "    </tr>\n",
       "    <tr>\n",
       "      <th>...</th>\n",
       "      <td>...</td>\n",
       "      <td>...</td>\n",
       "    </tr>\n",
       "    <tr>\n",
       "      <th>39</th>\n",
       "      <td>10.000000</td>\n",
       "      <td>-1.272727</td>\n",
       "    </tr>\n",
       "    <tr>\n",
       "      <th>117</th>\n",
       "      <td>-10.000000</td>\n",
       "      <td>3.939394</td>\n",
       "    </tr>\n",
       "    <tr>\n",
       "      <th>78</th>\n",
       "      <td>10.000000</td>\n",
       "      <td>3.454545</td>\n",
       "    </tr>\n",
       "    <tr>\n",
       "      <th>127</th>\n",
       "      <td>-10.000000</td>\n",
       "      <td>2.727273</td>\n",
       "    </tr>\n",
       "    <tr>\n",
       "      <th>138</th>\n",
       "      <td>-10.000000</td>\n",
       "      <td>1.393939</td>\n",
       "    </tr>\n",
       "  </tbody>\n",
       "</table>\n",
       "<p>100 rows × 2 columns</p>\n",
       "</div>"
      ],
      "text/plain": [
       "            X1        X2\n",
       "59   10.000000  1.151515\n",
       "319  -1.527225  3.696970\n",
       "180 -10.000000 -3.696970\n",
       "192 -10.000000 -5.151515\n",
       "335  -3.593178  1.757576\n",
       "..         ...       ...\n",
       "39   10.000000 -1.272727\n",
       "117 -10.000000  3.939394\n",
       "78   10.000000  3.454545\n",
       "127 -10.000000  2.727273\n",
       "138 -10.000000  1.393939\n",
       "\n",
       "[100 rows x 2 columns]"
      ]
     },
     "execution_count": 75,
     "metadata": {},
     "output_type": "execute_result"
    }
   ],
   "source": [
    "X_test"
   ]
  },
  {
   "cell_type": "markdown",
   "id": "2c860d31",
   "metadata": {},
   "source": [
    "# Check on Polynomial "
   ]
  },
  {
   "cell_type": "code",
   "execution_count": 78,
   "id": "038d8428",
   "metadata": {},
   "outputs": [
    {
     "data": {
      "text/plain": [
       "0.62"
      ]
     },
     "execution_count": 78,
     "metadata": {},
     "output_type": "execute_result"
    }
   ],
   "source": [
    "from sklearn.svm import SVC\n",
    "from sklearn.metrics import accuracy_score\n",
    "cls = SVC(kernel = 'poly') # why linear>> bcz we hv created polynomial\n",
    "cls.fit(X_train, y_train)\n",
    "y_pred = cls.predict(X_test)\n",
    "accuracy_score(y_test, y_pred)"
   ]
  },
  {
   "cell_type": "markdown",
   "id": "d63b44e0",
   "metadata": {},
   "source": [
    "# Check on RBF"
   ]
  },
  {
   "cell_type": "code",
   "execution_count": 79,
   "id": "80635457",
   "metadata": {},
   "outputs": [
    {
     "data": {
      "text/plain": [
       "1.0"
      ]
     },
     "execution_count": 79,
     "metadata": {},
     "output_type": "execute_result"
    }
   ],
   "source": [
    "from sklearn.svm import SVC\n",
    "from sklearn.metrics import accuracy_score\n",
    "cls = SVC(kernel = 'rbf') # why linear>> bcz we hv created polynomial\n",
    "cls.fit(X_train, y_train)\n",
    "y_pred = cls.predict(X_test)\n",
    "accuracy_score(y_test, y_pred)"
   ]
  },
  {
   "cell_type": "markdown",
   "id": "738b0dbd",
   "metadata": {},
   "source": [
    "# Check on Sigmoid"
   ]
  },
  {
   "cell_type": "code",
   "execution_count": 81,
   "id": "93d9d0b1",
   "metadata": {},
   "outputs": [
    {
     "data": {
      "text/plain": [
       "0.63"
      ]
     },
     "execution_count": 81,
     "metadata": {},
     "output_type": "execute_result"
    }
   ],
   "source": [
    "from sklearn.svm import SVC\n",
    "from sklearn.metrics import accuracy_score\n",
    "cls = SVC(kernel = 'sigmoid') # why linear>> bcz we hv created polynomial\n",
    "cls.fit(X_train, y_train)\n",
    "y_pred = cls.predict(X_test)\n",
    "accuracy_score(y_test, y_pred)"
   ]
  },
  {
   "cell_type": "code",
   "execution_count": null,
   "id": "377e26b2",
   "metadata": {},
   "outputs": [],
   "source": []
  }
 ],
 "metadata": {
  "kernelspec": {
   "display_name": "Python 3 (ipykernel)",
   "language": "python",
   "name": "python3"
  },
  "language_info": {
   "codemirror_mode": {
    "name": "ipython",
    "version": 3
   },
   "file_extension": ".py",
   "mimetype": "text/x-python",
   "name": "python",
   "nbconvert_exporter": "python",
   "pygments_lexer": "ipython3",
   "version": "3.11.7"
  }
 },
 "nbformat": 4,
 "nbformat_minor": 5
}
