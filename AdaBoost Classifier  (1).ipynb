{
 "cells": [
  {
   "cell_type": "markdown",
   "id": "3d6e8dce",
   "metadata": {},
   "source": [
    "# Adaboost Classifier"
   ]
  },
  {
   "cell_type": "code",
   "execution_count": 1,
   "id": "c2fa7a2e",
   "metadata": {},
   "outputs": [],
   "source": [
    "from sklearn.datasets import make_classification \n",
    "from sklearn.model_selection import train_test_split\n",
    "from sklearn.ensemble import AdaBoostClassifier\n",
    "from sklearn.metrics import accuracy_score, classification_report, confusion_matrix"
   ]
  },
  {
   "cell_type": "code",
   "execution_count": 2,
   "id": "fc123ff2",
   "metadata": {},
   "outputs": [],
   "source": [
    "X, y = make_classification(n_samples=1000, n_features=20, n_classes=2, random_state = 1)"
   ]
  },
  {
   "cell_type": "code",
   "execution_count": 3,
   "id": "bde8793b",
   "metadata": {},
   "outputs": [
    {
     "data": {
      "text/plain": [
       "array([[-2.04582165, -0.13791624, -0.08071423, ...,  2.48194524,\n",
       "         0.74236675,  0.23154789],\n",
       "       [-0.98726024,  1.30120189,  2.37734888, ...,  0.55445754,\n",
       "        -0.21892143, -0.37608578],\n",
       "       [ 0.57335921,  0.09375582,  0.4662521 , ..., -0.6088508 ,\n",
       "         0.79903499, -0.17121177],\n",
       "       ...,\n",
       "       [-0.70737159,  1.07650943,  0.58510456, ..., -1.51337602,\n",
       "         0.90239871, -0.69230951],\n",
       "       [-0.20706849,  1.17319848, -1.94478665, ..., -0.32820676,\n",
       "         1.5711921 ,  1.14877729],\n",
       "       [-2.16769231, -2.54871672,  2.89359255, ...,  0.71535366,\n",
       "         0.34329241,  1.07350284]])"
      ]
     },
     "execution_count": 3,
     "metadata": {},
     "output_type": "execute_result"
    }
   ],
   "source": [
    "X"
   ]
  },
  {
   "cell_type": "code",
   "execution_count": 4,
   "id": "10122137",
   "metadata": {},
   "outputs": [
    {
     "data": {
      "text/plain": [
       "array([0, 0, 0, 1, 1, 1, 0, 1, 1, 1, 0, 1, 1, 0, 0, 1, 0, 0, 0, 0, 1, 1,\n",
       "       1, 0, 1, 1, 0, 0, 1, 0, 1, 0, 1, 1, 1, 1, 1, 1, 0, 1, 0, 1, 0, 0,\n",
       "       0, 1, 0, 1, 1, 0, 1, 0, 0, 1, 0, 0, 0, 1, 1, 0, 0, 1, 0, 1, 0, 1,\n",
       "       0, 0, 0, 1, 1, 1, 1, 0, 1, 1, 1, 1, 0, 0, 0, 1, 0, 1, 1, 0, 0, 1,\n",
       "       1, 1, 1, 1, 1, 1, 1, 0, 1, 1, 0, 0, 0, 0, 1, 0, 1, 1, 1, 1, 1, 0,\n",
       "       0, 0, 0, 1, 1, 1, 0, 1, 1, 1, 0, 0, 0, 1, 1, 0, 1, 0, 1, 0, 0, 0,\n",
       "       1, 0, 1, 1, 1, 0, 0, 0, 1, 0, 0, 1, 1, 1, 0, 0, 0, 0, 0, 1, 1, 1,\n",
       "       0, 0, 1, 0, 1, 1, 0, 1, 1, 0, 0, 1, 0, 0, 0, 1, 0, 1, 0, 1, 1, 0,\n",
       "       0, 0, 0, 1, 0, 1, 1, 1, 0, 0, 1, 1, 1, 1, 1, 1, 1, 1, 1, 1, 0, 0,\n",
       "       0, 1, 0, 0, 0, 0, 1, 0, 0, 1, 0, 1, 0, 1, 1, 1, 0, 1, 1, 1, 1, 1,\n",
       "       0, 1, 0, 1, 1, 1, 0, 1, 1, 1, 0, 0, 0, 0, 1, 0, 1, 0, 0, 1, 1, 0,\n",
       "       1, 0, 1, 0, 1, 0, 1, 1, 0, 1, 1, 0, 0, 1, 1, 0, 0, 1, 1, 0, 1, 0,\n",
       "       0, 1, 1, 1, 0, 0, 1, 0, 1, 1, 0, 0, 1, 0, 0, 0, 1, 0, 0, 0, 0, 0,\n",
       "       0, 1, 0, 0, 0, 0, 0, 0, 0, 0, 0, 0, 0, 0, 0, 1, 1, 1, 0, 1, 1, 0,\n",
       "       0, 0, 1, 1, 0, 1, 0, 1, 0, 1, 0, 0, 1, 0, 1, 0, 1, 0, 0, 0, 1, 1,\n",
       "       1, 0, 1, 0, 1, 1, 0, 1, 1, 0, 0, 1, 1, 0, 0, 0, 0, 1, 0, 1, 1, 1,\n",
       "       0, 0, 1, 0, 1, 0, 0, 1, 0, 0, 0, 1, 1, 1, 0, 1, 1, 1, 1, 1, 0, 1,\n",
       "       1, 0, 1, 1, 0, 1, 1, 1, 1, 1, 1, 0, 1, 0, 1, 1, 1, 0, 0, 0, 0, 1,\n",
       "       0, 0, 0, 0, 1, 0, 1, 1, 0, 0, 0, 0, 1, 0, 0, 0, 0, 0, 1, 0, 1, 0,\n",
       "       0, 0, 0, 1, 0, 0, 1, 0, 1, 1, 0, 1, 0, 1, 0, 1, 1, 0, 1, 1, 1, 0,\n",
       "       0, 0, 1, 1, 0, 0, 0, 0, 0, 1, 0, 1, 1, 0, 1, 0, 0, 1, 0, 0, 1, 0,\n",
       "       0, 1, 0, 1, 0, 0, 1, 0, 0, 0, 1, 1, 0, 0, 0, 0, 1, 1, 1, 1, 1, 0,\n",
       "       1, 1, 1, 0, 1, 0, 1, 0, 1, 1, 0, 0, 0, 1, 1, 0, 0, 0, 1, 1, 0, 0,\n",
       "       0, 0, 1, 0, 1, 1, 1, 1, 0, 0, 0, 0, 1, 0, 1, 1, 0, 0, 1, 0, 0, 1,\n",
       "       1, 1, 0, 0, 1, 1, 0, 1, 0, 0, 0, 0, 0, 0, 0, 0, 1, 0, 1, 1, 0, 0,\n",
       "       0, 1, 0, 1, 1, 1, 0, 0, 1, 0, 0, 1, 0, 1, 1, 1, 1, 1, 0, 1, 0, 0,\n",
       "       1, 1, 0, 1, 0, 0, 0, 0, 0, 0, 0, 1, 0, 1, 1, 0, 1, 0, 1, 1, 0, 1,\n",
       "       1, 1, 0, 0, 0, 0, 0, 1, 0, 0, 0, 1, 0, 0, 1, 0, 0, 1, 0, 1, 1, 1,\n",
       "       0, 1, 0, 0, 0, 0, 0, 0, 1, 1, 1, 0, 0, 0, 0, 1, 1, 0, 1, 1, 0, 1,\n",
       "       0, 1, 0, 1, 1, 0, 1, 0, 0, 0, 1, 0, 1, 1, 0, 1, 1, 0, 1, 1, 1, 1,\n",
       "       1, 1, 0, 0, 1, 0, 1, 0, 0, 1, 1, 0, 1, 1, 0, 1, 1, 0, 0, 1, 1, 1,\n",
       "       0, 1, 1, 0, 1, 0, 1, 0, 1, 1, 0, 0, 0, 1, 1, 0, 1, 1, 0, 1, 0, 1,\n",
       "       1, 1, 1, 0, 0, 0, 1, 1, 0, 1, 1, 0, 0, 0, 1, 1, 0, 1, 1, 0, 0, 1,\n",
       "       1, 0, 1, 1, 0, 1, 0, 0, 0, 0, 0, 0, 1, 1, 0, 0, 1, 1, 0, 1, 0, 1,\n",
       "       1, 1, 0, 1, 0, 1, 0, 1, 1, 1, 1, 0, 0, 0, 0, 1, 1, 1, 0, 1, 1, 1,\n",
       "       0, 0, 1, 0, 0, 0, 1, 0, 0, 1, 1, 0, 0, 1, 1, 1, 1, 0, 1, 0, 0, 1,\n",
       "       0, 1, 0, 0, 1, 1, 0, 1, 0, 0, 1, 0, 0, 0, 1, 0, 0, 0, 0, 0, 1, 1,\n",
       "       0, 1, 1, 1, 1, 1, 0, 0, 1, 0, 0, 1, 0, 1, 1, 0, 1, 1, 1, 0, 1, 0,\n",
       "       1, 0, 0, 0, 0, 0, 0, 1, 1, 1, 0, 1, 0, 0, 1, 0, 1, 1, 1, 0, 0, 1,\n",
       "       1, 1, 1, 0, 1, 1, 0, 0, 1, 1, 1, 0, 0, 0, 1, 0, 0, 0, 1, 1, 1, 0,\n",
       "       1, 1, 1, 0, 0, 0, 1, 1, 1, 1, 0, 1, 1, 1, 0, 1, 1, 1, 1, 1, 0, 1,\n",
       "       0, 0, 0, 0, 1, 0, 1, 0, 1, 0, 0, 0, 1, 1, 0, 1, 0, 1, 0, 0, 1, 0,\n",
       "       1, 1, 0, 1, 0, 0, 1, 0, 1, 0, 0, 0, 0, 1, 1, 1, 1, 1, 1, 1, 1, 0,\n",
       "       0, 0, 1, 1, 0, 1, 1, 0, 0, 0, 0, 0, 0, 1, 1, 1, 0, 0, 0, 1, 0, 1,\n",
       "       1, 1, 0, 1, 0, 1, 0, 1, 0, 0, 0, 0, 1, 1, 1, 1, 1, 1, 1, 0, 1, 1,\n",
       "       0, 0, 1, 1, 0, 1, 0, 1, 1, 0])"
      ]
     },
     "execution_count": 4,
     "metadata": {},
     "output_type": "execute_result"
    }
   ],
   "source": [
    "y"
   ]
  },
  {
   "cell_type": "markdown",
   "id": "5c00c764",
   "metadata": {},
   "source": [
    "# Split Dataset"
   ]
  },
  {
   "cell_type": "code",
   "execution_count": 5,
   "id": "c2d2074b",
   "metadata": {},
   "outputs": [],
   "source": [
    "X_train, X_test, y_train, y_test = train_test_split(X, y, train_size=0.33, random_state=1)"
   ]
  },
  {
   "cell_type": "code",
   "execution_count": 6,
   "id": "6b85927a",
   "metadata": {},
   "outputs": [
    {
     "data": {
      "text/html": [
       "<style>#sk-container-id-1 {color: black;background-color: white;}#sk-container-id-1 pre{padding: 0;}#sk-container-id-1 div.sk-toggleable {background-color: white;}#sk-container-id-1 label.sk-toggleable__label {cursor: pointer;display: block;width: 100%;margin-bottom: 0;padding: 0.3em;box-sizing: border-box;text-align: center;}#sk-container-id-1 label.sk-toggleable__label-arrow:before {content: \"▸\";float: left;margin-right: 0.25em;color: #696969;}#sk-container-id-1 label.sk-toggleable__label-arrow:hover:before {color: black;}#sk-container-id-1 div.sk-estimator:hover label.sk-toggleable__label-arrow:before {color: black;}#sk-container-id-1 div.sk-toggleable__content {max-height: 0;max-width: 0;overflow: hidden;text-align: left;background-color: #f0f8ff;}#sk-container-id-1 div.sk-toggleable__content pre {margin: 0.2em;color: black;border-radius: 0.25em;background-color: #f0f8ff;}#sk-container-id-1 input.sk-toggleable__control:checked~div.sk-toggleable__content {max-height: 200px;max-width: 100%;overflow: auto;}#sk-container-id-1 input.sk-toggleable__control:checked~label.sk-toggleable__label-arrow:before {content: \"▾\";}#sk-container-id-1 div.sk-estimator input.sk-toggleable__control:checked~label.sk-toggleable__label {background-color: #d4ebff;}#sk-container-id-1 div.sk-label input.sk-toggleable__control:checked~label.sk-toggleable__label {background-color: #d4ebff;}#sk-container-id-1 input.sk-hidden--visually {border: 0;clip: rect(1px 1px 1px 1px);clip: rect(1px, 1px, 1px, 1px);height: 1px;margin: -1px;overflow: hidden;padding: 0;position: absolute;width: 1px;}#sk-container-id-1 div.sk-estimator {font-family: monospace;background-color: #f0f8ff;border: 1px dotted black;border-radius: 0.25em;box-sizing: border-box;margin-bottom: 0.5em;}#sk-container-id-1 div.sk-estimator:hover {background-color: #d4ebff;}#sk-container-id-1 div.sk-parallel-item::after {content: \"\";width: 100%;border-bottom: 1px solid gray;flex-grow: 1;}#sk-container-id-1 div.sk-label:hover label.sk-toggleable__label {background-color: #d4ebff;}#sk-container-id-1 div.sk-serial::before {content: \"\";position: absolute;border-left: 1px solid gray;box-sizing: border-box;top: 0;bottom: 0;left: 50%;z-index: 0;}#sk-container-id-1 div.sk-serial {display: flex;flex-direction: column;align-items: center;background-color: white;padding-right: 0.2em;padding-left: 0.2em;position: relative;}#sk-container-id-1 div.sk-item {position: relative;z-index: 1;}#sk-container-id-1 div.sk-parallel {display: flex;align-items: stretch;justify-content: center;background-color: white;position: relative;}#sk-container-id-1 div.sk-item::before, #sk-container-id-1 div.sk-parallel-item::before {content: \"\";position: absolute;border-left: 1px solid gray;box-sizing: border-box;top: 0;bottom: 0;left: 50%;z-index: -1;}#sk-container-id-1 div.sk-parallel-item {display: flex;flex-direction: column;z-index: 1;position: relative;background-color: white;}#sk-container-id-1 div.sk-parallel-item:first-child::after {align-self: flex-end;width: 50%;}#sk-container-id-1 div.sk-parallel-item:last-child::after {align-self: flex-start;width: 50%;}#sk-container-id-1 div.sk-parallel-item:only-child::after {width: 0;}#sk-container-id-1 div.sk-dashed-wrapped {border: 1px dashed gray;margin: 0 0.4em 0.5em 0.4em;box-sizing: border-box;padding-bottom: 0.4em;background-color: white;}#sk-container-id-1 div.sk-label label {font-family: monospace;font-weight: bold;display: inline-block;line-height: 1.2em;}#sk-container-id-1 div.sk-label-container {text-align: center;}#sk-container-id-1 div.sk-container {/* jupyter's `normalize.less` sets `[hidden] { display: none; }` but bootstrap.min.css set `[hidden] { display: none !important; }` so we also need the `!important` here to be able to override the default hidden behavior on the sphinx rendered scikit-learn.org. See: https://github.com/scikit-learn/scikit-learn/issues/21755 */display: inline-block !important;position: relative;}#sk-container-id-1 div.sk-text-repr-fallback {display: none;}</style><div id=\"sk-container-id-1\" class=\"sk-top-container\"><div class=\"sk-text-repr-fallback\"><pre>AdaBoostClassifier()</pre><b>In a Jupyter environment, please rerun this cell to show the HTML representation or trust the notebook. <br />On GitHub, the HTML representation is unable to render, please try loading this page with nbviewer.org.</b></div><div class=\"sk-container\" hidden><div class=\"sk-item\"><div class=\"sk-estimator sk-toggleable\"><input class=\"sk-toggleable__control sk-hidden--visually\" id=\"sk-estimator-id-1\" type=\"checkbox\" checked><label for=\"sk-estimator-id-1\" class=\"sk-toggleable__label sk-toggleable__label-arrow\">AdaBoostClassifier</label><div class=\"sk-toggleable__content\"><pre>AdaBoostClassifier()</pre></div></div></div></div></div>"
      ],
      "text/plain": [
       "AdaBoostClassifier()"
      ]
     },
     "execution_count": 6,
     "metadata": {},
     "output_type": "execute_result"
    }
   ],
   "source": [
    "classifier = AdaBoostClassifier()\n",
    "classifier.fit(X_train, y_train)"
   ]
  },
  {
   "cell_type": "markdown",
   "id": "7f1e2165",
   "metadata": {},
   "source": [
    "# Make Predictions "
   ]
  },
  {
   "cell_type": "code",
   "execution_count": 7,
   "id": "f4927ed5",
   "metadata": {},
   "outputs": [
    {
     "name": "stdout",
     "output_type": "stream",
     "text": [
      "Current model performance:\n",
      "Accuracy: 0.8238805970149253\n",
      "Classification Report:\n",
      "              precision    recall  f1-score   support\n",
      "\n",
      "           0       0.84      0.81      0.82       336\n",
      "           1       0.81      0.84      0.83       334\n",
      "\n",
      "    accuracy                           0.82       670\n",
      "   macro avg       0.82      0.82      0.82       670\n",
      "weighted avg       0.82      0.82      0.82       670\n",
      "\n",
      "Confusion Matrix:\n",
      "[[271  65]\n",
      " [ 53 281]]\n"
     ]
    }
   ],
   "source": [
    "y_pred = classifier.predict(X_test)\n",
    "\n",
    "# Evaluate the model\n",
    "print('Current model performance:')\n",
    "print(f'Accuracy: {accuracy_score(y_test, y_pred)}')\n",
    "print('Classification Report:')\n",
    "print(classification_report(y_test, y_pred))\n",
    "print('Confusion Matrix:')\n",
    "print(confusion_matrix(y_test, y_pred))"
   ]
  },
  {
   "cell_type": "markdown",
   "id": "5e52401d",
   "metadata": {},
   "source": [
    "# Hyperparameter Tunning"
   ]
  },
  {
   "cell_type": "code",
   "execution_count": 8,
   "id": "6a3c5f73",
   "metadata": {},
   "outputs": [
    {
     "name": "stdout",
     "output_type": "stream",
     "text": [
      "Fitting 5 folds for each of 30 candidates, totalling 150 fits\n",
      "Best parameters: {'algorithm': 'SAMME', 'learning_rate': 0.1, 'n_estimators': 200}\n",
      "Best score: 0.8272727272727272\n"
     ]
    }
   ],
   "source": [
    "from sklearn.ensemble import AdaBoostClassifier\n",
    "from sklearn.model_selection import GridSearchCV\n",
    "\n",
    "# Define the parameter grid\n",
    "param_grid = {\n",
    "    'n_estimators': [50, 100, 200],\n",
    "    'learning_rate': [0.01, 0.1, 1.0, 1.5, 2.0],\n",
    "    'algorithm': ['SAMME', 'SAMME.R']\n",
    "}\n",
    "\n",
    "# Initialize the AdaBoostClassifier\n",
    "ada = AdaBoostClassifier()\n",
    "\n",
    "# Set up GridSearchCV\n",
    "clf = GridSearchCV(estimator=ada, param_grid=param_grid, cv=5, verbose=3, n_jobs=-1)\n",
    "\n",
    "# Assuming X_train and y_train are defined\n",
    "clf.fit(X_train, y_train)\n",
    "\n",
    "# Get the best parameters and best score\n",
    "print(f\"Best parameters: {clf.best_params_}\")\n",
    "print(f\"Best score: {clf.best_score_}\")\n"
   ]
  },
  {
   "cell_type": "code",
   "execution_count": 9,
   "id": "dc826d65",
   "metadata": {},
   "outputs": [
    {
     "name": "stdout",
     "output_type": "stream",
     "text": [
      "Fitting 5 folds for each of 30 candidates, totalling 150 fits\n"
     ]
    },
    {
     "data": {
      "text/html": [
       "<style>#sk-container-id-2 {color: black;background-color: white;}#sk-container-id-2 pre{padding: 0;}#sk-container-id-2 div.sk-toggleable {background-color: white;}#sk-container-id-2 label.sk-toggleable__label {cursor: pointer;display: block;width: 100%;margin-bottom: 0;padding: 0.3em;box-sizing: border-box;text-align: center;}#sk-container-id-2 label.sk-toggleable__label-arrow:before {content: \"▸\";float: left;margin-right: 0.25em;color: #696969;}#sk-container-id-2 label.sk-toggleable__label-arrow:hover:before {color: black;}#sk-container-id-2 div.sk-estimator:hover label.sk-toggleable__label-arrow:before {color: black;}#sk-container-id-2 div.sk-toggleable__content {max-height: 0;max-width: 0;overflow: hidden;text-align: left;background-color: #f0f8ff;}#sk-container-id-2 div.sk-toggleable__content pre {margin: 0.2em;color: black;border-radius: 0.25em;background-color: #f0f8ff;}#sk-container-id-2 input.sk-toggleable__control:checked~div.sk-toggleable__content {max-height: 200px;max-width: 100%;overflow: auto;}#sk-container-id-2 input.sk-toggleable__control:checked~label.sk-toggleable__label-arrow:before {content: \"▾\";}#sk-container-id-2 div.sk-estimator input.sk-toggleable__control:checked~label.sk-toggleable__label {background-color: #d4ebff;}#sk-container-id-2 div.sk-label input.sk-toggleable__control:checked~label.sk-toggleable__label {background-color: #d4ebff;}#sk-container-id-2 input.sk-hidden--visually {border: 0;clip: rect(1px 1px 1px 1px);clip: rect(1px, 1px, 1px, 1px);height: 1px;margin: -1px;overflow: hidden;padding: 0;position: absolute;width: 1px;}#sk-container-id-2 div.sk-estimator {font-family: monospace;background-color: #f0f8ff;border: 1px dotted black;border-radius: 0.25em;box-sizing: border-box;margin-bottom: 0.5em;}#sk-container-id-2 div.sk-estimator:hover {background-color: #d4ebff;}#sk-container-id-2 div.sk-parallel-item::after {content: \"\";width: 100%;border-bottom: 1px solid gray;flex-grow: 1;}#sk-container-id-2 div.sk-label:hover label.sk-toggleable__label {background-color: #d4ebff;}#sk-container-id-2 div.sk-serial::before {content: \"\";position: absolute;border-left: 1px solid gray;box-sizing: border-box;top: 0;bottom: 0;left: 50%;z-index: 0;}#sk-container-id-2 div.sk-serial {display: flex;flex-direction: column;align-items: center;background-color: white;padding-right: 0.2em;padding-left: 0.2em;position: relative;}#sk-container-id-2 div.sk-item {position: relative;z-index: 1;}#sk-container-id-2 div.sk-parallel {display: flex;align-items: stretch;justify-content: center;background-color: white;position: relative;}#sk-container-id-2 div.sk-item::before, #sk-container-id-2 div.sk-parallel-item::before {content: \"\";position: absolute;border-left: 1px solid gray;box-sizing: border-box;top: 0;bottom: 0;left: 50%;z-index: -1;}#sk-container-id-2 div.sk-parallel-item {display: flex;flex-direction: column;z-index: 1;position: relative;background-color: white;}#sk-container-id-2 div.sk-parallel-item:first-child::after {align-self: flex-end;width: 50%;}#sk-container-id-2 div.sk-parallel-item:last-child::after {align-self: flex-start;width: 50%;}#sk-container-id-2 div.sk-parallel-item:only-child::after {width: 0;}#sk-container-id-2 div.sk-dashed-wrapped {border: 1px dashed gray;margin: 0 0.4em 0.5em 0.4em;box-sizing: border-box;padding-bottom: 0.4em;background-color: white;}#sk-container-id-2 div.sk-label label {font-family: monospace;font-weight: bold;display: inline-block;line-height: 1.2em;}#sk-container-id-2 div.sk-label-container {text-align: center;}#sk-container-id-2 div.sk-container {/* jupyter's `normalize.less` sets `[hidden] { display: none; }` but bootstrap.min.css set `[hidden] { display: none !important; }` so we also need the `!important` here to be able to override the default hidden behavior on the sphinx rendered scikit-learn.org. See: https://github.com/scikit-learn/scikit-learn/issues/21755 */display: inline-block !important;position: relative;}#sk-container-id-2 div.sk-text-repr-fallback {display: none;}</style><div id=\"sk-container-id-2\" class=\"sk-top-container\"><div class=\"sk-text-repr-fallback\"><pre>GridSearchCV(cv=5, estimator=AdaBoostClassifier(), n_jobs=-1,\n",
       "             param_grid={&#x27;algorithm&#x27;: [&#x27;SAMME&#x27;, &#x27;SAMME.R&#x27;],\n",
       "                         &#x27;learning_rate&#x27;: [0.01, 0.1, 1.0, 1.5, 2.0],\n",
       "                         &#x27;n_estimators&#x27;: [50, 100, 200]},\n",
       "             verbose=3)</pre><b>In a Jupyter environment, please rerun this cell to show the HTML representation or trust the notebook. <br />On GitHub, the HTML representation is unable to render, please try loading this page with nbviewer.org.</b></div><div class=\"sk-container\" hidden><div class=\"sk-item sk-dashed-wrapped\"><div class=\"sk-label-container\"><div class=\"sk-label sk-toggleable\"><input class=\"sk-toggleable__control sk-hidden--visually\" id=\"sk-estimator-id-2\" type=\"checkbox\" ><label for=\"sk-estimator-id-2\" class=\"sk-toggleable__label sk-toggleable__label-arrow\">GridSearchCV</label><div class=\"sk-toggleable__content\"><pre>GridSearchCV(cv=5, estimator=AdaBoostClassifier(), n_jobs=-1,\n",
       "             param_grid={&#x27;algorithm&#x27;: [&#x27;SAMME&#x27;, &#x27;SAMME.R&#x27;],\n",
       "                         &#x27;learning_rate&#x27;: [0.01, 0.1, 1.0, 1.5, 2.0],\n",
       "                         &#x27;n_estimators&#x27;: [50, 100, 200]},\n",
       "             verbose=3)</pre></div></div></div><div class=\"sk-parallel\"><div class=\"sk-parallel-item\"><div class=\"sk-item\"><div class=\"sk-label-container\"><div class=\"sk-label sk-toggleable\"><input class=\"sk-toggleable__control sk-hidden--visually\" id=\"sk-estimator-id-3\" type=\"checkbox\" ><label for=\"sk-estimator-id-3\" class=\"sk-toggleable__label sk-toggleable__label-arrow\">estimator: AdaBoostClassifier</label><div class=\"sk-toggleable__content\"><pre>AdaBoostClassifier()</pre></div></div></div><div class=\"sk-serial\"><div class=\"sk-item\"><div class=\"sk-estimator sk-toggleable\"><input class=\"sk-toggleable__control sk-hidden--visually\" id=\"sk-estimator-id-4\" type=\"checkbox\" ><label for=\"sk-estimator-id-4\" class=\"sk-toggleable__label sk-toggleable__label-arrow\">AdaBoostClassifier</label><div class=\"sk-toggleable__content\"><pre>AdaBoostClassifier()</pre></div></div></div></div></div></div></div></div></div></div>"
      ],
      "text/plain": [
       "GridSearchCV(cv=5, estimator=AdaBoostClassifier(), n_jobs=-1,\n",
       "             param_grid={'algorithm': ['SAMME', 'SAMME.R'],\n",
       "                         'learning_rate': [0.01, 0.1, 1.0, 1.5, 2.0],\n",
       "                         'n_estimators': [50, 100, 200]},\n",
       "             verbose=3)"
      ]
     },
     "execution_count": 9,
     "metadata": {},
     "output_type": "execute_result"
    }
   ],
   "source": [
    "clf.fit(X_train, y_train)"
   ]
  },
  {
   "cell_type": "code",
   "execution_count": 10,
   "id": "7171109b",
   "metadata": {},
   "outputs": [
    {
     "data": {
      "text/plain": [
       "{'algorithm': 'SAMME', 'learning_rate': 0.1, 'n_estimators': 200}"
      ]
     },
     "execution_count": 10,
     "metadata": {},
     "output_type": "execute_result"
    }
   ],
   "source": [
    "clf.best_params_"
   ]
  },
  {
   "cell_type": "code",
   "execution_count": 11,
   "id": "e6cf66a3",
   "metadata": {},
   "outputs": [
    {
     "data": {
      "text/html": [
       "<style>#sk-container-id-3 {color: black;background-color: white;}#sk-container-id-3 pre{padding: 0;}#sk-container-id-3 div.sk-toggleable {background-color: white;}#sk-container-id-3 label.sk-toggleable__label {cursor: pointer;display: block;width: 100%;margin-bottom: 0;padding: 0.3em;box-sizing: border-box;text-align: center;}#sk-container-id-3 label.sk-toggleable__label-arrow:before {content: \"▸\";float: left;margin-right: 0.25em;color: #696969;}#sk-container-id-3 label.sk-toggleable__label-arrow:hover:before {color: black;}#sk-container-id-3 div.sk-estimator:hover label.sk-toggleable__label-arrow:before {color: black;}#sk-container-id-3 div.sk-toggleable__content {max-height: 0;max-width: 0;overflow: hidden;text-align: left;background-color: #f0f8ff;}#sk-container-id-3 div.sk-toggleable__content pre {margin: 0.2em;color: black;border-radius: 0.25em;background-color: #f0f8ff;}#sk-container-id-3 input.sk-toggleable__control:checked~div.sk-toggleable__content {max-height: 200px;max-width: 100%;overflow: auto;}#sk-container-id-3 input.sk-toggleable__control:checked~label.sk-toggleable__label-arrow:before {content: \"▾\";}#sk-container-id-3 div.sk-estimator input.sk-toggleable__control:checked~label.sk-toggleable__label {background-color: #d4ebff;}#sk-container-id-3 div.sk-label input.sk-toggleable__control:checked~label.sk-toggleable__label {background-color: #d4ebff;}#sk-container-id-3 input.sk-hidden--visually {border: 0;clip: rect(1px 1px 1px 1px);clip: rect(1px, 1px, 1px, 1px);height: 1px;margin: -1px;overflow: hidden;padding: 0;position: absolute;width: 1px;}#sk-container-id-3 div.sk-estimator {font-family: monospace;background-color: #f0f8ff;border: 1px dotted black;border-radius: 0.25em;box-sizing: border-box;margin-bottom: 0.5em;}#sk-container-id-3 div.sk-estimator:hover {background-color: #d4ebff;}#sk-container-id-3 div.sk-parallel-item::after {content: \"\";width: 100%;border-bottom: 1px solid gray;flex-grow: 1;}#sk-container-id-3 div.sk-label:hover label.sk-toggleable__label {background-color: #d4ebff;}#sk-container-id-3 div.sk-serial::before {content: \"\";position: absolute;border-left: 1px solid gray;box-sizing: border-box;top: 0;bottom: 0;left: 50%;z-index: 0;}#sk-container-id-3 div.sk-serial {display: flex;flex-direction: column;align-items: center;background-color: white;padding-right: 0.2em;padding-left: 0.2em;position: relative;}#sk-container-id-3 div.sk-item {position: relative;z-index: 1;}#sk-container-id-3 div.sk-parallel {display: flex;align-items: stretch;justify-content: center;background-color: white;position: relative;}#sk-container-id-3 div.sk-item::before, #sk-container-id-3 div.sk-parallel-item::before {content: \"\";position: absolute;border-left: 1px solid gray;box-sizing: border-box;top: 0;bottom: 0;left: 50%;z-index: -1;}#sk-container-id-3 div.sk-parallel-item {display: flex;flex-direction: column;z-index: 1;position: relative;background-color: white;}#sk-container-id-3 div.sk-parallel-item:first-child::after {align-self: flex-end;width: 50%;}#sk-container-id-3 div.sk-parallel-item:last-child::after {align-self: flex-start;width: 50%;}#sk-container-id-3 div.sk-parallel-item:only-child::after {width: 0;}#sk-container-id-3 div.sk-dashed-wrapped {border: 1px dashed gray;margin: 0 0.4em 0.5em 0.4em;box-sizing: border-box;padding-bottom: 0.4em;background-color: white;}#sk-container-id-3 div.sk-label label {font-family: monospace;font-weight: bold;display: inline-block;line-height: 1.2em;}#sk-container-id-3 div.sk-label-container {text-align: center;}#sk-container-id-3 div.sk-container {/* jupyter's `normalize.less` sets `[hidden] { display: none; }` but bootstrap.min.css set `[hidden] { display: none !important; }` so we also need the `!important` here to be able to override the default hidden behavior on the sphinx rendered scikit-learn.org. See: https://github.com/scikit-learn/scikit-learn/issues/21755 */display: inline-block !important;position: relative;}#sk-container-id-3 div.sk-text-repr-fallback {display: none;}</style><div id=\"sk-container-id-3\" class=\"sk-top-container\"><div class=\"sk-text-repr-fallback\"><pre>AdaBoostClassifier(algorithm=&#x27;SAMME&#x27;, learning_rate=0.1, n_estimators=200)</pre><b>In a Jupyter environment, please rerun this cell to show the HTML representation or trust the notebook. <br />On GitHub, the HTML representation is unable to render, please try loading this page with nbviewer.org.</b></div><div class=\"sk-container\" hidden><div class=\"sk-item\"><div class=\"sk-estimator sk-toggleable\"><input class=\"sk-toggleable__control sk-hidden--visually\" id=\"sk-estimator-id-5\" type=\"checkbox\" checked><label for=\"sk-estimator-id-5\" class=\"sk-toggleable__label sk-toggleable__label-arrow\">AdaBoostClassifier</label><div class=\"sk-toggleable__content\"><pre>AdaBoostClassifier(algorithm=&#x27;SAMME&#x27;, learning_rate=0.1, n_estimators=200)</pre></div></div></div></div></div>"
      ],
      "text/plain": [
       "AdaBoostClassifier(algorithm='SAMME', learning_rate=0.1, n_estimators=200)"
      ]
     },
     "execution_count": 11,
     "metadata": {},
     "output_type": "execute_result"
    }
   ],
   "source": [
    "clf.best_estimator_"
   ]
  },
  {
   "cell_type": "code",
   "execution_count": 12,
   "id": "03ca3288",
   "metadata": {},
   "outputs": [],
   "source": [
    "best_model = clf.best_estimator_"
   ]
  },
  {
   "cell_type": "code",
   "execution_count": 13,
   "id": "9993696a",
   "metadata": {},
   "outputs": [
    {
     "data": {
      "text/html": [
       "<style>#sk-container-id-4 {color: black;background-color: white;}#sk-container-id-4 pre{padding: 0;}#sk-container-id-4 div.sk-toggleable {background-color: white;}#sk-container-id-4 label.sk-toggleable__label {cursor: pointer;display: block;width: 100%;margin-bottom: 0;padding: 0.3em;box-sizing: border-box;text-align: center;}#sk-container-id-4 label.sk-toggleable__label-arrow:before {content: \"▸\";float: left;margin-right: 0.25em;color: #696969;}#sk-container-id-4 label.sk-toggleable__label-arrow:hover:before {color: black;}#sk-container-id-4 div.sk-estimator:hover label.sk-toggleable__label-arrow:before {color: black;}#sk-container-id-4 div.sk-toggleable__content {max-height: 0;max-width: 0;overflow: hidden;text-align: left;background-color: #f0f8ff;}#sk-container-id-4 div.sk-toggleable__content pre {margin: 0.2em;color: black;border-radius: 0.25em;background-color: #f0f8ff;}#sk-container-id-4 input.sk-toggleable__control:checked~div.sk-toggleable__content {max-height: 200px;max-width: 100%;overflow: auto;}#sk-container-id-4 input.sk-toggleable__control:checked~label.sk-toggleable__label-arrow:before {content: \"▾\";}#sk-container-id-4 div.sk-estimator input.sk-toggleable__control:checked~label.sk-toggleable__label {background-color: #d4ebff;}#sk-container-id-4 div.sk-label input.sk-toggleable__control:checked~label.sk-toggleable__label {background-color: #d4ebff;}#sk-container-id-4 input.sk-hidden--visually {border: 0;clip: rect(1px 1px 1px 1px);clip: rect(1px, 1px, 1px, 1px);height: 1px;margin: -1px;overflow: hidden;padding: 0;position: absolute;width: 1px;}#sk-container-id-4 div.sk-estimator {font-family: monospace;background-color: #f0f8ff;border: 1px dotted black;border-radius: 0.25em;box-sizing: border-box;margin-bottom: 0.5em;}#sk-container-id-4 div.sk-estimator:hover {background-color: #d4ebff;}#sk-container-id-4 div.sk-parallel-item::after {content: \"\";width: 100%;border-bottom: 1px solid gray;flex-grow: 1;}#sk-container-id-4 div.sk-label:hover label.sk-toggleable__label {background-color: #d4ebff;}#sk-container-id-4 div.sk-serial::before {content: \"\";position: absolute;border-left: 1px solid gray;box-sizing: border-box;top: 0;bottom: 0;left: 50%;z-index: 0;}#sk-container-id-4 div.sk-serial {display: flex;flex-direction: column;align-items: center;background-color: white;padding-right: 0.2em;padding-left: 0.2em;position: relative;}#sk-container-id-4 div.sk-item {position: relative;z-index: 1;}#sk-container-id-4 div.sk-parallel {display: flex;align-items: stretch;justify-content: center;background-color: white;position: relative;}#sk-container-id-4 div.sk-item::before, #sk-container-id-4 div.sk-parallel-item::before {content: \"\";position: absolute;border-left: 1px solid gray;box-sizing: border-box;top: 0;bottom: 0;left: 50%;z-index: -1;}#sk-container-id-4 div.sk-parallel-item {display: flex;flex-direction: column;z-index: 1;position: relative;background-color: white;}#sk-container-id-4 div.sk-parallel-item:first-child::after {align-self: flex-end;width: 50%;}#sk-container-id-4 div.sk-parallel-item:last-child::after {align-self: flex-start;width: 50%;}#sk-container-id-4 div.sk-parallel-item:only-child::after {width: 0;}#sk-container-id-4 div.sk-dashed-wrapped {border: 1px dashed gray;margin: 0 0.4em 0.5em 0.4em;box-sizing: border-box;padding-bottom: 0.4em;background-color: white;}#sk-container-id-4 div.sk-label label {font-family: monospace;font-weight: bold;display: inline-block;line-height: 1.2em;}#sk-container-id-4 div.sk-label-container {text-align: center;}#sk-container-id-4 div.sk-container {/* jupyter's `normalize.less` sets `[hidden] { display: none; }` but bootstrap.min.css set `[hidden] { display: none !important; }` so we also need the `!important` here to be able to override the default hidden behavior on the sphinx rendered scikit-learn.org. See: https://github.com/scikit-learn/scikit-learn/issues/21755 */display: inline-block !important;position: relative;}#sk-container-id-4 div.sk-text-repr-fallback {display: none;}</style><div id=\"sk-container-id-4\" class=\"sk-top-container\"><div class=\"sk-text-repr-fallback\"><pre>AdaBoostClassifier(algorithm=&#x27;SAMME&#x27;, learning_rate=0.1, n_estimators=200)</pre><b>In a Jupyter environment, please rerun this cell to show the HTML representation or trust the notebook. <br />On GitHub, the HTML representation is unable to render, please try loading this page with nbviewer.org.</b></div><div class=\"sk-container\" hidden><div class=\"sk-item\"><div class=\"sk-estimator sk-toggleable\"><input class=\"sk-toggleable__control sk-hidden--visually\" id=\"sk-estimator-id-6\" type=\"checkbox\" checked><label for=\"sk-estimator-id-6\" class=\"sk-toggleable__label sk-toggleable__label-arrow\">AdaBoostClassifier</label><div class=\"sk-toggleable__content\"><pre>AdaBoostClassifier(algorithm=&#x27;SAMME&#x27;, learning_rate=0.1, n_estimators=200)</pre></div></div></div></div></div>"
      ],
      "text/plain": [
       "AdaBoostClassifier(algorithm='SAMME', learning_rate=0.1, n_estimators=200)"
      ]
     },
     "execution_count": 13,
     "metadata": {},
     "output_type": "execute_result"
    }
   ],
   "source": [
    "best_model"
   ]
  },
  {
   "cell_type": "code",
   "execution_count": 14,
   "id": "b38021a1",
   "metadata": {},
   "outputs": [],
   "source": [
    "y_pred_tuned = best_model.predict(X_test)"
   ]
  },
  {
   "cell_type": "code",
   "execution_count": 15,
   "id": "2b0b1f5a",
   "metadata": {},
   "outputs": [
    {
     "name": "stdout",
     "output_type": "stream",
     "text": [
      "Tunned model performance:\n",
      "Accuracy: 0.8656716417910447\n",
      "Classification Report:\n",
      "              precision    recall  f1-score   support\n",
      "\n",
      "           0       0.88      0.85      0.86       336\n",
      "           1       0.86      0.88      0.87       334\n",
      "\n",
      "    accuracy                           0.87       670\n",
      "   macro avg       0.87      0.87      0.87       670\n",
      "weighted avg       0.87      0.87      0.87       670\n",
      "\n",
      "Confusion Matrix:\n",
      "[[287  49]\n",
      " [ 41 293]]\n"
     ]
    }
   ],
   "source": [
    "# Evaluate the model\n",
    "print('Tunned model performance:')\n",
    "print(f'Accuracy: {accuracy_score(y_test, y_pred_tuned)}')\n",
    "print('Classification Report:')\n",
    "print(classification_report(y_test, y_pred_tuned))\n",
    "print('Confusion Matrix:')\n",
    "print(confusion_matrix(y_test, y_pred_tuned))"
   ]
  },
  {
   "cell_type": "markdown",
   "id": "6cbf07a8",
   "metadata": {},
   "source": [
    "# AdaBoost Regressor "
   ]
  },
  {
   "cell_type": "code",
   "execution_count": 16,
   "id": "5e436504",
   "metadata": {},
   "outputs": [],
   "source": [
    "from sklearn.datasets import make_regression \n",
    "from sklearn.model_selection import train_test_split\n",
    "from sklearn.ensemble import AdaBoostRegressor\n",
    "from sklearn.metrics import r2_score, mean_absolute_error, mean_squared_error"
   ]
  },
  {
   "cell_type": "code",
   "execution_count": 17,
   "id": "7c400530",
   "metadata": {},
   "outputs": [],
   "source": [
    "X,y = make_regression(n_samples=1000, n_features=2, noise=10, random_state=1)"
   ]
  },
  {
   "cell_type": "code",
   "execution_count": 18,
   "id": "39aab6a4",
   "metadata": {},
   "outputs": [
    {
     "data": {
      "text/plain": [
       "array([[-0.91542437, -1.94504696],\n",
       "       [-2.30490794, -0.59246129],\n",
       "       [-0.43750898, -0.78191168],\n",
       "       ...,\n",
       "       [-0.46867382,  0.02186284],\n",
       "       [-0.44265541,  0.55753264],\n",
       "       [-0.13971173,  0.85328219]])"
      ]
     },
     "execution_count": 18,
     "metadata": {},
     "output_type": "execute_result"
    }
   ],
   "source": [
    "X"
   ]
  },
  {
   "cell_type": "code",
   "execution_count": 19,
   "id": "e07f56b9",
   "metadata": {},
   "outputs": [
    {
     "data": {
      "text/plain": [
       "array([-1.98367142e+02, -7.18777056e+01, -8.69703239e+01, -6.96492401e+01,\n",
       "        1.82745760e+01, -3.77114686e+01,  3.92726728e+01, -9.78831863e+01,\n",
       "       -9.79418533e+01, -1.18326213e+02,  7.37176065e+01,  1.15947984e+01,\n",
       "       -1.14639116e+02,  1.18554758e+02, -1.09479268e+02,  4.55822523e+01,\n",
       "        1.22163385e+01, -7.55247901e+01, -1.07584299e+02, -1.52546032e+02,\n",
       "        6.76376929e+00,  9.63814831e+00, -2.16279129e+01,  7.04567440e+01,\n",
       "        1.07700199e+02,  1.09477518e+01,  1.17165036e+02,  2.78449353e+01,\n",
       "        3.24248766e+01, -1.55808165e+01,  9.64321593e+01, -2.68980403e+02,\n",
       "        3.04398725e+01, -5.03731238e+01,  1.83865434e+01, -4.20020243e+01,\n",
       "        2.60722898e+01, -4.24419694e+01, -2.84245422e+01,  7.87732991e+01,\n",
       "        6.38527251e+01,  1.05600811e+02,  2.54784577e+01, -4.37001825e+01,\n",
       "       -4.56639834e+01,  2.25475298e+01, -2.44159979e+01,  2.14189935e+00,\n",
       "       -7.55772986e+01,  9.71903066e+01, -1.01696566e+02,  1.10063672e+02,\n",
       "        3.74493102e+01,  2.85960878e+01, -1.28192247e+02,  6.21207172e+01,\n",
       "       -3.84531786e+01, -5.58297292e+01,  4.12706789e+01, -1.65182031e+02,\n",
       "       -1.23251201e+02,  6.52910273e+00, -1.00370432e+02, -2.77788795e+01,\n",
       "       -2.43138853e+00,  1.33753735e+02, -1.52179892e+02, -1.18809328e+02,\n",
       "        6.69571848e+01,  5.31410367e+01,  1.00596320e+01,  1.97579837e+01,\n",
       "        1.49891106e+02, -6.02166097e+01, -1.63802296e+02,  1.23729854e+01,\n",
       "        2.34116047e+00,  1.54377710e+00, -7.83929583e+01, -1.27821859e+02,\n",
       "        8.93110298e+01,  4.24190565e+01,  2.38958954e+01,  1.48907451e+02,\n",
       "       -7.05246076e+01,  4.07547051e+01,  6.28677939e+01,  8.41983902e+01,\n",
       "        1.28892178e+01,  1.17454662e+02, -4.85191699e+01,  1.44224957e+02,\n",
       "       -1.16631977e+02,  2.96220419e+01, -2.69663848e+01, -6.04170974e+01,\n",
       "        7.39424957e+01, -1.54867509e+02, -3.64943172e+01,  3.17160300e+01,\n",
       "       -1.59632561e+01, -2.10594637e+02, -2.49116202e+02, -4.35451840e+00,\n",
       "        1.50019305e+02, -9.80721775e+01,  2.22464734e+02, -2.53868758e+01,\n",
       "       -5.99190722e+01, -1.22600466e+02,  2.14241410e+02, -3.69079955e+01,\n",
       "        4.85955380e+01, -4.54403982e+01, -4.32393324e+01, -8.66915299e+01,\n",
       "       -2.04039181e+01,  1.10939116e+02, -1.17166101e+01,  1.05019814e+01,\n",
       "       -3.49717724e+01, -1.43206862e+02, -4.16416794e+01,  1.29555487e+01,\n",
       "        9.10331027e+01, -1.43368968e+02, -6.03142607e+01, -4.20718819e+01,\n",
       "        5.85698307e+01,  4.30901316e+01,  2.66792354e+01,  4.76258767e+01,\n",
       "       -5.73089582e+01, -1.73939655e+02, -4.50842333e+00, -1.34806123e-01,\n",
       "        1.73296264e+01, -3.57026727e+01, -3.61871441e+01,  6.26109904e+01,\n",
       "       -3.82277955e+01,  2.41435520e+01,  6.93048259e+00, -4.79652292e+01,\n",
       "        3.19376794e+01,  3.06846478e+01,  1.12049886e+02, -4.17108406e+01,\n",
       "       -5.30545199e+00, -2.99242812e+01, -1.11292933e+01,  1.02230178e+02,\n",
       "        8.13804109e+01,  3.32215178e+01, -1.85021756e+01, -1.21212186e+01,\n",
       "       -3.61536452e+01, -2.41807030e+01, -8.42911874e+01, -1.93767879e+02,\n",
       "        1.70489299e+02, -6.66931951e+01,  1.65568253e+02,  8.68613434e+01,\n",
       "        1.59368325e+02,  1.85403056e+01, -3.57627274e+01, -4.64953304e+01,\n",
       "       -2.80200903e+01,  1.67889638e+01, -7.24537672e+01, -4.55429679e+01,\n",
       "        1.10592338e+02,  1.15890839e+02, -9.23827529e+01,  9.27506793e+01,\n",
       "       -6.44449219e+01,  1.99916645e+01,  1.94626429e+01, -2.23865693e+01,\n",
       "        1.67144020e+01, -7.39462450e+01, -1.19936661e+02,  1.12210256e+02,\n",
       "        9.57469866e+01,  4.77668494e+01,  7.44522158e+01, -3.92107359e+00,\n",
       "       -1.91607986e+01, -1.05727152e+02,  1.42703400e+02,  1.22904763e+02,\n",
       "       -2.49109201e+01,  9.55567942e+01,  1.47274287e+02, -4.31891095e+01,\n",
       "        7.29066577e+01, -2.04566883e+01,  1.10590948e+02,  1.17263363e+01,\n",
       "        2.76932900e+01, -1.68736355e+01, -8.49229215e+01, -6.94245095e+00,\n",
       "        1.60110753e+02, -1.21376748e+02, -9.52938127e+00,  9.09640624e+01,\n",
       "        1.37380917e+02,  9.10405258e+01, -2.67533518e+01,  1.30774412e+02,\n",
       "       -6.79838183e+01, -3.76650987e+01, -8.84383494e+01, -3.92311865e+00,\n",
       "       -6.91603362e+01,  1.39329721e+02,  1.25380592e+02, -7.78688885e+01,\n",
       "       -1.02160886e+02, -5.16892666e+01, -4.82684224e+01,  5.65945254e+01,\n",
       "        1.18741962e+01, -4.36592251e+01,  4.94580775e+01, -9.36891011e+01,\n",
       "        5.94948422e+01, -1.03566983e+02,  1.47006040e+02,  6.72543196e+01,\n",
       "        6.26309750e+01,  5.06969906e+01, -2.69534282e+01, -9.66582044e+00,\n",
       "       -1.60932832e+01, -1.56981244e+01, -1.33973345e+02, -6.82203913e+01,\n",
       "       -7.62353223e+01,  8.88809462e+01,  6.80561880e+01,  1.55133908e+02,\n",
       "        5.84614738e+01,  2.29283283e+02,  6.91587865e+01,  5.93727197e+01,\n",
       "       -8.73703178e+01,  1.12892733e+02,  6.11289014e+01,  6.71737648e+00,\n",
       "        2.04218289e+02,  6.25669437e+01,  1.64128381e+02,  2.37273569e+00,\n",
       "        1.08205598e+01, -2.16862063e+01,  1.31497683e+02,  3.86412184e+01,\n",
       "       -2.86857719e+01,  3.21909660e+01, -7.33695703e+00,  1.46110857e+02,\n",
       "       -5.97645212e+01, -9.95094699e+01, -1.11070829e+02, -1.79205945e+02,\n",
       "        9.75325331e-02, -7.84264608e+01, -4.99892928e+01,  1.36694698e+02,\n",
       "        5.35069839e+01,  6.65439496e+01,  2.05834326e+01, -7.82739355e+01,\n",
       "       -1.18527997e+02,  2.95274762e+01, -8.29473866e+01, -4.03832237e+01,\n",
       "        1.86771759e+02, -8.02916336e+01, -9.27902177e+01,  6.27140292e+01,\n",
       "       -9.99377724e+00, -7.92365772e+01, -3.39587229e+01, -8.02645697e+01,\n",
       "        1.74492894e+01, -4.27063856e+01,  7.33292357e+01, -3.78380524e+01,\n",
       "       -2.31589798e+02,  4.09507915e+01, -4.59810276e+01,  3.51499228e+01,\n",
       "        2.08752493e+01, -1.21306528e+02,  1.35934829e+01,  1.42925379e+02,\n",
       "       -4.21847793e+01,  6.41103708e+01,  1.37084716e+02, -1.40282240e+01,\n",
       "        5.00072302e+01,  1.72978385e+02, -4.18585567e+01,  6.55459506e+01,\n",
       "        1.72658150e+01,  9.79184591e+01, -7.95581435e+01,  5.77312392e+01,\n",
       "        1.03737978e+02,  1.42815437e+01,  6.82363091e+01,  2.64731267e+01,\n",
       "       -1.02246369e+02, -4.36937714e+01, -1.45474173e+02,  1.23688771e+02,\n",
       "        1.34485333e+02,  1.91999719e+01,  1.15301292e+02,  2.93363984e+01,\n",
       "        1.33857173e+02, -4.66129020e+01,  1.84642526e+02,  4.11890390e+01,\n",
       "        3.15098415e+01,  5.54226014e+01, -8.37378513e+01,  3.07518630e+01,\n",
       "        1.34192283e+02, -7.75615658e+01, -1.00844147e+02,  6.74861563e+01,\n",
       "       -2.57539708e+01, -9.24354888e+01, -3.37043393e+01, -9.41716231e+01,\n",
       "        6.73714854e+01,  3.37182811e+01,  1.06895200e+02, -7.52592532e+01,\n",
       "       -1.19604430e+02,  1.16032963e+02,  8.86534998e+01, -4.32669208e+01,\n",
       "       -1.00032494e+02,  4.83372312e+01,  3.79306614e+01, -4.65728653e+01,\n",
       "       -1.04207531e+02, -5.80878933e+01,  2.23450642e+01,  8.98132047e+00,\n",
       "        1.49219261e+02, -1.24322367e+02, -2.53777467e+01, -7.76982843e+01,\n",
       "        7.29574986e+00, -1.37192692e+02, -4.50684103e+01, -5.92019832e+01,\n",
       "        9.77717914e+01,  1.10367596e+02, -1.37018925e+01, -2.33264674e+02,\n",
       "        3.51593194e+01, -8.06818825e+01,  3.59921840e+01,  1.68178903e+02,\n",
       "        3.68865104e+01,  5.89580919e+01,  2.65184063e+02,  1.04927256e+02,\n",
       "       -1.29627593e+02,  1.10845374e+02, -2.08119707e+02,  6.50036126e+01,\n",
       "        1.59044132e+01,  1.62531005e+01,  1.78666943e+02, -5.97776008e+01,\n",
       "       -1.87089971e+02,  7.89189274e+01, -5.20584484e+01, -8.11091309e+01,\n",
       "        3.18201407e+01,  1.79349877e+01,  1.12472983e+01,  9.77362938e+01,\n",
       "       -7.82829100e+01,  6.07489007e+01,  3.54104403e+00,  2.85897632e+02,\n",
       "        5.68378808e+01,  1.73117236e+02,  7.32399389e+00,  1.38739207e+02,\n",
       "        5.97885180e+01, -2.04568445e+02,  2.35303175e+01,  3.62737484e+01,\n",
       "        6.86644909e+01, -3.17945926e+01,  3.67697734e+01, -2.14493944e+02,\n",
       "        1.57879902e+02, -1.23484092e+01, -9.35679630e+01, -8.67737467e+01,\n",
       "        2.96092452e+01,  6.64002705e+01,  7.46988604e+00, -2.65618446e+01,\n",
       "        9.35296454e+01, -7.42115289e+01,  1.92226886e+02, -3.65935844e+01,\n",
       "       -1.41587895e+01, -4.83818315e+01,  2.14824901e+02,  1.83532248e+01,\n",
       "        2.47395675e+01, -1.02665900e+02, -4.35943147e+01, -7.85995474e+01,\n",
       "       -6.70271111e+01, -6.41072891e+01,  4.33872977e+01,  1.13803939e+02,\n",
       "        9.68381781e+01,  2.40048886e+01, -1.08964764e+02, -9.22406184e+01,\n",
       "        8.10163663e+01, -2.08614219e+02,  2.11573562e+02, -4.71535553e+01,\n",
       "        1.38543411e+01, -1.65099429e+01,  9.21137363e+01,  7.17075416e+00,\n",
       "       -8.89694286e+01,  6.36264399e+01,  7.46375117e+01, -1.94499047e+02,\n",
       "        8.61333965e+01,  1.31967933e+02, -7.27219169e+00,  1.97909668e+02,\n",
       "        1.61495618e+02, -6.11509899e+01,  1.20315117e+02, -1.48892576e+01,\n",
       "        4.73535386e+00,  7.17089753e+01, -2.47328231e+00,  8.01874395e+01,\n",
       "       -6.28128912e+01, -1.00216599e+02, -2.39965527e+01,  1.18682410e+02,\n",
       "        8.33934029e+01,  1.81762097e+02, -1.20110727e+02, -3.83708078e+01,\n",
       "       -7.15529858e+01, -8.05192344e+01,  5.17595874e+01,  2.86399007e+01,\n",
       "        1.12253851e+01, -1.96048081e+01, -1.74427133e+01,  1.12904274e+02,\n",
       "        8.15935281e+01, -1.15367658e+02,  1.00616372e+00,  4.98044846e+01,\n",
       "        1.28281726e+02, -4.00574784e+01,  9.51058975e+00,  5.57619575e+01,\n",
       "        3.77573103e+00, -3.09876977e+01, -9.31619097e+01, -1.67631935e+02,\n",
       "       -2.63100253e+02, -6.75252434e-02,  1.81522661e+02,  1.17062280e+02,\n",
       "       -8.13391365e-01, -3.50024294e+01,  3.16064818e+01,  9.05954997e+01,\n",
       "        1.60898455e+00, -9.18987455e+01, -9.82734756e+01,  1.42509894e+02,\n",
       "        1.21010897e+02, -1.31147968e+02,  4.28900349e+01, -3.06059995e+01,\n",
       "        7.80146691e+00, -9.41961280e+01, -8.84993181e+00, -3.51098507e+01,\n",
       "        1.30330918e+02,  8.91182074e+01,  2.00503021e+02, -6.72733648e+01,\n",
       "        5.65577708e+01, -2.93982848e+01,  3.12252952e+01,  9.24249363e+01,\n",
       "       -8.32608121e+00, -3.86001990e+01, -9.58703434e+01,  1.00694326e+02,\n",
       "       -4.92217901e+01,  3.91303301e+01,  6.39937051e+01, -2.27245767e+01,\n",
       "       -6.63436643e+01,  1.08702095e+02, -1.78587884e+00,  1.96116385e+01,\n",
       "       -1.66359996e+00,  3.23910477e+01,  1.15479969e+02,  2.62971705e+01,\n",
       "        9.98525709e+01,  8.26404756e+01,  4.36091202e+01, -1.86276492e+02,\n",
       "        1.27806131e+02, -4.42312961e+01, -3.73700124e-01, -2.74937570e+01,\n",
       "       -1.91644505e+02,  3.78159182e+01,  1.22412069e+02, -6.58190277e+00,\n",
       "        4.11985656e+01, -2.39935105e+01, -7.65778927e+01,  1.74488492e+01,\n",
       "       -3.47192635e+01,  9.65069391e+01,  1.11582555e+02,  2.36969466e+01,\n",
       "       -1.79298229e+01, -7.72264297e+01,  3.61912451e+01, -8.86620799e+01,\n",
       "       -7.68691861e+01, -7.26401813e+01, -9.30105288e+01, -1.11558334e+00,\n",
       "       -1.63451756e+02,  1.99294925e+01,  1.84661479e+02,  7.68566181e+01,\n",
       "        8.61663464e+01, -5.89988239e+01,  5.69412112e+01,  1.48659455e+02,\n",
       "        4.52763255e+01, -5.64537609e+00, -7.88642905e+01,  1.22981426e+02,\n",
       "        9.47716482e+01,  7.73359364e+00,  7.46826793e+01, -7.39284883e+01,\n",
       "       -4.77878462e+01,  1.84488882e+01, -1.73825699e+02,  1.28756688e+02,\n",
       "        4.93770885e+01,  3.18567394e+01, -6.25771469e+00,  7.64708133e+01,\n",
       "        5.31592832e+01,  2.13650070e+01, -1.49931351e+02, -1.53510021e+02,\n",
       "        2.84291615e+01,  1.45213939e+02, -5.82073402e-01,  7.96775287e+01,\n",
       "        1.01405209e+02, -4.70083264e+01,  1.55173780e+01, -1.17821018e+02,\n",
       "       -7.76104784e+01, -1.55805481e+02,  3.25108370e+01,  6.80190159e+01,\n",
       "       -1.49849647e+01,  1.62588374e+02,  1.51337852e+01, -8.05588892e+01,\n",
       "       -5.79485424e+01,  8.56568226e+00, -6.97300997e+01, -2.72391550e+00,\n",
       "        1.35185504e+02,  4.59608827e+01, -6.78663795e+01,  4.11813209e+01,\n",
       "        6.78955355e+01,  1.55404748e+02, -2.52954747e+01,  1.05731153e+02,\n",
       "       -3.33316044e+01, -1.03982218e+02,  9.14409398e+00,  2.91849000e+01,\n",
       "        1.17263927e+02,  8.33002825e+01, -5.78168453e+01,  7.47076234e+01,\n",
       "        4.92142021e+01, -1.97343709e+02, -5.49139533e+01, -8.65585758e+01,\n",
       "       -7.74372312e+01,  4.02823730e+00, -6.55710089e+01, -2.71211052e+00,\n",
       "       -9.23614203e+01,  1.78919132e+02,  7.90224355e+00, -2.74867292e+01,\n",
       "       -1.65934370e+02,  1.16301203e+02,  5.78519433e+01,  1.46958105e+01,\n",
       "        3.62334143e+01, -3.13676085e+01,  2.69142639e+01, -1.21966873e+02,\n",
       "       -2.01957126e+02, -1.39925451e+02, -1.03779927e+02, -9.50332393e+01,\n",
       "        9.06455432e+01,  2.91221154e+01,  1.03799984e+02, -2.96525741e+01,\n",
       "        3.08019642e+00, -1.79683126e+01,  6.37358503e+01, -7.66939748e+01,\n",
       "       -7.42935046e+01, -8.24634034e+01,  1.98941511e+02, -7.15568727e+01,\n",
       "       -7.31380036e+01, -3.80699302e+01, -7.02416922e+01,  9.69382880e+01,\n",
       "       -2.80067152e+01, -1.00672259e+02, -1.60156640e+02, -2.79565137e+00,\n",
       "        3.88104313e+01, -1.00830147e+01,  6.02265674e+01,  6.86637593e+01,\n",
       "        1.02319972e+02,  7.15757307e+01,  8.70046195e+01, -5.40736488e+01,\n",
       "        7.41536713e+00,  4.79265107e+01,  8.77993893e+01,  1.57204658e+00,\n",
       "        7.50658388e+01,  1.72108184e+01, -8.15734984e+01, -2.69730284e+01,\n",
       "        1.12613045e+02,  1.34671954e+02, -1.23995480e+02, -3.94916047e+00,\n",
       "       -6.10747446e+00, -7.50381546e+01,  4.75798444e+01,  1.35210335e+02,\n",
       "        1.73276581e+01,  2.78122728e+01,  7.27445403e+01,  1.09329439e+02,\n",
       "        1.39331279e+02,  4.62380175e+01, -1.15505861e+02,  3.17050209e+00,\n",
       "       -8.04426512e+01,  7.64673870e+00, -1.71604271e+02,  1.14770304e+01,\n",
       "        1.10140379e+02, -1.39359586e+02, -9.11636810e+01, -6.14209724e+00,\n",
       "        1.00264765e+02,  7.24050054e+01,  5.09433846e+01, -9.38020974e+01,\n",
       "        7.53382873e+00,  3.30937119e+01, -2.56072187e+00, -6.18986872e+01,\n",
       "       -2.37028057e+01, -1.70758735e+01,  2.96716883e+01,  1.09673461e+02,\n",
       "        1.74823850e+02,  9.69202951e+01, -2.90631930e+00,  5.44482570e+00,\n",
       "        4.66860676e+01,  1.41646337e+02, -1.37861205e+02,  5.04362107e+01,\n",
       "       -1.33536760e-01, -1.33333264e+02,  5.55206334e+01,  1.94066191e+01,\n",
       "        9.15381198e+01, -4.24576702e+01, -1.21063445e+02,  7.73875249e-01,\n",
       "       -4.72867474e+01,  4.74318598e+01, -6.22291047e+01,  4.97454956e+01,\n",
       "        7.61264051e+01,  6.73161086e+01, -1.14140241e+01, -1.02268948e+02,\n",
       "        8.60629975e+01,  9.24014388e+01,  9.73727998e+01, -1.08140533e+02,\n",
       "       -1.66863131e+01, -4.58575201e+01,  7.00144533e+01,  1.01554893e+02,\n",
       "        5.17058746e+01, -4.60406395e-01, -1.84192390e+01, -9.98309718e+01,\n",
       "       -2.23564138e+02, -1.10583825e+02,  1.30508573e+02,  2.04082299e+01,\n",
       "       -4.17817290e+01, -2.71110139e+01,  1.56058957e+02,  2.72375923e+01,\n",
       "       -5.44201844e+01, -9.29522141e+01,  3.33763751e+01, -1.98488704e+01,\n",
       "       -1.24633483e+02,  1.40677547e+02, -1.12905700e+02, -2.59482805e+02,\n",
       "       -1.03880672e+01,  8.02522352e+01, -3.95100490e+01, -9.78927279e+01,\n",
       "        2.32583851e+01, -7.27362438e+01, -1.84819998e+02,  4.08350854e+01,\n",
       "        2.37932081e+01,  1.92010518e+01,  1.08908784e+02, -3.04247276e+01,\n",
       "       -1.56128741e+02,  5.68533071e+00,  2.27221136e+02,  1.07506987e+01,\n",
       "       -6.39581530e+00, -2.49653815e+01,  1.34446462e+02, -5.58602530e+01,\n",
       "        1.08744603e+02, -4.33114065e+01, -1.88049482e+02, -5.14447817e+01,\n",
       "        1.10784269e+02, -1.54369173e+01, -4.53726895e+01, -8.87456261e+01,\n",
       "        1.47297711e+02, -7.47044418e+01, -1.72918881e+02,  1.68023423e+02,\n",
       "       -1.36422841e+01, -4.08330187e+01, -4.21035792e+01, -1.46440633e+02,\n",
       "        4.51675740e+01,  4.15643317e+01,  1.43257971e+02,  1.94443469e+02,\n",
       "        6.30479771e-01, -1.85959007e+00, -8.28826303e+01,  8.33186584e+01,\n",
       "       -2.88841973e+01,  1.50482336e+02, -9.96051432e+01, -1.64495043e+02,\n",
       "        5.06200591e+01, -6.92556558e+01,  1.09657204e+02, -1.00761951e+02,\n",
       "        2.15328792e+01,  7.44729793e+01, -2.96147732e+00,  8.26317386e+01,\n",
       "        8.51211528e+00,  1.27789707e+01,  1.42946588e+02, -5.57273140e+01,\n",
       "       -3.26052799e+01, -7.14966520e+01,  5.88308075e+01,  8.74310655e+01,\n",
       "        7.35559651e+00, -5.56713388e+01,  1.04285122e+02, -9.94809520e+01,\n",
       "        5.31051633e+01, -1.52666433e+02,  1.07607862e+01, -5.02276182e+01,\n",
       "        6.56022719e+01,  6.91435043e+01, -4.36748456e+01,  1.01873169e+02,\n",
       "       -1.43995829e+02, -2.36969432e+01,  3.27553792e+01,  8.04304749e+01,\n",
       "        1.35052522e+02,  6.84837962e+01,  1.79281434e+02,  1.60324222e+02,\n",
       "       -7.66957233e+00,  4.15930466e+01, -2.29524460e+02, -5.48483506e+00,\n",
       "        5.41414809e+01, -8.23848928e+00,  3.27593589e+01,  4.05613607e+01,\n",
       "       -7.73358811e+01,  1.76676642e+01,  3.41288122e+01,  1.42342066e+02,\n",
       "       -6.35029837e+01,  4.02609559e+01, -9.25955658e+01, -8.53395488e+01,\n",
       "        1.55694503e+02, -6.16689014e+01, -8.88380218e+01,  8.20164671e+01,\n",
       "       -1.47776925e+01, -1.35342169e+02,  9.78239949e+00,  1.08217221e+02,\n",
       "       -1.02440243e+01,  1.77834738e+02, -1.79708949e+01, -6.21605566e+01,\n",
       "        5.02856753e+01,  1.45442505e+02,  8.20647370e+01, -1.71898268e+00,\n",
       "        6.69683585e+01, -1.42617903e+02, -8.02606662e+01,  1.51648849e+00,\n",
       "       -1.80537902e+00,  1.71354554e+01, -1.18622603e+02,  3.50807062e+01,\n",
       "       -2.53597913e+01, -3.49895034e+01,  1.56069146e+01,  6.59088353e+01,\n",
       "       -1.37802559e+01,  5.05451117e+01,  9.06425133e+01, -2.42732317e+00,\n",
       "        9.62396421e+01, -2.28904107e+01, -6.87435520e+01,  2.63686736e+01,\n",
       "       -1.74877286e+02, -5.42919521e+01,  2.16646879e+02,  8.50318828e+01,\n",
       "       -9.50220478e+01,  5.15985943e+01,  6.30955872e+01,  5.16780377e+01,\n",
       "        9.11858987e+01,  1.20550648e+01,  6.81751672e+01, -2.43784915e+02,\n",
       "        1.30027725e+02, -3.93207716e+00, -3.38079694e+01,  1.74709764e+01,\n",
       "        5.50052065e+00, -7.23394978e+01,  2.62163988e+01, -6.64548114e+01,\n",
       "        1.99440727e+01,  2.82667095e+01, -4.00188244e+01,  9.51872576e+01,\n",
       "       -3.40514059e+01, -1.08702736e+02,  3.20289256e+01, -1.26743988e+02,\n",
       "       -7.13444202e+01,  6.16527937e+01,  5.57088261e+00,  7.81852524e+00,\n",
       "        1.52418817e+02,  5.35720121e+01,  7.50274132e+01, -5.14615743e+01,\n",
       "       -8.57390533e+01, -6.30704574e+01,  2.64022731e+01, -9.71109612e+01,\n",
       "       -1.67908754e+01,  3.90612838e+01,  1.02806017e+02,  5.30836971e+01,\n",
       "       -8.74028277e+01,  1.12480595e+02,  1.26259249e+02,  2.09156250e+02,\n",
       "        5.72327681e+01, -6.02422444e+01,  1.68214592e+02, -8.95437213e+01,\n",
       "       -4.60820578e+01, -2.05736260e+02, -9.38191902e+01, -2.76352308e+01,\n",
       "       -3.07191342e+01,  6.57209793e+01, -8.88675212e+01, -7.60116400e+01,\n",
       "       -8.26642434e+01, -1.80576253e+01, -1.95057932e+02,  2.35151321e+01,\n",
       "        3.28674857e+01, -2.14731910e+02, -5.54569233e+01, -2.63869352e+01,\n",
       "        6.03240299e+01, -1.10893280e+02,  2.44119265e+01, -2.69092123e+01,\n",
       "        4.06235548e+01, -9.24506193e+01,  2.51613959e+01, -4.97058142e+01,\n",
       "       -1.44006086e+02, -2.32713392e+01, -9.85446013e+01, -1.12357967e+02,\n",
       "        8.40510611e+01,  7.74851499e+01,  5.55707739e+01,  4.46981380e+01,\n",
       "        4.55236267e+01,  3.47192759e+01,  1.04162719e+02, -3.83614583e+01,\n",
       "       -1.46401642e+02, -1.92001112e+01,  4.70161401e+01,  7.06771071e+01])"
      ]
     },
     "execution_count": 19,
     "metadata": {},
     "output_type": "execute_result"
    }
   ],
   "source": [
    "y"
   ]
  },
  {
   "cell_type": "markdown",
   "id": "c15c6e8f",
   "metadata": {},
   "source": [
    "# Split Dataset"
   ]
  },
  {
   "cell_type": "code",
   "execution_count": 20,
   "id": "e3c98452",
   "metadata": {},
   "outputs": [],
   "source": [
    "X_train, X_test, y_train, y_test = train_test_split(X, y, train_size=0.33, random_state=1)"
   ]
  },
  {
   "cell_type": "code",
   "execution_count": 21,
   "id": "1d019e87",
   "metadata": {},
   "outputs": [
    {
     "data": {
      "text/html": [
       "<style>#sk-container-id-5 {color: black;background-color: white;}#sk-container-id-5 pre{padding: 0;}#sk-container-id-5 div.sk-toggleable {background-color: white;}#sk-container-id-5 label.sk-toggleable__label {cursor: pointer;display: block;width: 100%;margin-bottom: 0;padding: 0.3em;box-sizing: border-box;text-align: center;}#sk-container-id-5 label.sk-toggleable__label-arrow:before {content: \"▸\";float: left;margin-right: 0.25em;color: #696969;}#sk-container-id-5 label.sk-toggleable__label-arrow:hover:before {color: black;}#sk-container-id-5 div.sk-estimator:hover label.sk-toggleable__label-arrow:before {color: black;}#sk-container-id-5 div.sk-toggleable__content {max-height: 0;max-width: 0;overflow: hidden;text-align: left;background-color: #f0f8ff;}#sk-container-id-5 div.sk-toggleable__content pre {margin: 0.2em;color: black;border-radius: 0.25em;background-color: #f0f8ff;}#sk-container-id-5 input.sk-toggleable__control:checked~div.sk-toggleable__content {max-height: 200px;max-width: 100%;overflow: auto;}#sk-container-id-5 input.sk-toggleable__control:checked~label.sk-toggleable__label-arrow:before {content: \"▾\";}#sk-container-id-5 div.sk-estimator input.sk-toggleable__control:checked~label.sk-toggleable__label {background-color: #d4ebff;}#sk-container-id-5 div.sk-label input.sk-toggleable__control:checked~label.sk-toggleable__label {background-color: #d4ebff;}#sk-container-id-5 input.sk-hidden--visually {border: 0;clip: rect(1px 1px 1px 1px);clip: rect(1px, 1px, 1px, 1px);height: 1px;margin: -1px;overflow: hidden;padding: 0;position: absolute;width: 1px;}#sk-container-id-5 div.sk-estimator {font-family: monospace;background-color: #f0f8ff;border: 1px dotted black;border-radius: 0.25em;box-sizing: border-box;margin-bottom: 0.5em;}#sk-container-id-5 div.sk-estimator:hover {background-color: #d4ebff;}#sk-container-id-5 div.sk-parallel-item::after {content: \"\";width: 100%;border-bottom: 1px solid gray;flex-grow: 1;}#sk-container-id-5 div.sk-label:hover label.sk-toggleable__label {background-color: #d4ebff;}#sk-container-id-5 div.sk-serial::before {content: \"\";position: absolute;border-left: 1px solid gray;box-sizing: border-box;top: 0;bottom: 0;left: 50%;z-index: 0;}#sk-container-id-5 div.sk-serial {display: flex;flex-direction: column;align-items: center;background-color: white;padding-right: 0.2em;padding-left: 0.2em;position: relative;}#sk-container-id-5 div.sk-item {position: relative;z-index: 1;}#sk-container-id-5 div.sk-parallel {display: flex;align-items: stretch;justify-content: center;background-color: white;position: relative;}#sk-container-id-5 div.sk-item::before, #sk-container-id-5 div.sk-parallel-item::before {content: \"\";position: absolute;border-left: 1px solid gray;box-sizing: border-box;top: 0;bottom: 0;left: 50%;z-index: -1;}#sk-container-id-5 div.sk-parallel-item {display: flex;flex-direction: column;z-index: 1;position: relative;background-color: white;}#sk-container-id-5 div.sk-parallel-item:first-child::after {align-self: flex-end;width: 50%;}#sk-container-id-5 div.sk-parallel-item:last-child::after {align-self: flex-start;width: 50%;}#sk-container-id-5 div.sk-parallel-item:only-child::after {width: 0;}#sk-container-id-5 div.sk-dashed-wrapped {border: 1px dashed gray;margin: 0 0.4em 0.5em 0.4em;box-sizing: border-box;padding-bottom: 0.4em;background-color: white;}#sk-container-id-5 div.sk-label label {font-family: monospace;font-weight: bold;display: inline-block;line-height: 1.2em;}#sk-container-id-5 div.sk-label-container {text-align: center;}#sk-container-id-5 div.sk-container {/* jupyter's `normalize.less` sets `[hidden] { display: none; }` but bootstrap.min.css set `[hidden] { display: none !important; }` so we also need the `!important` here to be able to override the default hidden behavior on the sphinx rendered scikit-learn.org. See: https://github.com/scikit-learn/scikit-learn/issues/21755 */display: inline-block !important;position: relative;}#sk-container-id-5 div.sk-text-repr-fallback {display: none;}</style><div id=\"sk-container-id-5\" class=\"sk-top-container\"><div class=\"sk-text-repr-fallback\"><pre>AdaBoostRegressor()</pre><b>In a Jupyter environment, please rerun this cell to show the HTML representation or trust the notebook. <br />On GitHub, the HTML representation is unable to render, please try loading this page with nbviewer.org.</b></div><div class=\"sk-container\" hidden><div class=\"sk-item\"><div class=\"sk-estimator sk-toggleable\"><input class=\"sk-toggleable__control sk-hidden--visually\" id=\"sk-estimator-id-7\" type=\"checkbox\" checked><label for=\"sk-estimator-id-7\" class=\"sk-toggleable__label sk-toggleable__label-arrow\">AdaBoostRegressor</label><div class=\"sk-toggleable__content\"><pre>AdaBoostRegressor()</pre></div></div></div></div></div>"
      ],
      "text/plain": [
       "AdaBoostRegressor()"
      ]
     },
     "execution_count": 21,
     "metadata": {},
     "output_type": "execute_result"
    }
   ],
   "source": [
    "regressor = AdaBoostRegressor()\n",
    "regressor.fit(X_train, y_train)"
   ]
  },
  {
   "cell_type": "markdown",
   "id": "1cd5331f",
   "metadata": {},
   "source": [
    "# Predict the Model"
   ]
  },
  {
   "cell_type": "code",
   "execution_count": 22,
   "id": "4bc271f2",
   "metadata": {},
   "outputs": [],
   "source": [
    "y_pred=regressor.predict(X_test)"
   ]
  },
  {
   "cell_type": "code",
   "execution_count": 23,
   "id": "184b034b",
   "metadata": {},
   "outputs": [
    {
     "name": "stdout",
     "output_type": "stream",
     "text": [
      "Current model performance:\n",
      "R2 score: 0.9561291350417511\n",
      "Mean_Absolute_Error: 14.222869947305865\n",
      "Mean_Squared_Error: 366.4121917586186\n"
     ]
    }
   ],
   "source": [
    "# Evaluate the model\n",
    "print('Current model performance:')\n",
    "print(f'R2 score: {r2_score(y_test, y_pred)}')\n",
    "print(f'Mean_Absolute_Error: {mean_absolute_error(y_test, y_pred)}')\n",
    "print(f'Mean_Squared_Error: {mean_squared_error(y_test, y_pred)}')"
   ]
  },
  {
   "cell_type": "markdown",
   "id": "617b57c1",
   "metadata": {},
   "source": [
    "# Hyperparameter Tunning "
   ]
  },
  {
   "cell_type": "code",
   "execution_count": 24,
   "id": "ef58e953",
   "metadata": {},
   "outputs": [],
   "source": [
    "from sklearn.model_selection import GridSearchCV\n",
    "\n",
    "# Define the parameter grid\n",
    "param_grid = {\n",
    "    'n_estimators': [50, 100, 200],\n",
    "    'learning_rate': [0.01, 0.1, 1.0, 1.5, 2.0],\n",
    "    'loss': ['linear', 'square', 'exponential']\n",
    "}\n",
    "\n",
    "# Set up GridSearchCV\n",
    "grid_search =GridSearchCV(estimator=regressor, param_grid=param_grid, cv=5, verbose=3, n_jobs=-1)\n",
    "\n"
   ]
  },
  {
   "cell_type": "code",
   "execution_count": 25,
   "id": "9fa12246",
   "metadata": {},
   "outputs": [
    {
     "data": {
      "text/html": [
       "<style>#sk-container-id-6 {color: black;background-color: white;}#sk-container-id-6 pre{padding: 0;}#sk-container-id-6 div.sk-toggleable {background-color: white;}#sk-container-id-6 label.sk-toggleable__label {cursor: pointer;display: block;width: 100%;margin-bottom: 0;padding: 0.3em;box-sizing: border-box;text-align: center;}#sk-container-id-6 label.sk-toggleable__label-arrow:before {content: \"▸\";float: left;margin-right: 0.25em;color: #696969;}#sk-container-id-6 label.sk-toggleable__label-arrow:hover:before {color: black;}#sk-container-id-6 div.sk-estimator:hover label.sk-toggleable__label-arrow:before {color: black;}#sk-container-id-6 div.sk-toggleable__content {max-height: 0;max-width: 0;overflow: hidden;text-align: left;background-color: #f0f8ff;}#sk-container-id-6 div.sk-toggleable__content pre {margin: 0.2em;color: black;border-radius: 0.25em;background-color: #f0f8ff;}#sk-container-id-6 input.sk-toggleable__control:checked~div.sk-toggleable__content {max-height: 200px;max-width: 100%;overflow: auto;}#sk-container-id-6 input.sk-toggleable__control:checked~label.sk-toggleable__label-arrow:before {content: \"▾\";}#sk-container-id-6 div.sk-estimator input.sk-toggleable__control:checked~label.sk-toggleable__label {background-color: #d4ebff;}#sk-container-id-6 div.sk-label input.sk-toggleable__control:checked~label.sk-toggleable__label {background-color: #d4ebff;}#sk-container-id-6 input.sk-hidden--visually {border: 0;clip: rect(1px 1px 1px 1px);clip: rect(1px, 1px, 1px, 1px);height: 1px;margin: -1px;overflow: hidden;padding: 0;position: absolute;width: 1px;}#sk-container-id-6 div.sk-estimator {font-family: monospace;background-color: #f0f8ff;border: 1px dotted black;border-radius: 0.25em;box-sizing: border-box;margin-bottom: 0.5em;}#sk-container-id-6 div.sk-estimator:hover {background-color: #d4ebff;}#sk-container-id-6 div.sk-parallel-item::after {content: \"\";width: 100%;border-bottom: 1px solid gray;flex-grow: 1;}#sk-container-id-6 div.sk-label:hover label.sk-toggleable__label {background-color: #d4ebff;}#sk-container-id-6 div.sk-serial::before {content: \"\";position: absolute;border-left: 1px solid gray;box-sizing: border-box;top: 0;bottom: 0;left: 50%;z-index: 0;}#sk-container-id-6 div.sk-serial {display: flex;flex-direction: column;align-items: center;background-color: white;padding-right: 0.2em;padding-left: 0.2em;position: relative;}#sk-container-id-6 div.sk-item {position: relative;z-index: 1;}#sk-container-id-6 div.sk-parallel {display: flex;align-items: stretch;justify-content: center;background-color: white;position: relative;}#sk-container-id-6 div.sk-item::before, #sk-container-id-6 div.sk-parallel-item::before {content: \"\";position: absolute;border-left: 1px solid gray;box-sizing: border-box;top: 0;bottom: 0;left: 50%;z-index: -1;}#sk-container-id-6 div.sk-parallel-item {display: flex;flex-direction: column;z-index: 1;position: relative;background-color: white;}#sk-container-id-6 div.sk-parallel-item:first-child::after {align-self: flex-end;width: 50%;}#sk-container-id-6 div.sk-parallel-item:last-child::after {align-self: flex-start;width: 50%;}#sk-container-id-6 div.sk-parallel-item:only-child::after {width: 0;}#sk-container-id-6 div.sk-dashed-wrapped {border: 1px dashed gray;margin: 0 0.4em 0.5em 0.4em;box-sizing: border-box;padding-bottom: 0.4em;background-color: white;}#sk-container-id-6 div.sk-label label {font-family: monospace;font-weight: bold;display: inline-block;line-height: 1.2em;}#sk-container-id-6 div.sk-label-container {text-align: center;}#sk-container-id-6 div.sk-container {/* jupyter's `normalize.less` sets `[hidden] { display: none; }` but bootstrap.min.css set `[hidden] { display: none !important; }` so we also need the `!important` here to be able to override the default hidden behavior on the sphinx rendered scikit-learn.org. See: https://github.com/scikit-learn/scikit-learn/issues/21755 */display: inline-block !important;position: relative;}#sk-container-id-6 div.sk-text-repr-fallback {display: none;}</style><div id=\"sk-container-id-6\" class=\"sk-top-container\"><div class=\"sk-text-repr-fallback\"><pre>GridSearchCV(cv=5, estimator=AdaBoostRegressor(), n_jobs=-1,\n",
       "             param_grid={&#x27;learning_rate&#x27;: [0.01, 0.1, 1.0, 1.5, 2.0],\n",
       "                         &#x27;loss&#x27;: [&#x27;linear&#x27;, &#x27;square&#x27;, &#x27;exponential&#x27;],\n",
       "                         &#x27;n_estimators&#x27;: [50, 100, 200]},\n",
       "             verbose=3)</pre><b>In a Jupyter environment, please rerun this cell to show the HTML representation or trust the notebook. <br />On GitHub, the HTML representation is unable to render, please try loading this page with nbviewer.org.</b></div><div class=\"sk-container\" hidden><div class=\"sk-item sk-dashed-wrapped\"><div class=\"sk-label-container\"><div class=\"sk-label sk-toggleable\"><input class=\"sk-toggleable__control sk-hidden--visually\" id=\"sk-estimator-id-8\" type=\"checkbox\" ><label for=\"sk-estimator-id-8\" class=\"sk-toggleable__label sk-toggleable__label-arrow\">GridSearchCV</label><div class=\"sk-toggleable__content\"><pre>GridSearchCV(cv=5, estimator=AdaBoostRegressor(), n_jobs=-1,\n",
       "             param_grid={&#x27;learning_rate&#x27;: [0.01, 0.1, 1.0, 1.5, 2.0],\n",
       "                         &#x27;loss&#x27;: [&#x27;linear&#x27;, &#x27;square&#x27;, &#x27;exponential&#x27;],\n",
       "                         &#x27;n_estimators&#x27;: [50, 100, 200]},\n",
       "             verbose=3)</pre></div></div></div><div class=\"sk-parallel\"><div class=\"sk-parallel-item\"><div class=\"sk-item\"><div class=\"sk-label-container\"><div class=\"sk-label sk-toggleable\"><input class=\"sk-toggleable__control sk-hidden--visually\" id=\"sk-estimator-id-9\" type=\"checkbox\" ><label for=\"sk-estimator-id-9\" class=\"sk-toggleable__label sk-toggleable__label-arrow\">estimator: AdaBoostRegressor</label><div class=\"sk-toggleable__content\"><pre>AdaBoostRegressor()</pre></div></div></div><div class=\"sk-serial\"><div class=\"sk-item\"><div class=\"sk-estimator sk-toggleable\"><input class=\"sk-toggleable__control sk-hidden--visually\" id=\"sk-estimator-id-10\" type=\"checkbox\" ><label for=\"sk-estimator-id-10\" class=\"sk-toggleable__label sk-toggleable__label-arrow\">AdaBoostRegressor</label><div class=\"sk-toggleable__content\"><pre>AdaBoostRegressor()</pre></div></div></div></div></div></div></div></div></div></div>"
      ],
      "text/plain": [
       "GridSearchCV(cv=5, estimator=AdaBoostRegressor(), n_jobs=-1,\n",
       "             param_grid={'learning_rate': [0.01, 0.1, 1.0, 1.5, 2.0],\n",
       "                         'loss': ['linear', 'square', 'exponential'],\n",
       "                         'n_estimators': [50, 100, 200]},\n",
       "             verbose=3)"
      ]
     },
     "execution_count": 25,
     "metadata": {},
     "output_type": "execute_result"
    }
   ],
   "source": [
    "grid_search"
   ]
  },
  {
   "cell_type": "code",
   "execution_count": 26,
   "id": "c4d4e2ac",
   "metadata": {},
   "outputs": [
    {
     "name": "stdout",
     "output_type": "stream",
     "text": [
      "Fitting 5 folds for each of 45 candidates, totalling 225 fits\n"
     ]
    },
    {
     "data": {
      "text/html": [
       "<style>#sk-container-id-7 {color: black;background-color: white;}#sk-container-id-7 pre{padding: 0;}#sk-container-id-7 div.sk-toggleable {background-color: white;}#sk-container-id-7 label.sk-toggleable__label {cursor: pointer;display: block;width: 100%;margin-bottom: 0;padding: 0.3em;box-sizing: border-box;text-align: center;}#sk-container-id-7 label.sk-toggleable__label-arrow:before {content: \"▸\";float: left;margin-right: 0.25em;color: #696969;}#sk-container-id-7 label.sk-toggleable__label-arrow:hover:before {color: black;}#sk-container-id-7 div.sk-estimator:hover label.sk-toggleable__label-arrow:before {color: black;}#sk-container-id-7 div.sk-toggleable__content {max-height: 0;max-width: 0;overflow: hidden;text-align: left;background-color: #f0f8ff;}#sk-container-id-7 div.sk-toggleable__content pre {margin: 0.2em;color: black;border-radius: 0.25em;background-color: #f0f8ff;}#sk-container-id-7 input.sk-toggleable__control:checked~div.sk-toggleable__content {max-height: 200px;max-width: 100%;overflow: auto;}#sk-container-id-7 input.sk-toggleable__control:checked~label.sk-toggleable__label-arrow:before {content: \"▾\";}#sk-container-id-7 div.sk-estimator input.sk-toggleable__control:checked~label.sk-toggleable__label {background-color: #d4ebff;}#sk-container-id-7 div.sk-label input.sk-toggleable__control:checked~label.sk-toggleable__label {background-color: #d4ebff;}#sk-container-id-7 input.sk-hidden--visually {border: 0;clip: rect(1px 1px 1px 1px);clip: rect(1px, 1px, 1px, 1px);height: 1px;margin: -1px;overflow: hidden;padding: 0;position: absolute;width: 1px;}#sk-container-id-7 div.sk-estimator {font-family: monospace;background-color: #f0f8ff;border: 1px dotted black;border-radius: 0.25em;box-sizing: border-box;margin-bottom: 0.5em;}#sk-container-id-7 div.sk-estimator:hover {background-color: #d4ebff;}#sk-container-id-7 div.sk-parallel-item::after {content: \"\";width: 100%;border-bottom: 1px solid gray;flex-grow: 1;}#sk-container-id-7 div.sk-label:hover label.sk-toggleable__label {background-color: #d4ebff;}#sk-container-id-7 div.sk-serial::before {content: \"\";position: absolute;border-left: 1px solid gray;box-sizing: border-box;top: 0;bottom: 0;left: 50%;z-index: 0;}#sk-container-id-7 div.sk-serial {display: flex;flex-direction: column;align-items: center;background-color: white;padding-right: 0.2em;padding-left: 0.2em;position: relative;}#sk-container-id-7 div.sk-item {position: relative;z-index: 1;}#sk-container-id-7 div.sk-parallel {display: flex;align-items: stretch;justify-content: center;background-color: white;position: relative;}#sk-container-id-7 div.sk-item::before, #sk-container-id-7 div.sk-parallel-item::before {content: \"\";position: absolute;border-left: 1px solid gray;box-sizing: border-box;top: 0;bottom: 0;left: 50%;z-index: -1;}#sk-container-id-7 div.sk-parallel-item {display: flex;flex-direction: column;z-index: 1;position: relative;background-color: white;}#sk-container-id-7 div.sk-parallel-item:first-child::after {align-self: flex-end;width: 50%;}#sk-container-id-7 div.sk-parallel-item:last-child::after {align-self: flex-start;width: 50%;}#sk-container-id-7 div.sk-parallel-item:only-child::after {width: 0;}#sk-container-id-7 div.sk-dashed-wrapped {border: 1px dashed gray;margin: 0 0.4em 0.5em 0.4em;box-sizing: border-box;padding-bottom: 0.4em;background-color: white;}#sk-container-id-7 div.sk-label label {font-family: monospace;font-weight: bold;display: inline-block;line-height: 1.2em;}#sk-container-id-7 div.sk-label-container {text-align: center;}#sk-container-id-7 div.sk-container {/* jupyter's `normalize.less` sets `[hidden] { display: none; }` but bootstrap.min.css set `[hidden] { display: none !important; }` so we also need the `!important` here to be able to override the default hidden behavior on the sphinx rendered scikit-learn.org. See: https://github.com/scikit-learn/scikit-learn/issues/21755 */display: inline-block !important;position: relative;}#sk-container-id-7 div.sk-text-repr-fallback {display: none;}</style><div id=\"sk-container-id-7\" class=\"sk-top-container\"><div class=\"sk-text-repr-fallback\"><pre>GridSearchCV(cv=5, estimator=AdaBoostRegressor(), n_jobs=-1,\n",
       "             param_grid={&#x27;learning_rate&#x27;: [0.01, 0.1, 1.0, 1.5, 2.0],\n",
       "                         &#x27;loss&#x27;: [&#x27;linear&#x27;, &#x27;square&#x27;, &#x27;exponential&#x27;],\n",
       "                         &#x27;n_estimators&#x27;: [50, 100, 200]},\n",
       "             verbose=3)</pre><b>In a Jupyter environment, please rerun this cell to show the HTML representation or trust the notebook. <br />On GitHub, the HTML representation is unable to render, please try loading this page with nbviewer.org.</b></div><div class=\"sk-container\" hidden><div class=\"sk-item sk-dashed-wrapped\"><div class=\"sk-label-container\"><div class=\"sk-label sk-toggleable\"><input class=\"sk-toggleable__control sk-hidden--visually\" id=\"sk-estimator-id-11\" type=\"checkbox\" ><label for=\"sk-estimator-id-11\" class=\"sk-toggleable__label sk-toggleable__label-arrow\">GridSearchCV</label><div class=\"sk-toggleable__content\"><pre>GridSearchCV(cv=5, estimator=AdaBoostRegressor(), n_jobs=-1,\n",
       "             param_grid={&#x27;learning_rate&#x27;: [0.01, 0.1, 1.0, 1.5, 2.0],\n",
       "                         &#x27;loss&#x27;: [&#x27;linear&#x27;, &#x27;square&#x27;, &#x27;exponential&#x27;],\n",
       "                         &#x27;n_estimators&#x27;: [50, 100, 200]},\n",
       "             verbose=3)</pre></div></div></div><div class=\"sk-parallel\"><div class=\"sk-parallel-item\"><div class=\"sk-item\"><div class=\"sk-label-container\"><div class=\"sk-label sk-toggleable\"><input class=\"sk-toggleable__control sk-hidden--visually\" id=\"sk-estimator-id-12\" type=\"checkbox\" ><label for=\"sk-estimator-id-12\" class=\"sk-toggleable__label sk-toggleable__label-arrow\">estimator: AdaBoostRegressor</label><div class=\"sk-toggleable__content\"><pre>AdaBoostRegressor()</pre></div></div></div><div class=\"sk-serial\"><div class=\"sk-item\"><div class=\"sk-estimator sk-toggleable\"><input class=\"sk-toggleable__control sk-hidden--visually\" id=\"sk-estimator-id-13\" type=\"checkbox\" ><label for=\"sk-estimator-id-13\" class=\"sk-toggleable__label sk-toggleable__label-arrow\">AdaBoostRegressor</label><div class=\"sk-toggleable__content\"><pre>AdaBoostRegressor()</pre></div></div></div></div></div></div></div></div></div></div>"
      ],
      "text/plain": [
       "GridSearchCV(cv=5, estimator=AdaBoostRegressor(), n_jobs=-1,\n",
       "             param_grid={'learning_rate': [0.01, 0.1, 1.0, 1.5, 2.0],\n",
       "                         'loss': ['linear', 'square', 'exponential'],\n",
       "                         'n_estimators': [50, 100, 200]},\n",
       "             verbose=3)"
      ]
     },
     "execution_count": 26,
     "metadata": {},
     "output_type": "execute_result"
    }
   ],
   "source": [
    "grid_search.fit(X_train, y_train)"
   ]
  },
  {
   "cell_type": "code",
   "execution_count": 27,
   "id": "53dab432",
   "metadata": {},
   "outputs": [
    {
     "data": {
      "text/plain": [
       "{'learning_rate': 2.0, 'loss': 'exponential', 'n_estimators': 200}"
      ]
     },
     "execution_count": 27,
     "metadata": {},
     "output_type": "execute_result"
    }
   ],
   "source": [
    "grid_search.best_params_"
   ]
  },
  {
   "cell_type": "code",
   "execution_count": null,
   "id": "2ce13fb0",
   "metadata": {},
   "outputs": [],
   "source": []
  },
  {
   "cell_type": "code",
   "execution_count": null,
   "id": "0fe83581",
   "metadata": {},
   "outputs": [],
   "source": []
  },
  {
   "cell_type": "code",
   "execution_count": null,
   "id": "486563d7",
   "metadata": {},
   "outputs": [],
   "source": []
  }
 ],
 "metadata": {
  "kernelspec": {
   "display_name": "Python 3 (ipykernel)",
   "language": "python",
   "name": "python3"
  },
  "language_info": {
   "codemirror_mode": {
    "name": "ipython",
    "version": 3
   },
   "file_extension": ".py",
   "mimetype": "text/x-python",
   "name": "python",
   "nbconvert_exporter": "python",
   "pygments_lexer": "ipython3",
   "version": "3.11.7"
  }
 },
 "nbformat": 4,
 "nbformat_minor": 5
}
