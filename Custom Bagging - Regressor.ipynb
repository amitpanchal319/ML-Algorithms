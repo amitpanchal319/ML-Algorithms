{
 "cells": [
  {
   "cell_type": "code",
   "execution_count": 6,
   "id": "5df0c499",
   "metadata": {},
   "outputs": [],
   "source": [
    "from sklearn.datasets import make_regression\n",
    "from sklearn.model_selection import train_test_split\n",
    "\n",
    "X, y = make_regression(n_samples=1000, n_features=10, noise=0.1, random_state=42)\n",
    "X_train, X_test, y_train, y_test = train_test_split(X, y, train_size=0.2, random_state=1)"
   ]
  },
  {
   "cell_type": "code",
   "execution_count": 7,
   "id": "6bdfa015",
   "metadata": {},
   "outputs": [
    {
     "data": {
      "text/plain": [
       "array([[-2.1518154 , -0.48306105, -0.21113024, ...,  0.89683932,\n",
       "        -0.89119223, -0.26853065],\n",
       "       [-0.0473707 ,  0.94118187, -0.94039892, ...,  1.02510915,\n",
       "         0.02731338, -0.65389839],\n",
       "       [ 1.40336997,  0.70450654, -0.44304402, ...,  1.41045915,\n",
       "        -0.86108791,  0.4097628 ],\n",
       "       ...,\n",
       "       [ 0.03471375, -1.38854255,  0.65497558, ...,  0.15946251,\n",
       "         0.51361446, -0.89278752],\n",
       "       [-0.7660452 , -1.89967028, -2.25279339, ...,  0.9017287 ,\n",
       "        -0.89802723,  0.78414642],\n",
       "       [ 1.80051118,  0.05993263,  0.20965942, ..., -1.3088204 ,\n",
       "         0.18384954, -3.01951216]])"
      ]
     },
     "execution_count": 7,
     "metadata": {},
     "output_type": "execute_result"
    }
   ],
   "source": [
    "X_train"
   ]
  },
  {
   "cell_type": "code",
   "execution_count": 8,
   "id": "9b9274fd",
   "metadata": {},
   "outputs": [
    {
     "data": {
      "text/plain": [
       "((200, 10), (800, 10))"
      ]
     },
     "execution_count": 8,
     "metadata": {},
     "output_type": "execute_result"
    }
   ],
   "source": [
    "X_train.shape, X_test.shape"
   ]
  },
  {
   "cell_type": "code",
   "execution_count": 9,
   "id": "0add4575",
   "metadata": {},
   "outputs": [],
   "source": [
    "from sklearn.linear_model import LinearRegression\n",
    "from sklearn.tree import DecisionTreeRegressor\n",
    "from sklearn.svm import SVR\n"
   ]
  },
  {
   "cell_type": "markdown",
   "id": "a6346e61",
   "metadata": {},
   "source": [
    "# Ensemble Models "
   ]
  },
  {
   "cell_type": "code",
   "execution_count": 17,
   "id": "f32f6a71",
   "metadata": {},
   "outputs": [],
   "source": [
    "lr = LinearRegression()\n",
    "dtr = DecisionTreeRegressor()\n",
    "svr = SVR(kernel='linear')"
   ]
  },
  {
   "cell_type": "markdown",
   "id": "d4ac08f3",
   "metadata": {},
   "source": [
    "# Create Ensemble "
   ]
  },
  {
   "cell_type": "code",
   "execution_count": 18,
   "id": "3418de11",
   "metadata": {},
   "outputs": [],
   "source": [
    "from sklearn.ensemble import VotingRegressor\n",
    "ensemble_regressor = VotingRegressor(estimators=[('mlr',lr),('dtr', dtr), ('svr', svr)])"
   ]
  },
  {
   "cell_type": "code",
   "execution_count": 19,
   "id": "b8aa23de",
   "metadata": {},
   "outputs": [
    {
     "data": {
      "text/html": [
       "<style>#sk-container-id-1 {color: black;background-color: white;}#sk-container-id-1 pre{padding: 0;}#sk-container-id-1 div.sk-toggleable {background-color: white;}#sk-container-id-1 label.sk-toggleable__label {cursor: pointer;display: block;width: 100%;margin-bottom: 0;padding: 0.3em;box-sizing: border-box;text-align: center;}#sk-container-id-1 label.sk-toggleable__label-arrow:before {content: \"▸\";float: left;margin-right: 0.25em;color: #696969;}#sk-container-id-1 label.sk-toggleable__label-arrow:hover:before {color: black;}#sk-container-id-1 div.sk-estimator:hover label.sk-toggleable__label-arrow:before {color: black;}#sk-container-id-1 div.sk-toggleable__content {max-height: 0;max-width: 0;overflow: hidden;text-align: left;background-color: #f0f8ff;}#sk-container-id-1 div.sk-toggleable__content pre {margin: 0.2em;color: black;border-radius: 0.25em;background-color: #f0f8ff;}#sk-container-id-1 input.sk-toggleable__control:checked~div.sk-toggleable__content {max-height: 200px;max-width: 100%;overflow: auto;}#sk-container-id-1 input.sk-toggleable__control:checked~label.sk-toggleable__label-arrow:before {content: \"▾\";}#sk-container-id-1 div.sk-estimator input.sk-toggleable__control:checked~label.sk-toggleable__label {background-color: #d4ebff;}#sk-container-id-1 div.sk-label input.sk-toggleable__control:checked~label.sk-toggleable__label {background-color: #d4ebff;}#sk-container-id-1 input.sk-hidden--visually {border: 0;clip: rect(1px 1px 1px 1px);clip: rect(1px, 1px, 1px, 1px);height: 1px;margin: -1px;overflow: hidden;padding: 0;position: absolute;width: 1px;}#sk-container-id-1 div.sk-estimator {font-family: monospace;background-color: #f0f8ff;border: 1px dotted black;border-radius: 0.25em;box-sizing: border-box;margin-bottom: 0.5em;}#sk-container-id-1 div.sk-estimator:hover {background-color: #d4ebff;}#sk-container-id-1 div.sk-parallel-item::after {content: \"\";width: 100%;border-bottom: 1px solid gray;flex-grow: 1;}#sk-container-id-1 div.sk-label:hover label.sk-toggleable__label {background-color: #d4ebff;}#sk-container-id-1 div.sk-serial::before {content: \"\";position: absolute;border-left: 1px solid gray;box-sizing: border-box;top: 0;bottom: 0;left: 50%;z-index: 0;}#sk-container-id-1 div.sk-serial {display: flex;flex-direction: column;align-items: center;background-color: white;padding-right: 0.2em;padding-left: 0.2em;position: relative;}#sk-container-id-1 div.sk-item {position: relative;z-index: 1;}#sk-container-id-1 div.sk-parallel {display: flex;align-items: stretch;justify-content: center;background-color: white;position: relative;}#sk-container-id-1 div.sk-item::before, #sk-container-id-1 div.sk-parallel-item::before {content: \"\";position: absolute;border-left: 1px solid gray;box-sizing: border-box;top: 0;bottom: 0;left: 50%;z-index: -1;}#sk-container-id-1 div.sk-parallel-item {display: flex;flex-direction: column;z-index: 1;position: relative;background-color: white;}#sk-container-id-1 div.sk-parallel-item:first-child::after {align-self: flex-end;width: 50%;}#sk-container-id-1 div.sk-parallel-item:last-child::after {align-self: flex-start;width: 50%;}#sk-container-id-1 div.sk-parallel-item:only-child::after {width: 0;}#sk-container-id-1 div.sk-dashed-wrapped {border: 1px dashed gray;margin: 0 0.4em 0.5em 0.4em;box-sizing: border-box;padding-bottom: 0.4em;background-color: white;}#sk-container-id-1 div.sk-label label {font-family: monospace;font-weight: bold;display: inline-block;line-height: 1.2em;}#sk-container-id-1 div.sk-label-container {text-align: center;}#sk-container-id-1 div.sk-container {/* jupyter's `normalize.less` sets `[hidden] { display: none; }` but bootstrap.min.css set `[hidden] { display: none !important; }` so we also need the `!important` here to be able to override the default hidden behavior on the sphinx rendered scikit-learn.org. See: https://github.com/scikit-learn/scikit-learn/issues/21755 */display: inline-block !important;position: relative;}#sk-container-id-1 div.sk-text-repr-fallback {display: none;}</style><div id=\"sk-container-id-1\" class=\"sk-top-container\"><div class=\"sk-text-repr-fallback\"><pre>VotingRegressor(estimators=[(&#x27;mlr&#x27;, LinearRegression()),\n",
       "                            (&#x27;dtr&#x27;, DecisionTreeRegressor()),\n",
       "                            (&#x27;svr&#x27;, SVR(kernel=&#x27;linear&#x27;))])</pre><b>In a Jupyter environment, please rerun this cell to show the HTML representation or trust the notebook. <br />On GitHub, the HTML representation is unable to render, please try loading this page with nbviewer.org.</b></div><div class=\"sk-container\" hidden><div class=\"sk-item sk-dashed-wrapped\"><div class=\"sk-label-container\"><div class=\"sk-label sk-toggleable\"><input class=\"sk-toggleable__control sk-hidden--visually\" id=\"sk-estimator-id-1\" type=\"checkbox\" ><label for=\"sk-estimator-id-1\" class=\"sk-toggleable__label sk-toggleable__label-arrow\">VotingRegressor</label><div class=\"sk-toggleable__content\"><pre>VotingRegressor(estimators=[(&#x27;mlr&#x27;, LinearRegression()),\n",
       "                            (&#x27;dtr&#x27;, DecisionTreeRegressor()),\n",
       "                            (&#x27;svr&#x27;, SVR(kernel=&#x27;linear&#x27;))])</pre></div></div></div><div class=\"sk-parallel\"><div class=\"sk-parallel-item\"><div class=\"sk-item\"><div class=\"sk-label-container\"><div class=\"sk-label sk-toggleable\"><label>mlr</label></div></div><div class=\"sk-serial\"><div class=\"sk-item\"><div class=\"sk-estimator sk-toggleable\"><input class=\"sk-toggleable__control sk-hidden--visually\" id=\"sk-estimator-id-2\" type=\"checkbox\" ><label for=\"sk-estimator-id-2\" class=\"sk-toggleable__label sk-toggleable__label-arrow\">LinearRegression</label><div class=\"sk-toggleable__content\"><pre>LinearRegression()</pre></div></div></div></div></div></div><div class=\"sk-parallel-item\"><div class=\"sk-item\"><div class=\"sk-label-container\"><div class=\"sk-label sk-toggleable\"><label>dtr</label></div></div><div class=\"sk-serial\"><div class=\"sk-item\"><div class=\"sk-estimator sk-toggleable\"><input class=\"sk-toggleable__control sk-hidden--visually\" id=\"sk-estimator-id-3\" type=\"checkbox\" ><label for=\"sk-estimator-id-3\" class=\"sk-toggleable__label sk-toggleable__label-arrow\">DecisionTreeRegressor</label><div class=\"sk-toggleable__content\"><pre>DecisionTreeRegressor()</pre></div></div></div></div></div></div><div class=\"sk-parallel-item\"><div class=\"sk-item\"><div class=\"sk-label-container\"><div class=\"sk-label sk-toggleable\"><label>svr</label></div></div><div class=\"sk-serial\"><div class=\"sk-item\"><div class=\"sk-estimator sk-toggleable\"><input class=\"sk-toggleable__control sk-hidden--visually\" id=\"sk-estimator-id-4\" type=\"checkbox\" ><label for=\"sk-estimator-id-4\" class=\"sk-toggleable__label sk-toggleable__label-arrow\">SVR</label><div class=\"sk-toggleable__content\"><pre>SVR(kernel=&#x27;linear&#x27;)</pre></div></div></div></div></div></div></div></div></div></div>"
      ],
      "text/plain": [
       "VotingRegressor(estimators=[('mlr', LinearRegression()),\n",
       "                            ('dtr', DecisionTreeRegressor()),\n",
       "                            ('svr', SVR(kernel='linear'))])"
      ]
     },
     "execution_count": 19,
     "metadata": {},
     "output_type": "execute_result"
    }
   ],
   "source": [
    "ensemble_regressor"
   ]
  },
  {
   "cell_type": "code",
   "execution_count": 20,
   "id": "d452822c",
   "metadata": {},
   "outputs": [
    {
     "data": {
      "text/html": [
       "<style>#sk-container-id-2 {color: black;background-color: white;}#sk-container-id-2 pre{padding: 0;}#sk-container-id-2 div.sk-toggleable {background-color: white;}#sk-container-id-2 label.sk-toggleable__label {cursor: pointer;display: block;width: 100%;margin-bottom: 0;padding: 0.3em;box-sizing: border-box;text-align: center;}#sk-container-id-2 label.sk-toggleable__label-arrow:before {content: \"▸\";float: left;margin-right: 0.25em;color: #696969;}#sk-container-id-2 label.sk-toggleable__label-arrow:hover:before {color: black;}#sk-container-id-2 div.sk-estimator:hover label.sk-toggleable__label-arrow:before {color: black;}#sk-container-id-2 div.sk-toggleable__content {max-height: 0;max-width: 0;overflow: hidden;text-align: left;background-color: #f0f8ff;}#sk-container-id-2 div.sk-toggleable__content pre {margin: 0.2em;color: black;border-radius: 0.25em;background-color: #f0f8ff;}#sk-container-id-2 input.sk-toggleable__control:checked~div.sk-toggleable__content {max-height: 200px;max-width: 100%;overflow: auto;}#sk-container-id-2 input.sk-toggleable__control:checked~label.sk-toggleable__label-arrow:before {content: \"▾\";}#sk-container-id-2 div.sk-estimator input.sk-toggleable__control:checked~label.sk-toggleable__label {background-color: #d4ebff;}#sk-container-id-2 div.sk-label input.sk-toggleable__control:checked~label.sk-toggleable__label {background-color: #d4ebff;}#sk-container-id-2 input.sk-hidden--visually {border: 0;clip: rect(1px 1px 1px 1px);clip: rect(1px, 1px, 1px, 1px);height: 1px;margin: -1px;overflow: hidden;padding: 0;position: absolute;width: 1px;}#sk-container-id-2 div.sk-estimator {font-family: monospace;background-color: #f0f8ff;border: 1px dotted black;border-radius: 0.25em;box-sizing: border-box;margin-bottom: 0.5em;}#sk-container-id-2 div.sk-estimator:hover {background-color: #d4ebff;}#sk-container-id-2 div.sk-parallel-item::after {content: \"\";width: 100%;border-bottom: 1px solid gray;flex-grow: 1;}#sk-container-id-2 div.sk-label:hover label.sk-toggleable__label {background-color: #d4ebff;}#sk-container-id-2 div.sk-serial::before {content: \"\";position: absolute;border-left: 1px solid gray;box-sizing: border-box;top: 0;bottom: 0;left: 50%;z-index: 0;}#sk-container-id-2 div.sk-serial {display: flex;flex-direction: column;align-items: center;background-color: white;padding-right: 0.2em;padding-left: 0.2em;position: relative;}#sk-container-id-2 div.sk-item {position: relative;z-index: 1;}#sk-container-id-2 div.sk-parallel {display: flex;align-items: stretch;justify-content: center;background-color: white;position: relative;}#sk-container-id-2 div.sk-item::before, #sk-container-id-2 div.sk-parallel-item::before {content: \"\";position: absolute;border-left: 1px solid gray;box-sizing: border-box;top: 0;bottom: 0;left: 50%;z-index: -1;}#sk-container-id-2 div.sk-parallel-item {display: flex;flex-direction: column;z-index: 1;position: relative;background-color: white;}#sk-container-id-2 div.sk-parallel-item:first-child::after {align-self: flex-end;width: 50%;}#sk-container-id-2 div.sk-parallel-item:last-child::after {align-self: flex-start;width: 50%;}#sk-container-id-2 div.sk-parallel-item:only-child::after {width: 0;}#sk-container-id-2 div.sk-dashed-wrapped {border: 1px dashed gray;margin: 0 0.4em 0.5em 0.4em;box-sizing: border-box;padding-bottom: 0.4em;background-color: white;}#sk-container-id-2 div.sk-label label {font-family: monospace;font-weight: bold;display: inline-block;line-height: 1.2em;}#sk-container-id-2 div.sk-label-container {text-align: center;}#sk-container-id-2 div.sk-container {/* jupyter's `normalize.less` sets `[hidden] { display: none; }` but bootstrap.min.css set `[hidden] { display: none !important; }` so we also need the `!important` here to be able to override the default hidden behavior on the sphinx rendered scikit-learn.org. See: https://github.com/scikit-learn/scikit-learn/issues/21755 */display: inline-block !important;position: relative;}#sk-container-id-2 div.sk-text-repr-fallback {display: none;}</style><div id=\"sk-container-id-2\" class=\"sk-top-container\"><div class=\"sk-text-repr-fallback\"><pre>VotingRegressor(estimators=[(&#x27;mlr&#x27;, LinearRegression()),\n",
       "                            (&#x27;dtr&#x27;, DecisionTreeRegressor()),\n",
       "                            (&#x27;svr&#x27;, SVR(kernel=&#x27;linear&#x27;))])</pre><b>In a Jupyter environment, please rerun this cell to show the HTML representation or trust the notebook. <br />On GitHub, the HTML representation is unable to render, please try loading this page with nbviewer.org.</b></div><div class=\"sk-container\" hidden><div class=\"sk-item sk-dashed-wrapped\"><div class=\"sk-label-container\"><div class=\"sk-label sk-toggleable\"><input class=\"sk-toggleable__control sk-hidden--visually\" id=\"sk-estimator-id-5\" type=\"checkbox\" ><label for=\"sk-estimator-id-5\" class=\"sk-toggleable__label sk-toggleable__label-arrow\">VotingRegressor</label><div class=\"sk-toggleable__content\"><pre>VotingRegressor(estimators=[(&#x27;mlr&#x27;, LinearRegression()),\n",
       "                            (&#x27;dtr&#x27;, DecisionTreeRegressor()),\n",
       "                            (&#x27;svr&#x27;, SVR(kernel=&#x27;linear&#x27;))])</pre></div></div></div><div class=\"sk-parallel\"><div class=\"sk-parallel-item\"><div class=\"sk-item\"><div class=\"sk-label-container\"><div class=\"sk-label sk-toggleable\"><label>mlr</label></div></div><div class=\"sk-serial\"><div class=\"sk-item\"><div class=\"sk-estimator sk-toggleable\"><input class=\"sk-toggleable__control sk-hidden--visually\" id=\"sk-estimator-id-6\" type=\"checkbox\" ><label for=\"sk-estimator-id-6\" class=\"sk-toggleable__label sk-toggleable__label-arrow\">LinearRegression</label><div class=\"sk-toggleable__content\"><pre>LinearRegression()</pre></div></div></div></div></div></div><div class=\"sk-parallel-item\"><div class=\"sk-item\"><div class=\"sk-label-container\"><div class=\"sk-label sk-toggleable\"><label>dtr</label></div></div><div class=\"sk-serial\"><div class=\"sk-item\"><div class=\"sk-estimator sk-toggleable\"><input class=\"sk-toggleable__control sk-hidden--visually\" id=\"sk-estimator-id-7\" type=\"checkbox\" ><label for=\"sk-estimator-id-7\" class=\"sk-toggleable__label sk-toggleable__label-arrow\">DecisionTreeRegressor</label><div class=\"sk-toggleable__content\"><pre>DecisionTreeRegressor()</pre></div></div></div></div></div></div><div class=\"sk-parallel-item\"><div class=\"sk-item\"><div class=\"sk-label-container\"><div class=\"sk-label sk-toggleable\"><label>svr</label></div></div><div class=\"sk-serial\"><div class=\"sk-item\"><div class=\"sk-estimator sk-toggleable\"><input class=\"sk-toggleable__control sk-hidden--visually\" id=\"sk-estimator-id-8\" type=\"checkbox\" ><label for=\"sk-estimator-id-8\" class=\"sk-toggleable__label sk-toggleable__label-arrow\">SVR</label><div class=\"sk-toggleable__content\"><pre>SVR(kernel=&#x27;linear&#x27;)</pre></div></div></div></div></div></div></div></div></div></div>"
      ],
      "text/plain": [
       "VotingRegressor(estimators=[('mlr', LinearRegression()),\n",
       "                            ('dtr', DecisionTreeRegressor()),\n",
       "                            ('svr', SVR(kernel='linear'))])"
      ]
     },
     "execution_count": 20,
     "metadata": {},
     "output_type": "execute_result"
    }
   ],
   "source": [
    "ensemble_regressor.fit(X_train, y_train)"
   ]
  },
  {
   "cell_type": "code",
   "execution_count": 21,
   "id": "a843e392",
   "metadata": {},
   "outputs": [],
   "source": [
    "y_pred = ensemble_regressor.predict(X_test)"
   ]
  },
  {
   "cell_type": "code",
   "execution_count": 22,
   "id": "ec3ada07",
   "metadata": {},
   "outputs": [
    {
     "data": {
      "text/plain": [
       "array([ 1.72756747e+02,  4.84946026e+01, -2.08447761e+02,  8.30864720e+01,\n",
       "       -1.58003753e+02, -1.14882365e+02,  6.96565166e+00, -6.47303019e+01,\n",
       "       -1.16515679e+01,  2.14985948e+02,  2.53446203e+02,  1.93114801e+02,\n",
       "       -3.24972387e+01, -8.97894649e+00, -5.22045683e+01, -3.23287121e+01,\n",
       "        7.29258878e+01, -5.96700972e+01, -5.02468181e+01,  2.57486916e+01,\n",
       "       -5.82022703e+01, -1.63967675e+02,  3.30436131e+01, -2.00802975e+02,\n",
       "        5.01120171e+01,  5.94817159e+01, -1.19129497e+02,  1.95994972e+01,\n",
       "        1.70472094e+02, -7.07048962e+01, -3.72296518e+01, -5.76395537e+01,\n",
       "        3.96157925e+01, -2.33132917e+02,  5.75273084e+00,  8.26201046e+01,\n",
       "        6.04705081e+01, -8.32025829e+01, -2.58675808e+01,  7.44365487e+01,\n",
       "        5.46961541e+01,  7.24087486e+00,  4.65603555e+01, -2.44403131e+02,\n",
       "       -5.80105946e+01,  1.65646953e+02, -1.33310467e+02,  1.01137557e+02,\n",
       "        3.66610650e+01,  9.12710357e+01,  1.40393823e+02, -3.30182786e+01,\n",
       "       -7.23468842e+01,  1.25753111e+02, -6.51903671e+01,  1.18148405e+02,\n",
       "        2.14345187e+01,  4.47993327e+01,  1.25463077e+02, -2.14149587e+02,\n",
       "       -3.13966018e+01,  3.63281347e+01, -1.14690057e+02,  1.36514000e+02,\n",
       "        4.00395282e+01, -1.83678367e+02, -8.16154821e+01,  1.35742483e+02,\n",
       "       -4.10239593e+01,  1.72541091e+02,  2.58654930e+02, -6.87583644e+01,\n",
       "        1.89353133e+01,  6.97511025e+01,  5.55145491e+01, -1.67929022e+02,\n",
       "        1.55572069e+02,  7.55682288e-01, -7.13104202e+01, -2.74098115e+01,\n",
       "        2.69360074e+02, -1.13259661e+02, -1.06825699e+02, -2.24015220e+00,\n",
       "        2.28745870e+02, -6.81993517e+01, -1.06250198e+02,  6.29818725e+01,\n",
       "        2.74873963e+02, -1.37529658e+02, -7.54100346e+01, -2.19759766e+02,\n",
       "       -1.07511821e+02,  1.07396034e+02,  9.19890308e+01, -4.52936746e+01,\n",
       "       -9.63984312e+01, -2.60157998e+02,  9.53425797e+01, -1.76372439e+02,\n",
       "       -2.26598337e+01,  6.88244711e+01, -4.61780459e+01,  4.55567100e+01,\n",
       "        2.22943997e+02,  1.70777630e+02,  4.79621061e+00,  5.80726566e+01,\n",
       "       -6.76507963e+01, -1.10278544e+02, -2.93660512e-01,  7.64627086e+01,\n",
       "        4.64782783e+01, -1.50899124e+02,  5.10979051e+00,  6.71873942e+01,\n",
       "        1.73572693e+02, -1.05185630e+02,  7.19259078e+01,  4.12519524e+01,\n",
       "       -2.67240028e+02, -4.72403012e+01,  3.02836019e+00, -1.78571396e+02,\n",
       "       -1.12394089e+02, -1.26175596e+02, -1.69538477e+01,  3.41801914e+01,\n",
       "        5.71025907e+00,  1.97435940e+02, -1.49237872e+02,  9.27366722e+01,\n",
       "        1.44613897e+02, -1.38106250e+02, -3.67179520e+01, -9.97476062e+01,\n",
       "        2.19285347e+02, -5.38670240e+01,  1.12009429e+02,  1.94939648e+01,\n",
       "       -6.54528830e+01,  1.30672618e+02,  8.51736798e+01, -2.10457827e+01,\n",
       "       -9.41601818e+01, -2.50041321e+02,  8.44236425e+00,  4.82378645e+01,\n",
       "        2.38694525e+01,  1.86220088e+02,  5.48771559e+01,  1.27974588e+02,\n",
       "        1.41101943e+01, -1.14004903e+02,  2.29719907e+02,  1.11882446e+02,\n",
       "        2.87328650e+01, -6.03089709e+01, -1.03493601e+02,  6.74304305e+00,\n",
       "       -5.90463899e+01,  5.02632560e+01, -2.14493846e+02,  1.23418824e+02,\n",
       "        2.35225634e+01, -2.40066910e+01,  1.05478429e+01,  2.46050432e+02,\n",
       "       -8.33965225e+01, -1.44745887e+01, -7.16807277e+01,  1.40781532e+01,\n",
       "        1.96018435e+02,  2.29604466e+02, -7.24810824e+01, -2.76969944e+01,\n",
       "        2.72089374e+01,  1.00858806e+02, -2.29247042e+01,  1.52308556e+02,\n",
       "       -1.54899235e+02,  2.41374318e+02,  1.65715727e+02, -3.94024184e+01,\n",
       "       -1.44417482e+02,  2.30152672e+02,  1.34379238e+02,  3.04003637e+00,\n",
       "        2.75755383e+01, -1.79297514e+02,  9.50621486e+01,  4.12091776e+00,\n",
       "        1.52212637e+02, -4.44942137e+01,  5.86320312e+01,  8.07706318e+00,\n",
       "       -5.08159065e+01, -2.04209888e+01, -1.98641483e+01, -2.33019093e+02,\n",
       "        9.88632352e+01,  2.27518926e+02,  2.29221258e+01,  8.41613434e+01,\n",
       "        3.83170245e+01,  5.66712223e+01,  2.52995296e+01,  2.51183014e+00,\n",
       "       -4.85855769e+00,  7.64091307e+01, -6.87404116e+01,  1.57141154e+02,\n",
       "        7.99399310e+01, -4.49958615e+01, -8.60902758e+01, -1.32576178e+02,\n",
       "        5.53170402e+01,  6.35614274e+01,  1.15844828e+01, -7.36489575e+01,\n",
       "        1.57245370e+02, -1.98821485e+02, -1.52015949e+01, -3.48108511e+00,\n",
       "       -2.13609705e+02,  7.03164405e+01,  2.47787565e+01, -1.24278838e+02,\n",
       "       -4.65601356e+01, -1.12236909e+02,  3.09173037e+01, -2.71777097e+01,\n",
       "       -6.95985209e+01, -4.81663599e+01, -3.15003989e+01,  3.61708748e+01,\n",
       "        1.02812991e+02,  1.08204525e+02, -9.25641001e+01,  1.45460378e+01,\n",
       "       -3.26177018e+01,  6.64619927e+00, -1.02327588e+02,  8.98889618e+01,\n",
       "        2.77807483e+02, -3.04774105e+01, -2.04149421e+02,  1.07992103e+02,\n",
       "       -1.09058113e+02, -1.31294221e+01, -1.25087510e+02, -2.86430558e+01,\n",
       "        2.22652005e+02,  7.20683182e+01, -2.25178597e+01, -4.68187229e+01,\n",
       "       -9.33352791e+00, -5.14991799e+01,  1.86733298e+02, -1.59917374e+01,\n",
       "        1.49744441e+02, -7.46499985e+01, -1.25699240e+02,  1.23402793e+02,\n",
       "       -3.64417815e+01,  3.21258300e+01,  2.57751970e+01,  3.07124614e+01,\n",
       "        5.16621185e+01,  5.39173970e+01, -2.63186028e+02, -5.08716999e+01,\n",
       "       -1.41169053e+02, -2.76435561e+01, -4.05202770e+01,  1.40578697e+02,\n",
       "       -3.30971747e+01,  1.45994873e+02,  9.43177178e+01, -6.25176034e+01,\n",
       "       -8.46554999e+01,  1.14813909e+02,  6.50705530e+00,  1.72599634e+02,\n",
       "       -1.03249583e+02,  1.07805686e+02,  4.53858347e+01, -1.28061233e+02,\n",
       "       -2.37280767e+02,  6.50465446e+00,  3.57640701e+01, -9.15075732e+01,\n",
       "        4.16409982e+01, -6.23924865e+01, -1.57502656e+02,  1.80603756e+02,\n",
       "       -2.77531505e+02,  5.43942584e+01, -1.87375954e+02, -1.57879194e+02,\n",
       "       -5.09204717e+00,  1.88614085e+02, -7.26848757e+01, -5.66017944e+01,\n",
       "        6.79285941e+01,  8.96253871e+00, -1.42497692e+02,  6.44227546e+01,\n",
       "        1.57205677e+02,  2.13137859e+02,  1.13650696e+02,  1.46451141e+02,\n",
       "       -2.56043263e+01,  7.93489556e+01, -3.90668728e+01, -6.43682317e+01,\n",
       "       -3.47495828e+01,  1.67282665e+02, -2.03340860e+01,  9.34342296e+01,\n",
       "        1.39607947e+01, -3.88893074e+01,  1.10276117e+02, -9.49358299e+01,\n",
       "       -6.38473682e+01,  8.94962391e+01, -1.14361628e+01,  2.72005516e+01,\n",
       "       -2.51161958e+01,  1.86192385e+02,  7.43002064e+01, -3.25113716e+01,\n",
       "       -1.45903144e+02,  2.02307940e+02,  2.43026962e+01, -1.04502687e+02,\n",
       "        2.47711903e+02, -1.09455427e+02,  2.81846529e+01,  5.26305678e+00,\n",
       "        1.04041180e+02,  1.61313393e+02,  1.85269196e+02, -4.03352823e+01,\n",
       "       -2.10100619e+00, -3.35390080e+01,  7.81852558e+01,  1.70220550e+02,\n",
       "       -1.50866231e+02, -9.42231762e+01, -1.29220950e+02, -1.11701225e+02,\n",
       "        5.76540510e+01, -1.07575887e+02, -1.00095815e+02,  9.85634709e+01,\n",
       "       -1.03375599e+02, -5.54499874e+01,  3.42715459e+02,  4.91795736e+01,\n",
       "        2.63801306e+01, -3.02818505e+01, -2.72809441e+01, -2.98831914e+00,\n",
       "       -9.91242614e+01,  9.29591109e+00,  1.63268478e+02, -2.50489620e+02,\n",
       "        1.91419522e+02,  6.21517651e+01,  1.26992157e+02,  1.40375502e+02,\n",
       "       -1.08653932e+02, -1.76962992e+02, -3.99491945e+01,  9.94122957e+01,\n",
       "       -1.76100364e+00, -1.03777935e+02, -1.21857116e+02,  2.97516342e+01,\n",
       "       -2.60711797e+02,  6.91773509e+01,  8.03046309e+01,  1.81352384e+02,\n",
       "        2.15547522e+02,  2.50916888e+01,  7.83157317e+01,  9.34335432e+01,\n",
       "        7.39546621e+01, -2.99066772e+01,  1.46372354e+02,  6.04956675e+01,\n",
       "       -2.46643293e+02,  1.27830666e+02,  3.94669765e+01, -2.01994408e+02,\n",
       "       -8.45210144e+01, -9.28742792e+01, -2.76386325e+02, -1.32208354e+02,\n",
       "        1.80839503e+02, -2.35499953e+02,  1.14082591e+01, -3.05757569e+01,\n",
       "        1.50455123e+02,  5.04066381e+01,  5.67953203e+01, -1.74709854e+01,\n",
       "       -1.21446812e+02,  2.79921634e+02,  2.32374404e+01, -1.35276188e+02,\n",
       "        8.01055381e+01, -1.02919950e+02, -1.26028293e+01,  2.14541983e+01,\n",
       "        6.46809040e+01,  5.71598346e+01, -7.92686260e+01, -1.35328660e+02,\n",
       "       -1.32148966e+02, -8.35722805e+00, -3.18944641e+01, -6.26303397e+01,\n",
       "        2.95850156e+01,  2.84806161e+01,  1.51260675e+02, -1.46092912e+02,\n",
       "       -2.29096014e+02, -1.39989624e+02,  4.13027416e+01,  2.27521760e+02,\n",
       "       -1.43995984e+02,  8.38320948e+01, -2.34414029e+01, -4.77027622e+01,\n",
       "       -8.44104986e+01,  2.72587475e+02,  4.89388679e+01, -5.92409257e+01,\n",
       "       -8.84033739e+01,  2.47525087e+02, -2.57128993e+01,  1.11867719e+02,\n",
       "        1.29050533e+02, -3.66070453e+01,  2.64357777e+02, -4.95092567e+01,\n",
       "        2.16039196e+02, -2.30220613e+02, -4.46259223e+01,  2.13848260e+02,\n",
       "       -5.13547455e+00,  3.69937230e+02,  8.39729360e+01, -3.42411997e+01,\n",
       "        1.90745855e+01,  7.05050723e+01, -1.51755767e+02,  1.04481173e+02,\n",
       "        1.60619640e+01,  2.35379689e+02, -3.58748137e+01, -1.39809420e+02,\n",
       "        1.87148402e+00, -2.68512773e+00, -1.31115872e+02,  8.03150856e+00,\n",
       "       -1.21244203e+02, -3.21474182e+01,  2.82924942e+01,  6.40276740e+01,\n",
       "        2.80089477e+02,  1.57880091e+02, -3.52735125e+02,  5.37589679e+01,\n",
       "        1.63523524e+02,  1.41147911e+02, -5.70895068e+01, -1.34640823e+02,\n",
       "        7.39315491e+01, -3.19889763e+02, -1.81245880e+01,  7.06395295e+01,\n",
       "       -1.91560090e+02, -4.44827739e+01, -2.05165968e+01,  1.95868000e+02,\n",
       "       -1.04754960e+02, -1.20056487e+02,  3.64356939e+01,  1.18154108e+02,\n",
       "       -3.75526284e+00, -1.46365182e+01,  1.23830221e+02, -6.12741144e+01,\n",
       "       -1.09694838e+02,  9.01950359e+00,  6.77877960e+01, -1.23618689e+02,\n",
       "        1.88058122e+00,  3.89710048e+01, -7.66246000e+01, -1.14642798e+02,\n",
       "       -2.94535937e+00,  9.59809583e+01,  2.21102166e+02, -1.77346751e+02,\n",
       "       -8.13057026e+01, -1.51231882e+01,  1.33652743e+02, -2.61385970e+02,\n",
       "        1.85576366e+02,  2.58764689e+01, -8.85991173e+01, -9.22608592e+01,\n",
       "        1.62585725e+02, -4.31800474e+01, -4.83450213e+01, -8.99887807e+01,\n",
       "        8.67213866e+01,  9.45156962e+01, -3.66494488e+01,  1.30733433e+02,\n",
       "       -8.20299607e+01,  4.89657815e+01,  1.74973540e+02, -2.43737016e+02,\n",
       "       -5.25099265e+01,  1.08037931e+02, -1.82306120e+02,  8.47648414e+01,\n",
       "       -2.88180236e+02,  5.93500380e+01,  9.64778459e+00,  1.98309221e+00,\n",
       "       -9.56256587e+01,  2.42384475e+02,  9.68280344e+01,  1.21952785e+02,\n",
       "        8.67619634e+01, -1.07447343e+01,  1.26999154e+02,  6.15479661e+01,\n",
       "       -1.37199739e+01,  1.19171199e+01, -1.98784212e+02,  1.42621409e+02,\n",
       "        7.57397135e+01,  4.16011813e+01,  6.63597920e+01,  1.29553403e+02,\n",
       "        1.34656393e+02, -4.98243049e+01,  7.69925625e+00,  4.96054847e+01,\n",
       "       -1.83610432e+02,  2.36171517e+01,  6.45152137e+01,  6.19184402e+01,\n",
       "       -7.10357261e+01,  3.69753865e+01,  1.64522906e+02, -9.23146796e+01,\n",
       "       -1.12739978e+02,  2.51951661e+01,  2.49098804e+02, -2.04454305e+02,\n",
       "        2.97246666e+01,  1.67601020e+01,  3.53554884e+01,  1.27139493e+01,\n",
       "       -5.99814909e-01,  1.10879985e+02, -3.49518717e+01,  9.32225244e+01,\n",
       "        2.64141815e+01,  2.72413978e+01, -7.21248287e+01,  6.29170908e+01,\n",
       "       -2.79373159e+02, -2.44672063e+01,  1.38238531e+02,  1.82063043e+02,\n",
       "        1.14773557e+02, -7.55460528e+01, -3.68344221e+01, -1.11839346e+01,\n",
       "        7.14632830e+01, -1.21008876e+02,  3.00302361e+01,  6.18262566e+01,\n",
       "       -1.24638210e+02,  8.75395965e+01, -1.97790658e+01, -2.92089969e+01,\n",
       "       -2.47767286e+01, -1.64626267e+02,  1.98970238e+02, -1.14190155e+02,\n",
       "       -1.97219879e+02,  5.61302039e+01,  3.81516290e+01, -3.10263903e+02,\n",
       "        4.82690099e+01,  2.35243695e+02, -2.68931108e+01, -1.28739901e+02,\n",
       "       -1.92810461e+02, -4.24501952e+01, -1.34606690e+01,  1.34592723e+02,\n",
       "       -1.99313811e+02, -1.18724588e+02, -1.85257883e+01, -5.04082559e+01,\n",
       "        1.47666758e+02,  2.69502439e+01, -1.17333837e+02, -9.57390838e+01,\n",
       "       -4.38682897e+01,  1.69074617e+02,  7.33786332e+01,  1.78803315e+02,\n",
       "        6.99822689e+01,  3.38401363e+01,  9.59317451e+01, -3.76597316e+01,\n",
       "        4.39670841e+01, -3.31966582e+01, -4.96707394e+01, -5.73375065e+00,\n",
       "        4.97100962e+01,  7.62751453e+01, -3.08242043e+01,  2.35461584e+02,\n",
       "       -2.86413774e+01, -1.83427129e+02,  4.01213147e+01,  2.72275165e+01,\n",
       "       -2.80806706e+01, -4.08382739e+01,  8.56259941e+01, -1.99321583e+02,\n",
       "       -1.14181353e+02, -8.77664878e+01, -1.08054166e+01,  1.70842432e+02,\n",
       "       -4.22157829e+01,  6.52515886e+01, -5.16059061e+01,  1.11568638e+02,\n",
       "        1.03791413e+02, -2.98521167e+02,  6.54973434e+01,  5.31363621e+01,\n",
       "        4.37253061e+01,  1.56934579e+02,  1.47254591e+02,  1.70624570e+02,\n",
       "        3.60104322e+01,  4.36124150e+01,  2.83636194e+02, -1.78463308e+02,\n",
       "       -1.43872071e+02, -9.48797814e+01,  2.30428772e+02, -1.07329092e+02,\n",
       "       -3.65119797e+01,  9.37627955e+01, -5.55348649e+01, -1.45937662e+02,\n",
       "        2.15573846e+01,  2.18061129e+02,  1.23729762e+02, -8.00559845e+01,\n",
       "        1.73309131e+02,  6.40784815e+01, -1.36778484e+01,  2.21082780e+02,\n",
       "        1.12071692e+02, -3.42623936e+01, -1.31190848e+01, -2.06802362e+02,\n",
       "       -7.06843541e+01,  1.57381912e+01, -2.43038996e+02,  1.03313536e+02,\n",
       "       -1.22507973e+02,  1.26117694e+02, -1.11812182e+02, -2.30885287e+01,\n",
       "        2.85886797e+01,  1.30705181e+02, -8.26263119e+01, -2.84887079e+02,\n",
       "       -2.02624979e+02,  3.09422617e+02, -4.02685104e+00, -1.62043009e+01,\n",
       "        7.30349188e+01,  2.28590655e+01, -6.25172218e+01,  1.99699031e+02,\n",
       "       -1.25840359e+02, -1.01192120e+02, -1.86285681e+02, -8.82968586e+01,\n",
       "       -1.09485306e+02,  8.72173883e+01, -2.27764330e+02,  6.41555101e+01,\n",
       "       -7.80651107e+00,  5.61018567e+01, -6.38056569e+01, -2.44936125e+02,\n",
       "        7.36040131e+01,  1.02393366e+02, -5.90754514e+01,  7.75264638e+01,\n",
       "        2.07929559e+01, -7.31389013e+01,  3.35013742e+01, -6.43121668e+01,\n",
       "        1.85363728e+01, -4.02176590e+01,  2.13972901e+01,  9.00082962e+01,\n",
       "       -1.68638685e+02, -2.80091189e+00, -1.91166874e+01, -4.38108708e+01,\n",
       "       -6.20674328e+01, -9.08633134e+00, -1.51024547e+01, -3.75669672e+01,\n",
       "        6.65422187e+00, -4.60204996e+01,  7.78142972e+01, -5.24638502e+01,\n",
       "       -2.90748506e+01,  2.47449181e+02,  1.59695471e+02, -3.83287728e+01,\n",
       "        2.12865043e+02, -2.38916423e+02,  7.18088264e+01, -7.63703409e+01,\n",
       "        4.04561643e+01, -1.91992325e+02, -1.06799078e+02,  2.75698640e+01,\n",
       "        1.73576982e+02, -1.18407694e+00,  2.75073077e+01,  2.05437522e+02,\n",
       "        8.36003589e+01, -8.04957955e+01, -4.59476994e+01,  9.81352411e+01,\n",
       "       -7.35881176e+01, -2.49989791e+01, -7.37092667e+01,  4.91344583e+01,\n",
       "        3.87446744e+01,  9.46260062e+01,  2.46085678e+02,  3.03614360e+01,\n",
       "        2.19806222e+02, -3.58292690e+01, -3.10907654e+02,  2.16135238e+02,\n",
       "       -1.80630340e+02,  1.47147193e+02, -9.48680100e+01,  1.88895730e+02,\n",
       "        6.55783908e+01,  3.07327163e+01, -5.29090315e+01, -1.71397307e+02,\n",
       "        1.60931422e+02, -1.12288749e+01, -8.09470436e+01, -6.89305652e+01,\n",
       "       -2.60430517e+02,  4.06116254e+01,  2.82760694e+00,  8.02994583e+00,\n",
       "       -1.31998166e+02, -2.64515416e+01, -1.26771891e+02, -1.08416353e+02,\n",
       "       -9.91027648e+01,  6.39219408e+01, -2.31709682e+01, -4.53001976e+01,\n",
       "        9.04118715e+00,  1.29192107e+02, -1.41297657e+02, -6.13835972e+01])"
      ]
     },
     "execution_count": 22,
     "metadata": {},
     "output_type": "execute_result"
    }
   ],
   "source": [
    "y_pred"
   ]
  },
  {
   "cell_type": "code",
   "execution_count": 23,
   "id": "9b621d6f",
   "metadata": {},
   "outputs": [
    {
     "data": {
      "text/plain": [
       "0.939292185096487"
      ]
     },
     "execution_count": 23,
     "metadata": {},
     "output_type": "execute_result"
    }
   ],
   "source": [
    "from sklearn.metrics import r2_score\n",
    "r2_score(y_test, y_pred)"
   ]
  },
  {
   "cell_type": "code",
   "execution_count": null,
   "id": "debad67a",
   "metadata": {},
   "outputs": [],
   "source": []
  }
 ],
 "metadata": {
  "kernelspec": {
   "display_name": "Python 3 (ipykernel)",
   "language": "python",
   "name": "python3"
  },
  "language_info": {
   "codemirror_mode": {
    "name": "ipython",
    "version": 3
   },
   "file_extension": ".py",
   "mimetype": "text/x-python",
   "name": "python",
   "nbconvert_exporter": "python",
   "pygments_lexer": "ipython3",
   "version": "3.11.7"
  }
 },
 "nbformat": 4,
 "nbformat_minor": 5
}
